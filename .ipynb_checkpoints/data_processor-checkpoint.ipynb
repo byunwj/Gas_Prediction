{
 "cells": [
  {
   "cell_type": "code",
   "execution_count": 196,
   "id": "3341dd6f",
   "metadata": {},
   "outputs": [],
   "source": [
    "import pandas as pd\n",
    "import numpy as np\n",
    "from sklearn.preprocessing import MinMaxScaler\n",
    "from pickle import dump, load\n",
    "import shutil\n"
   ]
  },
  {
   "cell_type": "code",
   "execution_count": 170,
   "id": "479cf1b8",
   "metadata": {},
   "outputs": [],
   "source": [
    "class data_processor():\n",
    "    \n",
    "    def __init__(self):\n",
    "        self.years     = [2013, 2014, 2015, 2016, 2017, 2018]\n",
    "        self.suppliers = ['A', 'B', 'C', 'D', 'E', 'G', 'H']\n",
    "        self.datas     = self.load_data()\n",
    "        self.month_nums  = [31, 28, 31, 30, 31, 30, 31, 31, 30, 31, 30, 31]\n",
    "        \n",
    "    \n",
    "    def load_data(self):\n",
    "        datas = dict()\n",
    "        for supplier in suppliers:\n",
    "            datas['data_{}'.format(supplier)] = pd.read_csv('./Data/supplier_{}.csv'.format(supplier)) \n",
    "        \n",
    "        return datas\n",
    "    \n",
    "    def get_december_data(self, datas):\n",
    "        # getting the last day of december (31st) of each year except 2018\n",
    "        \n",
    "        training_12_all = []\n",
    "        for key in datas.keys():\n",
    "            training_12  = datas[key][ (datas[key]['month'] == 12) & \\\n",
    "                                      (datas[key]['year'].isin([2013, 2014, 2015,2016, 2017])) ].reset_index(drop = True)\n",
    "\n",
    "\n",
    "            ### for cutting out all december days except the 31st\n",
    "            training_12 = training_12.sort_values(['year', 'month','day']).reset_index(drop=True)\n",
    "\n",
    "            #print(training_12['year'].value_counts())\n",
    "            training_12_cut = []\n",
    "            for i in range(1,6):\n",
    "                training_12_cut.append(training_12.iloc[(744*i)-24:744*i])\n",
    "\n",
    "            training_12_final = pd.concat(training_12_cut, axis = 0).reset_index(drop=True)\n",
    "            #print(training_12_final['year'].value_counts())\n",
    "            \n",
    "            training_12_all.append(training_12_final)\n",
    "            \n",
    "        \n",
    "        return training_12_all\n",
    "    \n",
    "    def get_jan_march_data(self, datas):\n",
    "        \n",
    "        training_1_3_all = []\n",
    "        \n",
    "        for key in datas.keys():  \n",
    "            training_1_3 = datas[key][ (datas[key]['month'].isin([1,2,3])) & \\\n",
    "                             (datas[key]['year'].isin([2014, 2015, 2016, 2017, 2018])) ].reset_index(drop = True)\n",
    "            \n",
    "            training_1_3_all.append(training_1_3)\n",
    "        \n",
    "        return training_1_3_all\n",
    "    \n",
    "    def combine_data(self, training_12_all, training_1_3_all):\n",
    "        \n",
    "        combined_all = []\n",
    "        \n",
    "        assert len(training_12_all) == len(training_1_3_all), \"december and jan-march data lengths should match\"\n",
    "        \n",
    "        for i in range(len(training_12_all)):\n",
    "            training = pd.concat([training_12_all[i], training_1_3_all[i]], axis = 0).reset_index(drop=True)\n",
    "            training = training.sort_values(['year', 'month']).reset_index(drop=True)\n",
    "            \n",
    "            combined_all.append(training)\n",
    "        \n",
    "        return combined_all\n",
    "    \n",
    "    def separate_data(self, combined_data):\n",
    "        # separate 12/31 - 3/31 for each pair of year (e.g. 2013-2014, 2014-2015, etc.)\n",
    "        indices = []\n",
    "        for year in self.years[1:]: # march of 2014-2018\n",
    "            indices.append( combined_data[ (combined_data['year'] == year) & (combined_data['month'] == 3) &\\\n",
    "                           (combined_data['day'] == 31) & (combined_data['시간'] == 24)].index[0] )\n",
    "        print(indices)\n",
    "        training_sep = []\n",
    "        last_idx = 0\n",
    "        for idx in indices:\n",
    "            idx = idx + 1 \n",
    "            #if idx != training_A.shape[0] -1 else idx\n",
    "            training_sep.append(combined_data[last_idx:idx][['공급량', 'year', 'month', 'day', '시간']])\n",
    "            last_idx = idx\n",
    "        \n",
    "        return training_sep\n",
    "    \n",
    "    \n",
    "    def make_scalers(self, combined_all):\n",
    "        combined = combined_all[:]\n",
    "        # change pandas dataframe to numpy ndarray\n",
    "        for i in range(len(combined_all)): # loop through suppliers \n",
    "            supplier = combined[i]['구분'].iloc[0]\n",
    "            assert supplier == self.suppliers[i], 'suppliers should match'\n",
    "            combined[i] = combined[i][['공급량', 'year', 'month', 'day', '시간']].values\n",
    "            #print(combined[i].shape)\n",
    "            x_scaler = MinMaxScaler()\n",
    "            y_scaler = MinMaxScaler()\n",
    "            x_scaler.fit(combined[i])\n",
    "            y_scaler.fit(combined[i][:, [0]])\n",
    "            \n",
    "            path_x = './Scalers/x_scaler_{}.pkl'.format(supplier)\n",
    "            dump(x_scaler, open(path_x, 'wb'))\n",
    "            path_y = './Scalers/y_scaler_{}.pkl'.format(supplier)\n",
    "            dump(y_scaler, open(path_y, 'wb'))\n",
    "            \n",
    "        \n",
    "    \n",
    "    def create_LSTM_Input(self, data, seq_length, step_size):\n",
    "        final_data = np.zeros((data.shape[0]-seq_length, int(seq_length/step_size), data.shape[1]))\n",
    "\n",
    "        length = data.shape[0]\n",
    "\n",
    "        for i in range(final_data.shape[0]):\n",
    "            final_data[i] = data[i:i+seq_length:step_size]\n",
    "\n",
    "        return final_data\n",
    "\n",
    "    def create_LSTM_Output(self, data, seq_length):\n",
    "        final_output = []\n",
    "        length = data.shape[0]\n",
    "\n",
    "        for i in range(seq_length, length):\n",
    "            final_output.append(data[i])\n",
    "\n",
    "        final_output = np.array(final_output)\n",
    "        #final_output = np.expand_dims(final_output, axis = 1)\n",
    "\n",
    "        return final_output\n",
    "\n",
    "    \n",
    "    def separate_data_to_lstm_input(self, sep_data, x_scaler, y_scaler, seq_length): \n",
    "        # need to make each chunck 12-3 into lstm inputs SEPARATELY\n",
    "        lstm_input_lst = []\n",
    "        lstm_output_lst = []\n",
    "        for i in range(len(sep_data)):\n",
    "            sep_values = sep_data[i].values\n",
    "            x_norm = x_scaler.transform(sep_values)\n",
    "            #[:,[0, 4]]\n",
    "            y_norm = y_scaler.transform(sep_values[:, [0]])\n",
    "            lstm_input_lst.append(self.create_LSTM_Input(x_norm, seq_length, 1))\n",
    "            lstm_output_lst.append(self.create_LSTM_Output(y_norm, seq_length))\n",
    "\n",
    "\n",
    "        lstm_input = np.concatenate(lstm_input_lst, axis = 0)\n",
    "        lstm_output = np.concatenate(lstm_output_lst, axis = 0)\n",
    "        \n",
    "        return lstm_input, lstm_output\n",
    "        \n",
    "\n"
   ]
  },
  {
   "cell_type": "code",
   "execution_count": 171,
   "id": "41351dfa",
   "metadata": {},
   "outputs": [
    {
     "data": {
      "text/plain": [
       "'/Users/woojaebyun/Documents/Dacon_Gas_Prediction'"
      ]
     },
     "execution_count": 171,
     "metadata": {},
     "output_type": "execute_result"
    }
   ],
   "source": [
    "import os\n",
    "os.getcwd()"
   ]
  },
  {
   "cell_type": "code",
   "execution_count": null,
   "id": "c047613f",
   "metadata": {},
   "outputs": [],
   "source": []
  },
  {
   "cell_type": "code",
   "execution_count": 172,
   "id": "72afa374",
   "metadata": {},
   "outputs": [],
   "source": [
    "dp = data_processor()"
   ]
  },
  {
   "cell_type": "code",
   "execution_count": 173,
   "id": "0eb6103c",
   "metadata": {},
   "outputs": [
    {
     "data": {
      "text/plain": [
       "array([[1.901489e+03, 2.013000e+03, 1.200000e+01, 3.100000e+01,\n",
       "        1.000000e+00],\n",
       "       [1.706081e+03, 2.013000e+03, 1.200000e+01, 3.100000e+01,\n",
       "        2.000000e+00],\n",
       "       [1.533921e+03, 2.013000e+03, 1.200000e+01, 3.100000e+01,\n",
       "        3.000000e+00],\n",
       "       [1.611033e+03, 2.013000e+03, 1.200000e+01, 3.100000e+01,\n",
       "        4.000000e+00],\n",
       "       [1.792161e+03, 2.013000e+03, 1.200000e+01, 3.100000e+01,\n",
       "        5.000000e+00]])"
      ]
     },
     "execution_count": 173,
     "metadata": {},
     "output_type": "execute_result"
    }
   ],
   "source": [
    "dec_data = dp.get_december_data(dp.datas)\n",
    "jan_march_data = dp.get_jan_march_data(dp.datas)\n",
    "\n",
    "combined_all = dp.combine_data(dec_data, jan_march_data)\n",
    "\n",
    "combined_all[0][['공급량', 'year', 'month', 'day', '시간']].values[:5,]"
   ]
  },
  {
   "cell_type": "code",
   "execution_count": 192,
   "id": "252f8e6c",
   "metadata": {},
   "outputs": [
    {
     "name": "stdout",
     "output_type": "stream",
     "text": [
      "[2183, 4367, 6575, 8759, 10943]\n",
      "   Unnamed: 0         연월일  시간 구분       공급량  year  month  day\n",
      "0        8736  2013-12-31   1  B  1646.773  2013     12   31\n",
      "1        8737  2013-12-31   2  B  1412.293  2013     12   31\n",
      "2        8738  2013-12-31   3  B  1257.413  2013     12   31\n",
      "3        8739  2013-12-31   4  B  1293.573  2013     12   31\n",
      "4        8740  2013-12-31   5  B  1471.893  2013     12   31\n",
      "(10929, 3, 5)\n",
      "(10929, 1)\n"
     ]
    }
   ],
   "source": [
    "sep_data = dp.separate_data(combined_all[1])\n",
    "print(combined_all[1].iloc[:5])\n",
    "\n",
    "x_scaler = load(open('./Scalers/x_scaler_B.pkl', 'rb'))\n",
    "y_scaler = load(open('./Scalers/y_scaler_B.pkl', 'rb'))\n",
    "lstm_input, lstm_output = dp.separate_data_to_lstm_input(sep_data, x_scaler, y_scaler, 3)\n",
    "\n",
    "print(lstm_input.shape)\n",
    "print(lstm_output.shape)"
   ]
  },
  {
   "cell_type": "code",
   "execution_count": 193,
   "id": "7bc3ca7d",
   "metadata": {},
   "outputs": [],
   "source": [
    "from sklearn.model_selection import train_test_split\n",
    "\n",
    "train_x, valid_x, train_y, valid_y = train_test_split(lstm_input, lstm_output, test_size = 0.2, random_state = 1311, shuffle=True)\n"
   ]
  },
  {
   "cell_type": "code",
   "execution_count": 189,
   "id": "09a34493",
   "metadata": {},
   "outputs": [],
   "source": [
    "import tensorflow as tf\n",
    "\n",
    "from tensorflow.keras.layers import Reshape, Dense, Input, LSTM, Flatten, Concatenate, Bidirectional, BatchNormalization, Dropout, ReLU, Activation, ConvLSTM2D, RepeatVector\n",
    "from tensorflow.keras.models import Model\n",
    "from tensorflow.keras.optimizers import Adam\n",
    "from tensorflow.keras.callbacks import ModelCheckpoint, EarlyStopping\n"
   ]
  },
  {
   "cell_type": "code",
   "execution_count": 194,
   "id": "f3be9478",
   "metadata": {},
   "outputs": [
    {
     "name": "stdout",
     "output_type": "stream",
     "text": [
      "Model: \"model_4\"\n",
      "_________________________________________________________________\n",
      "Layer (type)                 Output Shape              Param #   \n",
      "=================================================================\n",
      "input_5 (InputLayer)         [(None, 3, 5)]            0         \n",
      "_________________________________________________________________\n",
      "lstm_8 (LSTM)                (None, 3, 20)             2080      \n",
      "_________________________________________________________________\n",
      "batch_normalization_12 (Batc (None, 3, 20)             80        \n",
      "_________________________________________________________________\n",
      "activation_12 (Activation)   (None, 3, 20)             0         \n",
      "_________________________________________________________________\n",
      "lstm_9 (LSTM)                (None, 3, 10)             1240      \n",
      "_________________________________________________________________\n",
      "batch_normalization_13 (Batc (None, 3, 10)             40        \n",
      "_________________________________________________________________\n",
      "activation_13 (Activation)   (None, 3, 10)             0         \n",
      "_________________________________________________________________\n",
      "flatten_4 (Flatten)          (None, 30)                0         \n",
      "_________________________________________________________________\n",
      "dense_8 (Dense)              (None, 32)                992       \n",
      "_________________________________________________________________\n",
      "batch_normalization_14 (Batc (None, 32)                128       \n",
      "_________________________________________________________________\n",
      "activation_14 (Activation)   (None, 32)                0         \n",
      "_________________________________________________________________\n",
      "dense_9 (Dense)              (None, 1)                 33        \n",
      "=================================================================\n",
      "Total params: 4,593\n",
      "Trainable params: 4,469\n",
      "Non-trainable params: 124\n",
      "_________________________________________________________________\n"
     ]
    },
    {
     "name": "stderr",
     "output_type": "stream",
     "text": [
      "/Users/woojaebyun/miniforge3/envs/mlp/lib/python3.8/site-packages/tensorflow/python/keras/optimizer_v2/optimizer_v2.py:374: UserWarning: The `lr` argument is deprecated, use `learning_rate` instead.\n",
      "  warnings.warn(\n"
     ]
    }
   ],
   "source": [
    "input_x = Input(shape=(3,5)) #(sequence length, num of features) for LSTM; i.e. 50 minutes (sequence of 50 minutes)\n",
    "\n",
    "x = LSTM(20, return_sequences=True)(input_x)\n",
    "x = BatchNormalization()(x)\n",
    "x = Activation('tanh')(x)\n",
    "\n",
    "x = LSTM(10, return_sequences=True)(x)\n",
    "x = BatchNormalization()(x)\n",
    "x = Activation('tanh')(x)\n",
    "\n",
    "x = Flatten()(x)\n",
    "\n",
    "x = Dense(32)(x)\n",
    "x = BatchNormalization()(x)\n",
    "x = Activation('relu')(x)\n",
    "\n",
    "output = Dense(1)(x)\n",
    "\n",
    "\n",
    "model = Model(inputs = input_x, outputs = output)\n",
    "model.compile(loss=\"mean_absolute_error\", optimizer = Adam(lr=0.001)) \n",
    "model.summary()\n"
   ]
  },
  {
   "cell_type": "code",
   "execution_count": 197,
   "id": "8666b883",
   "metadata": {},
   "outputs": [
    {
     "name": "stdout",
     "output_type": "stream",
     "text": [
      "Epoch 1/30\n"
     ]
    },
    {
     "name": "stderr",
     "output_type": "stream",
     "text": [
      "2021-10-21 22:28:52.233731: I tensorflow/core/grappler/optimizers/custom_graph_optimizer_registry.cc:112] Plugin optimizer for device_type GPU is enabled.\n",
      "2021-10-21 22:28:52.432208: I tensorflow/core/grappler/optimizers/custom_graph_optimizer_registry.cc:112] Plugin optimizer for device_type GPU is enabled.\n"
     ]
    },
    {
     "name": "stdout",
     "output_type": "stream",
     "text": [
      " 3/69 [>.............................] - ETA: 1s - loss: 0.5445  "
     ]
    },
    {
     "name": "stderr",
     "output_type": "stream",
     "text": [
      "2021-10-21 22:28:52.464410: I tensorflow/core/grappler/optimizers/custom_graph_optimizer_registry.cc:112] Plugin optimizer for device_type GPU is enabled.\n",
      "2021-10-21 22:28:52.517818: I tensorflow/core/grappler/optimizers/custom_graph_optimizer_registry.cc:112] Plugin optimizer for device_type GPU is enabled.\n",
      "2021-10-21 22:28:52.567655: I tensorflow/core/grappler/optimizers/custom_graph_optimizer_registry.cc:112] Plugin optimizer for device_type GPU is enabled.\n"
     ]
    },
    {
     "name": "stdout",
     "output_type": "stream",
     "text": [
      "69/69 [==============================] - ETA: 0s - loss: 0.2150"
     ]
    },
    {
     "name": "stderr",
     "output_type": "stream",
     "text": [
      "2021-10-21 22:28:54.495363: I tensorflow/core/grappler/optimizers/custom_graph_optimizer_registry.cc:112] Plugin optimizer for device_type GPU is enabled.\n",
      "2021-10-21 22:28:54.560682: I tensorflow/core/grappler/optimizers/custom_graph_optimizer_registry.cc:112] Plugin optimizer for device_type GPU is enabled.\n",
      "2021-10-21 22:28:54.584039: I tensorflow/core/grappler/optimizers/custom_graph_optimizer_registry.cc:112] Plugin optimizer for device_type GPU is enabled.\n"
     ]
    },
    {
     "name": "stdout",
     "output_type": "stream",
     "text": [
      "69/69 [==============================] - 3s 32ms/step - loss: 0.2150 - val_loss: 0.5613\n",
      "\n",
      "Epoch 00001: val_loss improved from inf to 0.56127, saving model to ./Models/training_A/Epoch_001_Val_0.561.hdf5\n",
      "Epoch 2/30\n",
      "69/69 [==============================] - 2s 26ms/step - loss: 0.1160 - val_loss: 0.5627\n",
      "\n",
      "Epoch 00002: val_loss did not improve from 0.56127\n",
      "Epoch 3/30\n",
      "69/69 [==============================] - 2s 26ms/step - loss: 0.1004 - val_loss: 0.5256\n",
      "\n",
      "Epoch 00003: val_loss improved from 0.56127 to 0.52564, saving model to ./Models/training_A/Epoch_003_Val_0.526.hdf5\n",
      "Epoch 4/30\n",
      "69/69 [==============================] - 2s 25ms/step - loss: 0.0922 - val_loss: 0.4009\n",
      "\n",
      "Epoch 00004: val_loss improved from 0.52564 to 0.40091, saving model to ./Models/training_A/Epoch_004_Val_0.401.hdf5\n",
      "Epoch 5/30\n",
      "69/69 [==============================] - 2s 25ms/step - loss: 0.0855 - val_loss: 0.3048\n",
      "\n",
      "Epoch 00005: val_loss improved from 0.40091 to 0.30479, saving model to ./Models/training_A/Epoch_005_Val_0.305.hdf5\n",
      "Epoch 6/30\n",
      "69/69 [==============================] - 2s 25ms/step - loss: 0.0838 - val_loss: 0.1942\n",
      "\n",
      "Epoch 00006: val_loss improved from 0.30479 to 0.19421, saving model to ./Models/training_A/Epoch_006_Val_0.194.hdf5\n",
      "Epoch 7/30\n",
      "69/69 [==============================] - 2s 25ms/step - loss: 0.0800 - val_loss: 0.1047\n",
      "\n",
      "Epoch 00007: val_loss improved from 0.19421 to 0.10467, saving model to ./Models/training_A/Epoch_007_Val_0.105.hdf5\n",
      "Epoch 8/30\n",
      "69/69 [==============================] - 2s 25ms/step - loss: 0.0770 - val_loss: 0.0850\n",
      "\n",
      "Epoch 00008: val_loss improved from 0.10467 to 0.08503, saving model to ./Models/training_A/Epoch_008_Val_0.085.hdf5\n",
      "Epoch 9/30\n",
      "69/69 [==============================] - 2s 25ms/step - loss: 0.0731 - val_loss: 0.0766\n",
      "\n",
      "Epoch 00009: val_loss improved from 0.08503 to 0.07663, saving model to ./Models/training_A/Epoch_009_Val_0.077.hdf5\n",
      "Epoch 10/30\n",
      "69/69 [==============================] - 2s 25ms/step - loss: 0.0726 - val_loss: 0.0741\n",
      "\n",
      "Epoch 00010: val_loss improved from 0.07663 to 0.07412, saving model to ./Models/training_A/Epoch_010_Val_0.074.hdf5\n",
      "Epoch 11/30\n",
      "69/69 [==============================] - 2s 26ms/step - loss: 0.0715 - val_loss: 0.1531\n",
      "\n",
      "Epoch 00011: val_loss did not improve from 0.07412\n",
      "Epoch 12/30\n",
      "69/69 [==============================] - 2s 26ms/step - loss: 0.0734 - val_loss: 0.2197\n",
      "\n",
      "Epoch 00012: val_loss did not improve from 0.07412\n",
      "Epoch 13/30\n",
      "69/69 [==============================] - 2s 26ms/step - loss: 0.0781 - val_loss: 0.2398\n",
      "\n",
      "Epoch 00013: val_loss did not improve from 0.07412\n",
      "Epoch 14/30\n",
      "69/69 [==============================] - 2s 25ms/step - loss: 0.0721 - val_loss: 0.1646\n",
      "\n",
      "Epoch 00014: val_loss did not improve from 0.07412\n",
      "Epoch 15/30\n",
      "69/69 [==============================] - 2s 25ms/step - loss: 0.0700 - val_loss: 0.1121\n",
      "\n",
      "Epoch 00015: val_loss did not improve from 0.07412\n",
      "Epoch 16/30\n",
      "69/69 [==============================] - 2s 25ms/step - loss: 0.0671 - val_loss: 0.0796\n",
      "\n",
      "Epoch 00016: val_loss did not improve from 0.07412\n",
      "Epoch 17/30\n",
      "69/69 [==============================] - 2s 25ms/step - loss: 0.0657 - val_loss: 0.0690\n",
      "\n",
      "Epoch 00017: val_loss improved from 0.07412 to 0.06900, saving model to ./Models/training_A/Epoch_017_Val_0.069.hdf5\n",
      "Epoch 18/30\n",
      "69/69 [==============================] - 2s 25ms/step - loss: 0.0638 - val_loss: 0.0681\n",
      "\n",
      "Epoch 00018: val_loss improved from 0.06900 to 0.06805, saving model to ./Models/training_A/Epoch_018_Val_0.068.hdf5\n",
      "Epoch 19/30\n",
      "69/69 [==============================] - 2s 25ms/step - loss: 0.0631 - val_loss: 0.0606\n",
      "\n",
      "Epoch 00019: val_loss improved from 0.06805 to 0.06060, saving model to ./Models/training_A/Epoch_019_Val_0.061.hdf5\n",
      "Epoch 20/30\n",
      "69/69 [==============================] - 2s 25ms/step - loss: 0.0612 - val_loss: 0.1891\n",
      "\n",
      "Epoch 00020: val_loss did not improve from 0.06060\n",
      "Epoch 21/30\n",
      "69/69 [==============================] - 2s 25ms/step - loss: 0.0608 - val_loss: 0.1368\n",
      "\n",
      "Epoch 00021: val_loss did not improve from 0.06060\n",
      "Epoch 22/30\n",
      "69/69 [==============================] - 2s 25ms/step - loss: 0.0591 - val_loss: 0.0851\n",
      "\n",
      "Epoch 00022: val_loss did not improve from 0.06060\n",
      "Epoch 23/30\n",
      "69/69 [==============================] - 2s 25ms/step - loss: 0.0586 - val_loss: 0.0713\n",
      "\n",
      "Epoch 00023: val_loss did not improve from 0.06060\n",
      "Epoch 24/30\n",
      "69/69 [==============================] - 2s 24ms/step - loss: 0.0556 - val_loss: 0.0838\n",
      "\n",
      "Epoch 00024: val_loss did not improve from 0.06060\n",
      "Epoch 25/30\n",
      "69/69 [==============================] - 2s 25ms/step - loss: 0.0555 - val_loss: 0.0900\n",
      "\n",
      "Epoch 00025: val_loss did not improve from 0.06060\n",
      "Epoch 26/30\n",
      "69/69 [==============================] - 2s 25ms/step - loss: 0.0534 - val_loss: 0.0619\n",
      "\n",
      "Epoch 00026: val_loss did not improve from 0.06060\n",
      "Epoch 27/30\n",
      "69/69 [==============================] - 2s 25ms/step - loss: 0.0560 - val_loss: 0.1959\n",
      "\n",
      "Epoch 00027: val_loss did not improve from 0.06060\n",
      "Epoch 28/30\n",
      "69/69 [==============================] - 2s 24ms/step - loss: 0.0587 - val_loss: 0.2993\n",
      "\n",
      "Epoch 00028: val_loss did not improve from 0.06060\n",
      "Epoch 29/30\n",
      "69/69 [==============================] - 2s 25ms/step - loss: 0.0559 - val_loss: 0.0920\n",
      "\n",
      "Epoch 00029: val_loss did not improve from 0.06060\n",
      "Epoch 00029: early stopping\n"
     ]
    }
   ],
   "source": [
    "es = EarlyStopping(monitor='val_loss', mode = 'min' , patience = 10, verbose = 1)\n",
    "\n",
    "path = './Models/training_{}'.format('')\n",
    "if os.path.isdir(path):\n",
    "    shutil.rmtree(path)\n",
    "\n",
    "os.makedirs(path, exist_ok = True)\n",
    "\n",
    "file_path = path + '/Epoch_{epoch:03d}_Val_{val_loss:.3f}.hdf5'\n",
    "mc = ModelCheckpoint(file_path, monitor='val_loss', mode='min',verbose=1, \\\n",
    "                     save_best_only=True, save_weights_only=True)\n",
    "\n",
    "hist = model.fit(train_x, train_y, batch_size = 128, epochs =30, validation_data = (valid_x, valid_y), callbacks = [es, mc])"
   ]
  },
  {
   "cell_type": "code",
   "execution_count": 180,
   "id": "04eec78f",
   "metadata": {},
   "outputs": [
    {
     "data": {
      "text/plain": [
       "[<matplotlib.lines.Line2D at 0x2ace50400>]"
      ]
     },
     "execution_count": 180,
     "metadata": {},
     "output_type": "execute_result"
    },
    {
     "data": {
      "image/png": "[encoded data removed]",
      "text/plain": [
       "<Figure size 432x288 with 1 Axes>"
      ]
     },
     "metadata": {
      "needs_background": "light"
     },
     "output_type": "display_data"
    }
   ],
   "source": [
    "from matplotlib import pyplot as plt\n",
    "plt.plot(hist.history['val_loss'])"
   ]
  },
  {
   "cell_type": "code",
   "execution_count": null,
   "id": "6607c92a",
   "metadata": {},
   "outputs": [],
   "source": []
  }
 ],
 "metadata": {
  "kernelspec": {
   "display_name": "Python 3 (ipykernel)",
   "language": "python",
   "name": "python3"
  },
  "language_info": {
   "codemirror_mode": {
    "name": "ipython",
    "version": 3
   },
   "file_extension": ".py",
   "mimetype": "text/x-python",
   "name": "python",
   "nbconvert_exporter": "python",
   "pygments_lexer": "ipython3",
   "version": "3.8.10"
  }
 },
 "nbformat": 4,
 "nbformat_minor": 5
}
