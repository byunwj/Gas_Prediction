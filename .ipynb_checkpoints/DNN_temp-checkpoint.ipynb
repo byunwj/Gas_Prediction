{
 "cells": [
  {
   "cell_type": "markdown",
   "metadata": {},
   "source": [
    "# 사용 패키지"
   ]
  },
  {
   "cell_type": "code",
   "execution_count": null,
   "metadata": {},
   "outputs": [],
   "source": [
    "!pip install xgboost"
   ]
  },
  {
   "cell_type": "code",
   "execution_count": 1,
   "metadata": {},
   "outputs": [
    {
     "name": "stdout",
     "output_type": "stream",
     "text": [
      "Init Plugin\n",
      "Init Graph Optimizer\n",
      "Init Kernel\n"
     ]
    }
   ],
   "source": [
    "import pandas as pd\n",
    "import numpy as np\n",
    "import matplotlib.pyplot as plt\n",
    "#import lightgbm as lgb\n",
    "#import xgboost as xgb\n",
    "import matplotlib.pyplot as plt\n",
    "\n",
    "import tensorflow as tf\n",
    "from tensorflow.keras import layers\n",
    "from tensorflow.keras.callbacks import ModelCheckpoint, EarlyStopping\n",
    "\n",
    "from sklearn.model_selection import train_test_split\n",
    "from sklearn.preprocessing import MinMaxScaler"
   ]
  },
  {
   "cell_type": "markdown",
   "metadata": {},
   "source": [
    "# 데이터 로드"
   ]
  },
  {
   "cell_type": "code",
   "execution_count": 3,
   "metadata": {},
   "outputs": [
    {
     "data": {
      "text/plain": [
       "(368088, 8)"
      ]
     },
     "execution_count": 3,
     "metadata": {},
     "output_type": "execute_result"
    }
   ],
   "source": [
    "total = pd.read_csv('./Data/한국가스공사_시간별 공급량_20181231.csv', encoding='cp949')\n",
    "total.columns = ['date', 'hour', 'company', 'gas']\n",
    "\n",
    "\n",
    "companys = total['company'].unique()\n",
    "company_map = dict()\n",
    "for i, company in enumerate(companys):\n",
    "    company_map[company] = i\n",
    "total['company'] = total['company'].map(company_map)\n",
    "total['date'] = pd.to_datetime(total['date'])\n",
    "total['year'] = total['date'].dt.year\n",
    "total['month'] = total['date'].dt.month\n",
    "total['day'] = total['date'].dt.day\n",
    "total['weekday'] = total['date'].dt.weekday\n",
    "\n",
    "total.head()\n",
    "total.shape"
   ]
  },
  {
   "cell_type": "code",
   "execution_count": 14,
   "metadata": {},
   "outputs": [
    {
     "data": {
      "text/plain": [
       "{'A': 0, 'B': 1, 'C': 2, 'D': 3, 'E': 4, 'G': 5, 'H': 6}"
      ]
     },
     "execution_count": 14,
     "metadata": {},
     "output_type": "execute_result"
    }
   ],
   "source": [
    "company_map"
   ]
  },
  {
   "cell_type": "code",
   "execution_count": 4,
   "metadata": {},
   "outputs": [
    {
     "name": "stdout",
     "output_type": "stream",
     "text": [
      "(8760, 7)\n",
      "(8760, 7)\n",
      "(8760, 7)\n",
      "(8784, 7)\n",
      "(8756, 7)\n",
      "(8759, 7)\n"
     ]
    }
   ],
   "source": [
    "\n",
    "temps = []\n",
    "for year in range(2013, 2019):\n",
    "    temp = pd.read_csv(f'./Data/temperature_{year}.csv', encoding='cp949')\n",
    "    #temp.columns = header\n",
    "    temp = temp[['일시', '기온(°C)']]\n",
    "    temp.columns = ['datetime', 'temperature']\n",
    "    temp['datetime'] = pd.to_datetime(temp['datetime'])\n",
    "    temp['year'] = temp['datetime'].dt.year\n",
    "    temp['month'] = temp['datetime'].dt.month\n",
    "    temp['day'] = temp['datetime'].dt.day\n",
    "    temp['weekday'] = temp['datetime'].dt.weekday\n",
    "    temp['hour'] = temp['datetime'].dt.hour + 1\n",
    "    print(temp.shape)\n",
    "    temps.append(temp)\n"
   ]
  },
  {
   "cell_type": "markdown",
   "metadata": {},
   "source": [
    "# 전처리"
   ]
  },
  {
   "cell_type": "code",
   "execution_count": 5,
   "metadata": {},
   "outputs": [
    {
     "name": "stdout",
     "output_type": "stream",
     "text": [
      "             datetime  temperature  year  month  day  weekday  hour\n",
      "0 2014-12-31 23:00:00         -6.2  2014     12   31        2    24\n",
      "1 2015-01-01 01:00:00         -7.4  2015      1    1        3     2\n",
      "2 2015-01-01 02:00:00         -8.0  2015      1    1        3     3\n",
      "3 2015-01-01 03:00:00         -8.4  2015      1    1        3     4\n",
      "4 2015-01-01 04:00:00         -8.8  2015      1    1        3     5\n",
      "             datetime  temperature  year  month  day  weekday  hour\n",
      "0 2015-01-01 00:00:00         -6.2  2015      1    1        3     1\n",
      "1 2015-01-01 01:00:00         -7.4  2015      1    1        3     2\n",
      "2 2015-01-01 02:00:00         -8.0  2015      1    1        3     3\n",
      "3 2015-01-01 03:00:00         -8.4  2015      1    1        3     4\n",
      "4 2015-01-01 04:00:00         -8.8  2015      1    1        3     5\n"
     ]
    },
    {
     "name": "stderr",
     "output_type": "stream",
     "text": [
      "/Users/woojaebyun/miniforge3/envs/mlp/lib/python3.8/site-packages/pandas/core/indexing.py:1732: SettingWithCopyWarning: \n",
      "A value is trying to be set on a copy of a slice from a DataFrame\n",
      "\n",
      "See the caveats in the documentation: https://pandas.pydata.org/pandas-docs/stable/user_guide/indexing.html#returning-a-view-versus-a-copy\n",
      "  self._setitem_single_block(indexer, value, name)\n"
     ]
    }
   ],
   "source": [
    "# interpolation for 2015\n",
    "\n",
    "print(temps[2].head())\n",
    "temps[2]['datetime'].iloc[0] = pd.to_datetime(\"2015-01-01 00:00:00\")\n",
    "temps[2]['year'].iloc[0] = 2015\n",
    "temps[2]['month'].iloc[0] = 1\n",
    "temps[2]['day'].iloc[0] = 1\n",
    "temps[2]['weekday'].iloc[0] = 3\n",
    "temps[2]['hour'].iloc[0] = 1\n",
    "\n",
    "print(temps[2].head())\n"
   ]
  },
  {
   "cell_type": "code",
   "execution_count": 6,
   "metadata": {},
   "outputs": [
    {
     "name": "stdout",
     "output_type": "stream",
     "text": [
      "[6449 6831 6832 6833]\n",
      "                datetime  temperature  year  month  day  weekday  hour\n",
      "6448 2017-09-26 16:00:00         30.4  2017      9   26        1    17\n",
      "6449 2017-09-26 18:00:00         27.9  2017      9   26        1    19\n",
      "                datetime  temperature  year  month  day  weekday  hour\n",
      "6829 2017-10-12 14:00:00         13.7  2017     10   12        3    15\n",
      "6830 2017-10-12 18:00:00         12.8  2017     10   12        3    19\n",
      "6831 2017-10-12 19:00:00         11.5  2017     10   12        3    20\n",
      "6832 2017-10-12 20:00:00         10.6  2017     10   12        3    21\n",
      "6833 2017-10-12 21:00:00         10.2  2017     10   12        3    22\n",
      "6834 2017-10-12 22:00:00          9.7  2017     10   12        3    23\n",
      "29.15\n",
      "                datetime  temperature  year  month  day  weekday  hour\n",
      "6448 2017-09-26 16:00:00        30.40  2017      9   26        1    17\n",
      "6449 2017-09-26 17:00:00        29.15  2017      9   26        1    18\n",
      "6450 2017-09-26 18:00:00        27.90  2017      9   26        1    19\n",
      "                datetime  temperature  year  month  day  weekday  hour\n",
      "6829 2017-10-12 13:00:00         13.5  2017     10   12        3    14\n",
      "6830 2017-10-12 14:00:00         13.7  2017     10   12        3    15\n",
      "6831 2017-10-12 15:00:00         13.5  2017     10   12        3    16\n",
      "6832 2017-10-12 16:00:00         13.3  2017     10   12        3    17\n",
      "6833 2017-10-12 17:00:00         13.1  2017     10   12        3    18\n",
      "6834 2017-10-12 18:00:00         12.8  2017     10   12        3    19\n",
      "6835 2017-10-12 19:00:00         11.5  2017     10   12        3    20\n"
     ]
    },
    {
     "name": "stderr",
     "output_type": "stream",
     "text": [
      "/var/folders/cy/y3tvnwx10nqc9qqg0b1wb7wr0000gn/T/ipykernel_84186/2936941575.py:3: FutureWarning: 'base' in .resample() and in Grouper() is deprecated.\n",
      "The new arguments that you should use are 'offset' or 'origin'.\n",
      "\n",
      ">>> df.resample(freq=\"3s\", base=2)\n",
      "\n",
      "becomes:\n",
      "\n",
      ">>> df.resample(freq=\"3s\", offset=\"2s\")\n",
      "\n",
      "  missing_indices = pd.isnull(temps[-2].resample('1H', on='datetime', base=1).mean()).any(1).to_numpy().nonzero()[0]\n"
     ]
    }
   ],
   "source": [
    "# interpolation for 2017\n",
    "\n",
    "missing_indices = pd.isnull(temps[-2].resample('1H', on='datetime', base=1).mean()).any(1).to_numpy().nonzero()[0]\n",
    "print(missing_indices)\n",
    "\n",
    "print(temps[-2].iloc[6448:6450])    \n",
    "print(temps[-2].iloc[6829:6835])\n",
    "\n",
    "calc_temp = temps[-2]['temperature'].iloc[6448:6450].mean()\n",
    "print(calc_temp)\n",
    "line = pd.DataFrame({\"datetime\": pd.to_datetime(\"2017-09-26 17:00:00\"), 'temperature': calc_temp, \"year\": 2017, 'month': 9, 'day':26, \\\n",
    "                  'weekday':1, 'hour': 18}, index=[6449] )\n",
    "\n",
    "\n",
    "lines = \\\n",
    "pd.DataFrame({\"datetime\": [pd.to_datetime(\"2017-10-12 15:00:00\"), pd.to_datetime(\"2017-10-12 16:00:00\"), pd.to_datetime(\"2017-10-12 17:00:00\")], \\\n",
    "              'temperature': [13.5, 13.3, 13.1], \\\n",
    "              \"year\": [2017, 2017, 2017], 'month': [10, 10, 10], \\\n",
    "              'day':[12,12,12], 'weekday':[3,3,3], 'hour': [16,17,18]}, \\\n",
    "              index=[6830, 6831, 6832] )\n",
    "\n",
    "\n",
    "\n",
    "temps[-2] = pd.concat([temps[-2].iloc[:6449], line, temps[-2].iloc[6449:6830], lines, temps[-2].iloc[6830:]]).reset_index(drop=True)\n",
    "\n",
    "print(temps[-2].iloc[6448:6451])    \n",
    "print(temps[-2].iloc[6829:6836])"
   ]
  },
  {
   "cell_type": "code",
   "execution_count": 7,
   "metadata": {},
   "outputs": [
    {
     "name": "stdout",
     "output_type": "stream",
     "text": [
      "[7986]\n",
      "                datetime  temperature  year  month  day  weekday  hour\n",
      "7985 2018-11-29 17:00:00          5.8  2018     11   29        3    18\n",
      "7986 2018-11-29 19:00:00          5.2  2018     11   29        3    20\n",
      "5.5\n",
      "                datetime  temperature  year  month  day  weekday  hour\n",
      "7985 2018-11-29 17:00:00          5.8  2018     11   29        3    18\n",
      "7986 2018-11-29 18:00:00          5.5  2018     11   29        3    19\n",
      "(8760, 7)\n",
      "(8760, 7)\n",
      "(8760, 7)\n",
      "(8784, 7)\n",
      "(8760, 7)\n",
      "(8760, 7)\n"
     ]
    },
    {
     "name": "stderr",
     "output_type": "stream",
     "text": [
      "/var/folders/cy/y3tvnwx10nqc9qqg0b1wb7wr0000gn/T/ipykernel_84186/2492857734.py:3: FutureWarning: 'base' in .resample() and in Grouper() is deprecated.\n",
      "The new arguments that you should use are 'offset' or 'origin'.\n",
      "\n",
      ">>> df.resample(freq=\"3s\", base=2)\n",
      "\n",
      "becomes:\n",
      "\n",
      ">>> df.resample(freq=\"3s\", offset=\"2s\")\n",
      "\n",
      "  print(pd.isnull(temps[-1].resample('1H', on='datetime', base=1).mean()).any(1).to_numpy().nonzero()[0])\n"
     ]
    }
   ],
   "source": [
    "# interpolation for 2018\n",
    "\n",
    "print(pd.isnull(temps[-1].resample('1H', on='datetime', base=1).mean()).any(1).to_numpy().nonzero()[0])\n",
    "print(temps[-1].iloc[7985:7987])\n",
    "\n",
    "calc_temp = temps[-1]['temperature'].iloc[7985:7987].mean()\n",
    "print(calc_temp)\n",
    "line = pd.DataFrame({\"datetime\": pd.to_datetime(\"2018-11-29 18:00:00\"), 'temperature': calc_temp, \"year\": 2018, 'month': 11, 'day':29, \\\n",
    "                  'weekday':3, 'hour': 19}, index=[7986] )\n",
    "temps[-1] = pd.concat([temps[-1].iloc[:7986], line, temps[-1].iloc[7986:]]).reset_index(drop=True)\n",
    "                  \n",
    "                  \n",
    "print(temps[-1].iloc[7985:7987])\n",
    "\n",
    "\n",
    "for i in range(len(temps)):\n",
    "    print(temps[i].shape)\n"
   ]
  },
  {
   "cell_type": "code",
   "execution_count": 8,
   "metadata": {},
   "outputs": [
    {
     "data": {
      "text/plain": [
       "(52584, 7)"
      ]
     },
     "execution_count": 8,
     "metadata": {},
     "output_type": "execute_result"
    }
   ],
   "source": [
    "temp_combined = pd.concat(temps, axis = 0)\n",
    "temp_combined.reset_index(inplace=True, drop=True)\n",
    "temp_combined.shape # should be 52584"
   ]
  },
  {
   "cell_type": "code",
   "execution_count": 9,
   "metadata": {},
   "outputs": [
    {
     "name": "stdout",
     "output_type": "stream",
     "text": [
      "(368088, 9)\n",
      "(368088, 8)\n",
      "             date  hour  company      gas  year  month  day  weekday  \\\n",
      "368083 2018-12-31    20        6  681.033  2018     12   31        0   \n",
      "368084 2018-12-31    21        6  669.961  2018     12   31        0   \n",
      "368085 2018-12-31    22        6  657.941  2018     12   31        0   \n",
      "368086 2018-12-31    23        6  610.953  2018     12   31        0   \n",
      "368087 2018-12-31    24        6  560.896  2018     12   31        0   \n",
      "\n",
      "        temperature  \n",
      "368083         -3.1  \n",
      "368084         -3.7  \n",
      "368085         -4.6  \n",
      "368086         -5.4  \n",
      "368087         -5.2  \n",
      "             date  hour  company      gas  year  month  day  weekday\n",
      "368083 2018-12-31    20        6  681.033  2018     12   31        0\n",
      "368084 2018-12-31    21        6  669.961  2018     12   31        0\n",
      "368085 2018-12-31    22        6  657.941  2018     12   31        0\n",
      "368086 2018-12-31    23        6  610.953  2018     12   31        0\n",
      "368087 2018-12-31    24        6  560.896  2018     12   31        0\n"
     ]
    }
   ],
   "source": [
    "join_df = pd.merge(total, temp_combined, how='left', left_on=['year', 'month', 'day', 'weekday', 'hour'], right_on=['year', 'month', 'day', 'weekday', 'hour'])\n",
    "join_df.drop('datetime', axis=1, inplace=True)\n",
    "\n",
    "\n",
    "print(join_df.shape)\n",
    "print(total.shape)\n",
    "\n",
    "\n",
    "print(join_df.iloc[-5:])\n",
    "print(total.iloc[-5:])"
   ]
  },
  {
   "cell_type": "code",
   "execution_count": 10,
   "metadata": {},
   "outputs": [
    {
     "name": "stdout",
     "output_type": "stream",
     "text": [
      "(8784, 1)\n"
     ]
    },
    {
     "data": {
      "text/html": [
       "<div>\n",
       "<style scoped>\n",
       "    .dataframe tbody tr th:only-of-type {\n",
       "        vertical-align: middle;\n",
       "    }\n",
       "\n",
       "    .dataframe tbody tr th {\n",
       "        vertical-align: top;\n",
       "    }\n",
       "\n",
       "    .dataframe thead th {\n",
       "        text-align: right;\n",
       "    }\n",
       "</style>\n",
       "<table border=\"1\" class=\"dataframe\">\n",
       "  <thead>\n",
       "    <tr style=\"text-align: right;\">\n",
       "      <th></th>\n",
       "      <th></th>\n",
       "      <th></th>\n",
       "      <th>temperature</th>\n",
       "    </tr>\n",
       "    <tr>\n",
       "      <th>month</th>\n",
       "      <th>day</th>\n",
       "      <th>hour</th>\n",
       "      <th></th>\n",
       "    </tr>\n",
       "  </thead>\n",
       "  <tbody>\n",
       "    <tr>\n",
       "      <th rowspan=\"5\" valign=\"top\">1</th>\n",
       "      <th rowspan=\"5\" valign=\"top\">1</th>\n",
       "      <th>1</th>\n",
       "      <td>-2.683333</td>\n",
       "    </tr>\n",
       "    <tr>\n",
       "      <th>2</th>\n",
       "      <td>-3.116667</td>\n",
       "    </tr>\n",
       "    <tr>\n",
       "      <th>3</th>\n",
       "      <td>-3.483333</td>\n",
       "    </tr>\n",
       "    <tr>\n",
       "      <th>4</th>\n",
       "      <td>-3.716667</td>\n",
       "    </tr>\n",
       "    <tr>\n",
       "      <th>5</th>\n",
       "      <td>-4.050000</td>\n",
       "    </tr>\n",
       "    <tr>\n",
       "      <th>...</th>\n",
       "      <th>...</th>\n",
       "      <th>...</th>\n",
       "      <td>...</td>\n",
       "    </tr>\n",
       "    <tr>\n",
       "      <th rowspan=\"5\" valign=\"top\">12</th>\n",
       "      <th rowspan=\"5\" valign=\"top\">31</th>\n",
       "      <th>20</th>\n",
       "      <td>0.300000</td>\n",
       "    </tr>\n",
       "    <tr>\n",
       "      <th>21</th>\n",
       "      <td>-0.350000</td>\n",
       "    </tr>\n",
       "    <tr>\n",
       "      <th>22</th>\n",
       "      <td>-0.916667</td>\n",
       "    </tr>\n",
       "    <tr>\n",
       "      <th>23</th>\n",
       "      <td>-1.533333</td>\n",
       "    </tr>\n",
       "    <tr>\n",
       "      <th>24</th>\n",
       "      <td>-1.883333</td>\n",
       "    </tr>\n",
       "  </tbody>\n",
       "</table>\n",
       "<p>8784 rows × 1 columns</p>\n",
       "</div>"
      ],
      "text/plain": [
       "                temperature\n",
       "month day hour             \n",
       "1     1   1       -2.683333\n",
       "          2       -3.116667\n",
       "          3       -3.483333\n",
       "          4       -3.716667\n",
       "          5       -4.050000\n",
       "...                     ...\n",
       "12    31  20       0.300000\n",
       "          21      -0.350000\n",
       "          22      -0.916667\n",
       "          23      -1.533333\n",
       "          24      -1.883333\n",
       "\n",
       "[8784 rows x 1 columns]"
      ]
     },
     "execution_count": 10,
     "metadata": {},
     "output_type": "execute_result"
    }
   ],
   "source": [
    "daily_temp = join_df[['temperature']].groupby([ join_df['month'], join_df['day'], join_df['hour'] ]).apply(lambda c: c.mean())\n",
    "print(daily_temp.shape)\n",
    "daily_temp"
   ]
  },
  {
   "cell_type": "code",
   "execution_count": 39,
   "metadata": {},
   "outputs": [
    {
     "name": "stdout",
     "output_type": "stream",
     "text": [
      "(368088, 6)\n",
      "(368088, 1)\n",
      "[[0.16898955 0.         0.         0.         0.16666667 0.        ]\n",
      " [0.16550523 0.         0.         0.         0.16666667 0.04347826]\n",
      " [0.16724739 0.         0.         0.         0.16666667 0.08695652]\n",
      " [0.17247387 0.         0.         0.         0.16666667 0.13043478]\n",
      " [0.17073171 0.         0.         0.         0.16666667 0.17391304]]\n",
      "[[2497.129]\n",
      " [2363.265]\n",
      " [2258.505]\n",
      " [2243.969]\n",
      " [2344.105]]\n"
     ]
    }
   ],
   "source": [
    "features = ['temperature', 'company', 'month', 'day', 'weekday', 'hour']\n",
    "\n",
    "x = join_df[features]\n",
    "y = join_df['gas']\n",
    "\n",
    "x = x.values\n",
    "y = np.expand_dims(y.values, axis = 1)\n",
    "\n",
    "x_scaler = MinMaxScaler()\n",
    "x_scaler.fit(x)\n",
    "x = x_scaler.transform(x)\n",
    "\n",
    "print(x.shape)\n",
    "print(y.shape)\n",
    "\n",
    "print(x[:5])\n",
    "print(y[:5])"
   ]
  },
  {
   "cell_type": "markdown",
   "metadata": {},
   "source": [
    "# 모델 생성 및 학습"
   ]
  },
  {
   "cell_type": "code",
   "execution_count": 40,
   "metadata": {},
   "outputs": [],
   "source": [
    "\n",
    "def make_model():    \n",
    "    input_data  = layers.Input(shape=(6,))\n",
    "    out         = layers.Dense(64, activation=\"relu\")(input_data)\n",
    "    out         = layers.BatchNormalization()(out)\n",
    "    out         = layers.Dense(32, activation=\"relu\")(out)\n",
    "    out         = layers.BatchNormalization()(out)\n",
    "    out         = layers.Dense(16, activation=\"relu\")(out)\n",
    "    out         = layers.BatchNormalization()(out)\n",
    "    output      = layers.Dense(1)(out)\n",
    "\n",
    "    model        = tf.keras.Model(inputs = input_data, outputs = output)\n",
    "    \n",
    "    return model"
   ]
  },
  {
   "cell_type": "code",
   "execution_count": 41,
   "metadata": {},
   "outputs": [],
   "source": [
    "train_x, valid_x, train_y, valid_y = train_test_split(x, y, test_size = 0.2, random_state = 1311, shuffle=True)\n"
   ]
  },
  {
   "cell_type": "code",
   "execution_count": null,
   "metadata": {},
   "outputs": [
    {
     "name": "stdout",
     "output_type": "stream",
     "text": [
      "Model: \"model_3\"\n",
      "_________________________________________________________________\n",
      "Layer (type)                 Output Shape              Param #   \n",
      "=================================================================\n",
      "input_4 (InputLayer)         [(None, 6)]               0         \n",
      "_________________________________________________________________\n",
      "dense_12 (Dense)             (None, 64)                448       \n",
      "_________________________________________________________________\n",
      "batch_normalization_9 (Batch (None, 64)                256       \n",
      "_________________________________________________________________\n",
      "dense_13 (Dense)             (None, 32)                2080      \n",
      "_________________________________________________________________\n",
      "batch_normalization_10 (Batc (None, 32)                128       \n",
      "_________________________________________________________________\n",
      "dense_14 (Dense)             (None, 16)                528       \n",
      "_________________________________________________________________\n",
      "batch_normalization_11 (Batc (None, 16)                64        \n",
      "_________________________________________________________________\n",
      "dense_15 (Dense)             (None, 1)                 17        \n",
      "=================================================================\n",
      "Total params: 3,521\n",
      "Trainable params: 3,297\n",
      "Non-trainable params: 224\n",
      "_________________________________________________________________\n",
      "Epoch 1/50\n",
      "   6/2301 [..............................] - ETA: 26s - loss: 1.0024  "
     ]
    },
    {
     "name": "stderr",
     "output_type": "stream",
     "text": [
      "2021-10-27 20:29:54.356814: I tensorflow/core/grappler/optimizers/custom_graph_optimizer_registry.cc:112] Plugin optimizer for device_type GPU is enabled.\n"
     ]
    },
    {
     "name": "stdout",
     "output_type": "stream",
     "text": [
      "2300/2301 [============================>.] - ETA: 0s - loss: 0.9648"
     ]
    },
    {
     "name": "stderr",
     "output_type": "stream",
     "text": [
      "2021-10-27 20:30:21.548869: I tensorflow/core/grappler/optimizers/custom_graph_optimizer_registry.cc:112] Plugin optimizer for device_type GPU is enabled.\n"
     ]
    },
    {
     "name": "stdout",
     "output_type": "stream",
     "text": [
      "2301/2301 [==============================] - 29s 12ms/step - loss: 0.9648 - val_loss: 0.9182\n",
      "\n",
      "Epoch 00001: val_loss improved from inf to 0.91822, saving model to ./Models/DNN_temp/Epoch_001_Val_0.918.hdf5\n",
      "Epoch 2/50\n",
      "2301/2301 [==============================] - 29s 13ms/step - loss: 0.8719 - val_loss: 0.8132\n",
      "\n",
      "Epoch 00002: val_loss improved from 0.91822 to 0.81323, saving model to ./Models/DNN_temp/Epoch_002_Val_0.813.hdf5\n",
      "Epoch 3/50\n",
      "2301/2301 [==============================] - 29s 12ms/step - loss: 0.7937 - val_loss: 0.7386\n",
      "\n",
      "Epoch 00003: val_loss improved from 0.81323 to 0.73859, saving model to ./Models/DNN_temp/Epoch_003_Val_0.739.hdf5\n",
      "Epoch 4/50\n",
      "2301/2301 [==============================] - 28s 12ms/step - loss: 0.7209 - val_loss: 0.6897\n",
      "\n",
      "Epoch 00004: val_loss improved from 0.73859 to 0.68971, saving model to ./Models/DNN_temp/Epoch_004_Val_0.690.hdf5\n",
      "Epoch 5/50\n",
      "2301/2301 [==============================] - 29s 12ms/step - loss: 0.6623 - val_loss: 0.6259\n",
      "\n",
      "Epoch 00005: val_loss improved from 0.68971 to 0.62590, saving model to ./Models/DNN_temp/Epoch_005_Val_0.626.hdf5\n",
      "Epoch 6/50\n",
      "2301/2301 [==============================] - 28s 12ms/step - loss: 0.6175 - val_loss: 0.5684\n",
      "\n",
      "Epoch 00006: val_loss improved from 0.62590 to 0.56841, saving model to ./Models/DNN_temp/Epoch_006_Val_0.568.hdf5\n",
      "Epoch 7/50\n",
      "2301/2301 [==============================] - 27s 12ms/step - loss: 0.5748 - val_loss: 0.5307\n",
      "\n",
      "Epoch 00007: val_loss improved from 0.56841 to 0.53073, saving model to ./Models/DNN_temp/Epoch_007_Val_0.531.hdf5\n",
      "Epoch 8/50\n",
      "2301/2301 [==============================] - 28s 12ms/step - loss: 0.5326 - val_loss: 0.4698\n",
      "\n",
      "Epoch 00008: val_loss improved from 0.53073 to 0.46975, saving model to ./Models/DNN_temp/Epoch_008_Val_0.470.hdf5\n",
      "Epoch 9/50\n",
      "2301/2301 [==============================] - 29s 13ms/step - loss: 0.4995 - val_loss: 0.4468\n",
      "\n",
      "Epoch 00009: val_loss improved from 0.46975 to 0.44680, saving model to ./Models/DNN_temp/Epoch_009_Val_0.447.hdf5\n",
      "Epoch 10/50\n",
      "2301/2301 [==============================] - 30s 13ms/step - loss: 0.4756 - val_loss: 0.4142\n",
      "\n",
      "Epoch 00010: val_loss improved from 0.44680 to 0.41417, saving model to ./Models/DNN_temp/Epoch_010_Val_0.414.hdf5\n",
      "Epoch 11/50\n",
      "2301/2301 [==============================] - 29s 13ms/step - loss: 0.4540 - val_loss: 0.4132\n",
      "\n",
      "Epoch 00011: val_loss improved from 0.41417 to 0.41319, saving model to ./Models/DNN_temp/Epoch_011_Val_0.413.hdf5\n",
      "Epoch 12/50\n",
      "2301/2301 [==============================] - 26s 12ms/step - loss: 0.4390 - val_loss: 0.3824\n",
      "\n",
      "Epoch 00012: val_loss improved from 0.41319 to 0.38236, saving model to ./Models/DNN_temp/Epoch_012_Val_0.382.hdf5\n",
      "Epoch 13/50\n",
      "2301/2301 [==============================] - 28s 12ms/step - loss: 0.4240 - val_loss: 0.3723\n",
      "\n",
      "Epoch 00013: val_loss improved from 0.38236 to 0.37230, saving model to ./Models/DNN_temp/Epoch_013_Val_0.372.hdf5\n",
      "Epoch 14/50\n",
      "2301/2301 [==============================] - 27s 12ms/step - loss: 0.4106 - val_loss: 0.3533\n",
      "\n",
      "Epoch 00014: val_loss improved from 0.37230 to 0.35328, saving model to ./Models/DNN_temp/Epoch_014_Val_0.353.hdf5\n",
      "Epoch 15/50\n",
      "2301/2301 [==============================] - 29s 12ms/step - loss: 0.4010 - val_loss: 0.3725\n",
      "\n",
      "Epoch 00015: val_loss did not improve from 0.35328\n",
      "Epoch 16/50\n",
      "2301/2301 [==============================] - 27s 12ms/step - loss: 0.3843 - val_loss: 0.3065\n",
      "\n",
      "Epoch 00016: val_loss improved from 0.35328 to 0.30655, saving model to ./Models/DNN_temp/Epoch_016_Val_0.307.hdf5\n",
      "Epoch 17/50\n",
      "2301/2301 [==============================] - 29s 13ms/step - loss: 0.3744 - val_loss: 0.3110\n",
      "\n",
      "Epoch 00017: val_loss did not improve from 0.30655\n",
      "Epoch 18/50\n",
      "2301/2301 [==============================] - 27s 12ms/step - loss: 0.3626 - val_loss: 0.3215\n",
      "\n",
      "Epoch 00018: val_loss did not improve from 0.30655\n",
      "Epoch 19/50\n",
      "2301/2301 [==============================] - 28s 12ms/step - loss: 0.3511 - val_loss: 0.3104\n",
      "\n",
      "Epoch 00019: val_loss did not improve from 0.30655\n",
      "Epoch 20/50\n",
      "2301/2301 [==============================] - 27s 12ms/step - loss: 0.3465 - val_loss: 0.3197\n",
      "\n",
      "Epoch 00020: val_loss did not improve from 0.30655\n",
      "Epoch 21/50\n",
      "2301/2301 [==============================] - 29s 12ms/step - loss: 0.3388 - val_loss: 0.3033\n",
      "\n",
      "Epoch 00021: val_loss improved from 0.30655 to 0.30326, saving model to ./Models/DNN_temp/Epoch_021_Val_0.303.hdf5\n",
      "Epoch 22/50\n",
      "2301/2301 [==============================] - 30s 13ms/step - loss: 0.3294 - val_loss: 0.2851\n",
      "\n",
      "Epoch 00022: val_loss improved from 0.30326 to 0.28510, saving model to ./Models/DNN_temp/Epoch_022_Val_0.285.hdf5\n",
      "Epoch 23/50\n",
      "2301/2301 [==============================] - 30s 13ms/step - loss: 0.3245 - val_loss: 0.2657\n",
      "\n",
      "Epoch 00023: val_loss improved from 0.28510 to 0.26565, saving model to ./Models/DNN_temp/Epoch_023_Val_0.266.hdf5\n",
      "Epoch 24/50\n",
      "2301/2301 [==============================] - 28s 12ms/step - loss: 0.3176 - val_loss: 0.2656\n",
      "\n",
      "Epoch 00024: val_loss improved from 0.26565 to 0.26563, saving model to ./Models/DNN_temp/Epoch_024_Val_0.266.hdf5\n",
      "Epoch 25/50\n",
      "2301/2301 [==============================] - 28s 12ms/step - loss: 0.3104 - val_loss: 0.2625\n",
      "\n",
      "Epoch 00025: val_loss improved from 0.26563 to 0.26247, saving model to ./Models/DNN_temp/Epoch_025_Val_0.262.hdf5\n",
      "Epoch 26/50\n",
      "2301/2301 [==============================] - 27s 12ms/step - loss: 0.3069 - val_loss: 0.2815\n",
      "\n",
      "Epoch 00026: val_loss did not improve from 0.26247\n",
      "Epoch 27/50\n",
      "2301/2301 [==============================] - 26s 11ms/step - loss: 0.2995 - val_loss: 0.2613\n",
      "\n",
      "Epoch 00027: val_loss improved from 0.26247 to 0.26126, saving model to ./Models/DNN_temp/Epoch_027_Val_0.261.hdf5\n",
      "Epoch 28/50\n",
      "2301/2301 [==============================] - 26s 11ms/step - loss: 0.2954 - val_loss: 0.2664\n",
      "\n",
      "Epoch 00028: val_loss did not improve from 0.26126\n",
      "Epoch 29/50\n",
      "2301/2301 [==============================] - 25s 11ms/step - loss: 0.2921 - val_loss: 0.2402\n",
      "\n",
      "Epoch 00029: val_loss improved from 0.26126 to 0.24021, saving model to ./Models/DNN_temp/Epoch_029_Val_0.240.hdf5\n",
      "Epoch 30/50\n",
      "2301/2301 [==============================] - 29s 13ms/step - loss: 0.2879 - val_loss: 0.2445\n",
      "\n",
      "Epoch 00030: val_loss did not improve from 0.24021\n",
      "Epoch 31/50\n",
      "2301/2301 [==============================] - 28s 12ms/step - loss: 0.2846 - val_loss: 0.2231\n",
      "\n",
      "Epoch 00031: val_loss improved from 0.24021 to 0.22307, saving model to ./Models/DNN_temp/Epoch_031_Val_0.223.hdf5\n",
      "Epoch 32/50\n",
      "2301/2301 [==============================] - 28s 12ms/step - loss: 0.2814 - val_loss: 0.2501\n",
      "\n",
      "Epoch 00032: val_loss did not improve from 0.22307\n",
      "Epoch 33/50\n",
      "2301/2301 [==============================] - 28s 12ms/step - loss: 0.2775 - val_loss: 0.2502\n",
      "\n",
      "Epoch 00033: val_loss did not improve from 0.22307\n",
      "Epoch 34/50\n",
      "2301/2301 [==============================] - 28s 12ms/step - loss: 0.2729 - val_loss: 0.2268\n",
      "\n",
      "Epoch 00034: val_loss did not improve from 0.22307\n",
      "Epoch 35/50\n",
      "2301/2301 [==============================] - 28s 12ms/step - loss: 0.2724 - val_loss: 0.2157\n",
      "\n",
      "Epoch 00035: val_loss improved from 0.22307 to 0.21568, saving model to ./Models/DNN_temp/Epoch_035_Val_0.216.hdf5\n",
      "Epoch 36/50\n",
      "2301/2301 [==============================] - 28s 12ms/step - loss: 0.2695 - val_loss: 0.2355\n",
      "\n",
      "Epoch 00036: val_loss did not improve from 0.21568\n",
      "Epoch 37/50\n",
      "2301/2301 [==============================] - 28s 12ms/step - loss: 0.2654 - val_loss: 0.2343\n",
      "\n",
      "Epoch 00037: val_loss did not improve from 0.21568\n",
      "Epoch 38/50\n",
      "2301/2301 [==============================] - 29s 13ms/step - loss: 0.2635 - val_loss: 0.2209\n",
      "\n",
      "Epoch 00038: val_loss did not improve from 0.21568\n",
      "Epoch 39/50\n",
      "2301/2301 [==============================] - 28s 12ms/step - loss: 0.2631 - val_loss: 0.2116\n",
      "\n",
      "Epoch 00039: val_loss improved from 0.21568 to 0.21160, saving model to ./Models/DNN_temp/Epoch_039_Val_0.212.hdf5\n",
      "Epoch 40/50\n",
      "1137/2301 [=============>................] - ETA: 14s - loss: 0.2567"
     ]
    }
   ],
   "source": [
    "from tensorflow.keras import backend as K \n",
    "\n",
    "def root_mean_squared_error(y_true, y_pred):\n",
    "        return K.sqrt(K.mean(K.square(y_pred - y_true)))\n",
    "\n",
    "def n_mae(y_true, y_pred):\n",
    "    y_true = y_scaler.inverse_transform(y_true)\n",
    "    y_pred = y_scaler.inverse_transform(y_pred)\n",
    "    return K.mean((K.abs(y_true-y_pred))/y_true)\n",
    "\n",
    "model = make_model()\n",
    "model.compile(optimizer='adam', loss = n_mae)\n",
    "#model.compile(optimizer='adam', loss=tf.keras.losses.MeanSquaredError())\n",
    "model.summary()\n",
    "\n",
    "es = EarlyStopping(monitor='val_loss', mode = 'min' , patience = 10, verbose = 1)\n",
    "folder_path = './Models/DNN_temp'\n",
    "file_path = folder_path + '/Epoch_{epoch:03d}_Val_{val_loss:.3f}.hdf5'\n",
    "mc = ModelCheckpoint(file_path, monitor='val_loss', mode='min',verbose=1, save_best_only=True)\n",
    "\n",
    "\n",
    "history = model.fit(train_x, train_y, epochs = 50, batch_size = 128, \\\n",
    "                    shuffle= True, validation_data = (valid_x, valid_y), \\\n",
    "                    verbose = 1, callbacks = [mc, es])"
   ]
  },
  {
   "cell_type": "code",
   "execution_count": 18,
   "metadata": {},
   "outputs": [
    {
     "data": {
      "text/plain": [
       "<matplotlib.legend.Legend at 0x29af6f0a0>"
      ]
     },
     "execution_count": 18,
     "metadata": {},
     "output_type": "execute_result"
    },
    {
     "data": {
      "image/png": "[encoded data removed]",
      "text/plain": [
       "<Figure size 432x288 with 1 Axes>"
      ]
     },
     "metadata": {
      "needs_background": "light"
     },
     "output_type": "display_data"
    }
   ],
   "source": [
    "plt.plot(history.history['loss'], label = 'train loss')\n",
    "plt.plot(history.history['val_loss'], label = 'validation loss')\n",
    "plt.legend()"
   ]
  },
  {
   "cell_type": "code",
   "execution_count": 19,
   "metadata": {},
   "outputs": [],
   "source": [
    "model = make_model()\n",
    "model.load_weights('./Models/DNN_temp/Epoch_018_Val_123.224.hdf5')"
   ]
  },
  {
   "cell_type": "code",
   "execution_count": null,
   "metadata": {},
   "outputs": [],
   "source": []
  },
  {
   "cell_type": "code",
   "execution_count": null,
   "metadata": {},
   "outputs": [],
   "source": []
  },
  {
   "cell_type": "code",
   "execution_count": null,
   "metadata": {},
   "outputs": [],
   "source": [
    "\n"
   ]
  },
  {
   "cell_type": "code",
   "execution_count": null,
   "metadata": {},
   "outputs": [],
   "source": [
    "\n"
   ]
  },
  {
   "cell_type": "markdown",
   "metadata": {},
   "source": [
    "# 학습"
   ]
  },
  {
   "cell_type": "code",
   "execution_count": null,
   "metadata": {},
   "outputs": [],
   "source": [
    "from xgboost import XGBRegressor\n",
    "\n",
    "dtrain = xgb.DMatrix(data=train_x, label = train_y)\n",
    "dval = xgb.DMatrix(data=val_x, label = val_y)\n",
    "wlist = [(dtrain, 'train'), (dval,'eval')]\n",
    "\n",
    "params = {\n",
    "    'learning_rate': 0.05,\n",
    "    'objective': 'reg:squarederror',\n",
    "    'metric':'mae', \n",
    "    'seed':42\n",
    "}\n",
    " \n",
    "\n",
    "model = xgb.train( params, dtrain, 500, evals=wlist, verbose_eval=20, early_stopping_rounds=100)"
   ]
  },
  {
   "cell_type": "markdown",
   "metadata": {},
   "source": [
    "# 추론 및 결과 제출"
   ]
  },
  {
   "cell_type": "code",
   "execution_count": 22,
   "metadata": {},
   "outputs": [],
   "source": [
    "test = pd.read_csv('./Submission/test.csv')\n",
    "submission = pd.read_csv('./Submission/sample_submission.csv')"
   ]
  },
  {
   "cell_type": "code",
   "execution_count": 23,
   "metadata": {},
   "outputs": [
    {
     "data": {
      "text/html": [
       "<div>\n",
       "<style scoped>\n",
       "    .dataframe tbody tr th:only-of-type {\n",
       "        vertical-align: middle;\n",
       "    }\n",
       "\n",
       "    .dataframe tbody tr th {\n",
       "        vertical-align: top;\n",
       "    }\n",
       "\n",
       "    .dataframe thead th {\n",
       "        text-align: right;\n",
       "    }\n",
       "</style>\n",
       "<table border=\"1\" class=\"dataframe\">\n",
       "  <thead>\n",
       "    <tr style=\"text-align: right;\">\n",
       "      <th></th>\n",
       "      <th>일자|시간|구분</th>\n",
       "    </tr>\n",
       "  </thead>\n",
       "  <tbody>\n",
       "    <tr>\n",
       "      <th>0</th>\n",
       "      <td>2019-01-01 01 A</td>\n",
       "    </tr>\n",
       "    <tr>\n",
       "      <th>1</th>\n",
       "      <td>2019-01-01 02 A</td>\n",
       "    </tr>\n",
       "    <tr>\n",
       "      <th>2</th>\n",
       "      <td>2019-01-01 03 A</td>\n",
       "    </tr>\n",
       "    <tr>\n",
       "      <th>3</th>\n",
       "      <td>2019-01-01 04 A</td>\n",
       "    </tr>\n",
       "    <tr>\n",
       "      <th>4</th>\n",
       "      <td>2019-01-01 05 A</td>\n",
       "    </tr>\n",
       "  </tbody>\n",
       "</table>\n",
       "</div>"
      ],
      "text/plain": [
       "          일자|시간|구분\n",
       "0  2019-01-01 01 A\n",
       "1  2019-01-01 02 A\n",
       "2  2019-01-01 03 A\n",
       "3  2019-01-01 04 A\n",
       "4  2019-01-01 05 A"
      ]
     },
     "execution_count": 23,
     "metadata": {},
     "output_type": "execute_result"
    }
   ],
   "source": [
    "test.head()"
   ]
  },
  {
   "cell_type": "code",
   "execution_count": 24,
   "metadata": {},
   "outputs": [
    {
     "data": {
      "text/html": [
       "<div>\n",
       "<style scoped>\n",
       "    .dataframe tbody tr th:only-of-type {\n",
       "        vertical-align: middle;\n",
       "    }\n",
       "\n",
       "    .dataframe tbody tr th {\n",
       "        vertical-align: top;\n",
       "    }\n",
       "\n",
       "    .dataframe thead th {\n",
       "        text-align: right;\n",
       "    }\n",
       "</style>\n",
       "<table border=\"1\" class=\"dataframe\">\n",
       "  <thead>\n",
       "    <tr style=\"text-align: right;\">\n",
       "      <th></th>\n",
       "      <th>일자|시간|구분</th>\n",
       "      <th>공급량</th>\n",
       "    </tr>\n",
       "  </thead>\n",
       "  <tbody>\n",
       "    <tr>\n",
       "      <th>0</th>\n",
       "      <td>2019-01-01 01 A</td>\n",
       "      <td>0</td>\n",
       "    </tr>\n",
       "    <tr>\n",
       "      <th>1</th>\n",
       "      <td>2019-01-01 02 A</td>\n",
       "      <td>0</td>\n",
       "    </tr>\n",
       "    <tr>\n",
       "      <th>2</th>\n",
       "      <td>2019-01-01 03 A</td>\n",
       "      <td>0</td>\n",
       "    </tr>\n",
       "    <tr>\n",
       "      <th>3</th>\n",
       "      <td>2019-01-01 04 A</td>\n",
       "      <td>0</td>\n",
       "    </tr>\n",
       "    <tr>\n",
       "      <th>4</th>\n",
       "      <td>2019-01-01 05 A</td>\n",
       "      <td>0</td>\n",
       "    </tr>\n",
       "  </tbody>\n",
       "</table>\n",
       "</div>"
      ],
      "text/plain": [
       "          일자|시간|구분  공급량\n",
       "0  2019-01-01 01 A    0\n",
       "1  2019-01-01 02 A    0\n",
       "2  2019-01-01 03 A    0\n",
       "3  2019-01-01 04 A    0\n",
       "4  2019-01-01 05 A    0"
      ]
     },
     "execution_count": 24,
     "metadata": {},
     "output_type": "execute_result"
    }
   ],
   "source": [
    "submission.head()"
   ]
  },
  {
   "cell_type": "code",
   "execution_count": 26,
   "metadata": {},
   "outputs": [],
   "source": [
    "test['datetime'] = test['일자|시간|구분'].str.split(' ').str[0]\n",
    "test['hour'] = test['일자|시간|구분'].str.split(' ').str[1].astype(int)\n",
    "test['company'] = test['일자|시간|구분'].str.split(' ').str[2]"
   ]
  },
  {
   "cell_type": "code",
   "execution_count": 27,
   "metadata": {},
   "outputs": [],
   "source": [
    "test['datetime'] = pd.to_datetime(test['datetime'])\n",
    "test['year'] = test['datetime'].dt.year\n",
    "test['month'] = test['datetime'].dt.month\n",
    "test['day'] = test['datetime'].dt.day\n",
    "test['weekday'] = test['datetime'].dt.weekday"
   ]
  },
  {
   "cell_type": "code",
   "execution_count": 29,
   "metadata": {},
   "outputs": [],
   "source": [
    "test['company'] = test['company'].map(company_map)"
   ]
  },
  {
   "cell_type": "code",
   "execution_count": 30,
   "metadata": {},
   "outputs": [
    {
     "data": {
      "text/html": [
       "<div>\n",
       "<style scoped>\n",
       "    .dataframe tbody tr th:only-of-type {\n",
       "        vertical-align: middle;\n",
       "    }\n",
       "\n",
       "    .dataframe tbody tr th {\n",
       "        vertical-align: top;\n",
       "    }\n",
       "\n",
       "    .dataframe thead th {\n",
       "        text-align: right;\n",
       "    }\n",
       "</style>\n",
       "<table border=\"1\" class=\"dataframe\">\n",
       "  <thead>\n",
       "    <tr style=\"text-align: right;\">\n",
       "      <th></th>\n",
       "      <th>일자|시간|구분</th>\n",
       "      <th>datetime</th>\n",
       "      <th>hour</th>\n",
       "      <th>company</th>\n",
       "      <th>year</th>\n",
       "      <th>month</th>\n",
       "      <th>day</th>\n",
       "      <th>weekday</th>\n",
       "    </tr>\n",
       "  </thead>\n",
       "  <tbody>\n",
       "    <tr>\n",
       "      <th>0</th>\n",
       "      <td>2019-01-01 01 A</td>\n",
       "      <td>2019-01-01</td>\n",
       "      <td>1</td>\n",
       "      <td>0</td>\n",
       "      <td>2019</td>\n",
       "      <td>1</td>\n",
       "      <td>1</td>\n",
       "      <td>1</td>\n",
       "    </tr>\n",
       "    <tr>\n",
       "      <th>1</th>\n",
       "      <td>2019-01-01 02 A</td>\n",
       "      <td>2019-01-01</td>\n",
       "      <td>2</td>\n",
       "      <td>0</td>\n",
       "      <td>2019</td>\n",
       "      <td>1</td>\n",
       "      <td>1</td>\n",
       "      <td>1</td>\n",
       "    </tr>\n",
       "    <tr>\n",
       "      <th>2</th>\n",
       "      <td>2019-01-01 03 A</td>\n",
       "      <td>2019-01-01</td>\n",
       "      <td>3</td>\n",
       "      <td>0</td>\n",
       "      <td>2019</td>\n",
       "      <td>1</td>\n",
       "      <td>1</td>\n",
       "      <td>1</td>\n",
       "    </tr>\n",
       "    <tr>\n",
       "      <th>3</th>\n",
       "      <td>2019-01-01 04 A</td>\n",
       "      <td>2019-01-01</td>\n",
       "      <td>4</td>\n",
       "      <td>0</td>\n",
       "      <td>2019</td>\n",
       "      <td>1</td>\n",
       "      <td>1</td>\n",
       "      <td>1</td>\n",
       "    </tr>\n",
       "    <tr>\n",
       "      <th>4</th>\n",
       "      <td>2019-01-01 05 A</td>\n",
       "      <td>2019-01-01</td>\n",
       "      <td>5</td>\n",
       "      <td>0</td>\n",
       "      <td>2019</td>\n",
       "      <td>1</td>\n",
       "      <td>1</td>\n",
       "      <td>1</td>\n",
       "    </tr>\n",
       "  </tbody>\n",
       "</table>\n",
       "</div>"
      ],
      "text/plain": [
       "          일자|시간|구분   datetime  hour  company  year  month  day  weekday\n",
       "0  2019-01-01 01 A 2019-01-01     1        0  2019      1    1        1\n",
       "1  2019-01-01 02 A 2019-01-01     2        0  2019      1    1        1\n",
       "2  2019-01-01 03 A 2019-01-01     3        0  2019      1    1        1\n",
       "3  2019-01-01 04 A 2019-01-01     4        0  2019      1    1        1\n",
       "4  2019-01-01 05 A 2019-01-01     5        0  2019      1    1        1"
      ]
     },
     "execution_count": 30,
     "metadata": {},
     "output_type": "execute_result"
    }
   ],
   "source": [
    "test.head()"
   ]
  },
  {
   "cell_type": "code",
   "execution_count": 31,
   "metadata": {},
   "outputs": [
    {
     "name": "stdout",
     "output_type": "stream",
     "text": [
      "          일자|시간|구분   datetime  hour  company  year  month  day  weekday  \\\n",
      "0  2019-01-01 01 A 2019-01-01     1        0  2019      1    1        1   \n",
      "1  2019-01-01 02 A 2019-01-01     2        0  2019      1    1        1   \n",
      "2  2019-01-01 03 A 2019-01-01     3        0  2019      1    1        1   \n",
      "3  2019-01-01 04 A 2019-01-01     4        0  2019      1    1        1   \n",
      "4  2019-01-01 05 A 2019-01-01     5        0  2019      1    1        1   \n",
      "\n",
      "   temperature  \n",
      "0    -2.683333  \n",
      "1    -3.116667  \n",
      "2    -3.483333  \n",
      "3    -3.716667  \n",
      "4    -4.050000  \n",
      "              일자|시간|구분   datetime  hour  company  year  month  day  weekday  \\\n",
      "15115  2019-03-31 20 H 2019-03-31    20        6  2019      3   31        6   \n",
      "15116  2019-03-31 21 H 2019-03-31    21        6  2019      3   31        6   \n",
      "15117  2019-03-31 22 H 2019-03-31    22        6  2019      3   31        6   \n",
      "15118  2019-03-31 23 H 2019-03-31    23        6  2019      3   31        6   \n",
      "15119  2019-03-31 24 H 2019-03-31    24        6  2019      3   31        6   \n",
      "\n",
      "       temperature  \n",
      "15115    12.883333  \n",
      "15116    11.800000  \n",
      "15117    11.083333  \n",
      "15118    10.450000  \n",
      "15119     9.950000  \n"
     ]
    }
   ],
   "source": [
    "test_combined = pd.merge(test, daily_temp, how = 'left', left_on = ['month', 'day', 'hour'], right_on = ['month', 'day', 'hour'])\n",
    "\n",
    "print(test_combined.iloc[:5])\n",
    "print(test_combined.iloc[-5:])"
   ]
  },
  {
   "cell_type": "code",
   "execution_count": 33,
   "metadata": {},
   "outputs": [
    {
     "data": {
      "text/plain": [
       "array([[12.88333333,  6.        ,  3.        , 31.        ,  6.        ,\n",
       "        20.        ],\n",
       "       [11.8       ,  6.        ,  3.        , 31.        ,  6.        ,\n",
       "        21.        ],\n",
       "       [11.08333333,  6.        ,  3.        , 31.        ,  6.        ,\n",
       "        22.        ],\n",
       "       [10.45      ,  6.        ,  3.        , 31.        ,  6.        ,\n",
       "        23.        ],\n",
       "       [ 9.95      ,  6.        ,  3.        , 31.        ,  6.        ,\n",
       "        24.        ]])"
      ]
     },
     "execution_count": 33,
     "metadata": {},
     "output_type": "execute_result"
    }
   ],
   "source": [
    "test_x = test_combined[features]\n",
    "\n",
    "test_x = test_x.values\n",
    "test_x[-5:]"
   ]
  },
  {
   "cell_type": "code",
   "execution_count": null,
   "metadata": {},
   "outputs": [],
   "source": [
    "test_x = xgb.DMatrix(test_x)"
   ]
  },
  {
   "cell_type": "code",
   "execution_count": 34,
   "metadata": {},
   "outputs": [
    {
     "name": "stderr",
     "output_type": "stream",
     "text": [
      "2021-10-27 19:40:35.816674: I tensorflow/core/grappler/optimizers/custom_graph_optimizer_registry.cc:112] Plugin optimizer for device_type GPU is enabled.\n"
     ]
    }
   ],
   "source": [
    "preds = model.predict(test_x)"
   ]
  },
  {
   "cell_type": "code",
   "execution_count": 35,
   "metadata": {},
   "outputs": [],
   "source": [
    "submission['공급량'] = preds"
   ]
  },
  {
   "cell_type": "code",
   "execution_count": 36,
   "metadata": {},
   "outputs": [],
   "source": [
    "submission.to_csv('./Submission/dnn_temp.csv', index=False)"
   ]
  },
  {
   "cell_type": "code",
   "execution_count": null,
   "metadata": {},
   "outputs": [],
   "source": []
  }
 ],
 "metadata": {
  "kernelspec": {
   "display_name": "Python 3 (ipykernel)",
   "language": "python",
   "name": "python3"
  },
  "language_info": {
   "codemirror_mode": {
    "name": "ipython",
    "version": 3
   },
   "file_extension": ".py",
   "mimetype": "text/x-python",
   "name": "python",
   "nbconvert_exporter": "python",
   "pygments_lexer": "ipython3",
   "version": "3.8.10"
  }
 },
 "nbformat": 4,
 "nbformat_minor": 4
}
