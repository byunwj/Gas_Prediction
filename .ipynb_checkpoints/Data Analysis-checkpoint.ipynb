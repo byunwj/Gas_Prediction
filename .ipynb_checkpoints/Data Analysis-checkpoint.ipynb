{
 "cells": [
  {
   "cell_type": "code",
   "execution_count": 1,
   "id": "0fffbd1f",
   "metadata": {},
   "outputs": [],
   "source": [
    "import pandas as pd\n",
    "import numpy as np\n",
    "from matplotlib import pyplot as plt\n",
    "from pylab import rcParams"
   ]
  },
  {
   "cell_type": "code",
   "execution_count": 2,
   "id": "a735bbee",
   "metadata": {},
   "outputs": [],
   "source": [
    "data = pd.read_csv('./Data/한국가스공사_시간별 공급량_20181231.csv', encoding = 'euc-kr').dropna()"
   ]
  },
  {
   "cell_type": "code",
   "execution_count": 3,
   "id": "9f808735",
   "metadata": {},
   "outputs": [
    {
     "data": {
      "text/html": [
       "<div>\n",
       "<style scoped>\n",
       "    .dataframe tbody tr th:only-of-type {\n",
       "        vertical-align: middle;\n",
       "    }\n",
       "\n",
       "    .dataframe tbody tr th {\n",
       "        vertical-align: top;\n",
       "    }\n",
       "\n",
       "    .dataframe thead th {\n",
       "        text-align: right;\n",
       "    }\n",
       "</style>\n",
       "<table border=\"1\" class=\"dataframe\">\n",
       "  <thead>\n",
       "    <tr style=\"text-align: right;\">\n",
       "      <th></th>\n",
       "      <th>연월일</th>\n",
       "      <th>시간</th>\n",
       "      <th>구분</th>\n",
       "      <th>공급량</th>\n",
       "    </tr>\n",
       "  </thead>\n",
       "  <tbody>\n",
       "    <tr>\n",
       "      <th>0</th>\n",
       "      <td>2013-01-01</td>\n",
       "      <td>1</td>\n",
       "      <td>A</td>\n",
       "      <td>2497.129</td>\n",
       "    </tr>\n",
       "    <tr>\n",
       "      <th>1</th>\n",
       "      <td>2013-01-01</td>\n",
       "      <td>2</td>\n",
       "      <td>A</td>\n",
       "      <td>2363.265</td>\n",
       "    </tr>\n",
       "    <tr>\n",
       "      <th>2</th>\n",
       "      <td>2013-01-01</td>\n",
       "      <td>3</td>\n",
       "      <td>A</td>\n",
       "      <td>2258.505</td>\n",
       "    </tr>\n",
       "    <tr>\n",
       "      <th>3</th>\n",
       "      <td>2013-01-01</td>\n",
       "      <td>4</td>\n",
       "      <td>A</td>\n",
       "      <td>2243.969</td>\n",
       "    </tr>\n",
       "    <tr>\n",
       "      <th>4</th>\n",
       "      <td>2013-01-01</td>\n",
       "      <td>5</td>\n",
       "      <td>A</td>\n",
       "      <td>2344.105</td>\n",
       "    </tr>\n",
       "  </tbody>\n",
       "</table>\n",
       "</div>"
      ],
      "text/plain": [
       "          연월일  시간 구분       공급량\n",
       "0  2013-01-01   1  A  2497.129\n",
       "1  2013-01-01   2  A  2363.265\n",
       "2  2013-01-01   3  A  2258.505\n",
       "3  2013-01-01   4  A  2243.969\n",
       "4  2013-01-01   5  A  2344.105"
      ]
     },
     "execution_count": 3,
     "metadata": {},
     "output_type": "execute_result"
    }
   ],
   "source": [
    "data.head()"
   ]
  },
  {
   "cell_type": "code",
   "execution_count": 4,
   "id": "e46b84c1",
   "metadata": {},
   "outputs": [],
   "source": [
    "data['연월일'] = pd.to_datetime(data['연월일'])"
   ]
  },
  {
   "cell_type": "code",
   "execution_count": 5,
   "id": "da84f850",
   "metadata": {},
   "outputs": [
    {
     "data": {
      "text/plain": [
       "(368088, 4)"
      ]
     },
     "execution_count": 5,
     "metadata": {},
     "output_type": "execute_result"
    }
   ],
   "source": [
    "data.shape"
   ]
  },
  {
   "cell_type": "code",
   "execution_count": 6,
   "id": "aa386710",
   "metadata": {},
   "outputs": [],
   "source": [
    "data['year']  = data['연월일'].dt.year\n",
    "data['month'] = data['연월일'].dt.month\n",
    "data['day']   = data['연월일'].dt.day"
   ]
  },
  {
   "cell_type": "code",
   "execution_count": 7,
   "id": "34ffe25f",
   "metadata": {},
   "outputs": [
    {
     "data": {
      "text/html": [
       "<div>\n",
       "<style scoped>\n",
       "    .dataframe tbody tr th:only-of-type {\n",
       "        vertical-align: middle;\n",
       "    }\n",
       "\n",
       "    .dataframe tbody tr th {\n",
       "        vertical-align: top;\n",
       "    }\n",
       "\n",
       "    .dataframe thead th {\n",
       "        text-align: right;\n",
       "    }\n",
       "</style>\n",
       "<table border=\"1\" class=\"dataframe\">\n",
       "  <thead>\n",
       "    <tr style=\"text-align: right;\">\n",
       "      <th></th>\n",
       "      <th>연월일</th>\n",
       "      <th>시간</th>\n",
       "      <th>구분</th>\n",
       "      <th>공급량</th>\n",
       "      <th>year</th>\n",
       "      <th>month</th>\n",
       "      <th>day</th>\n",
       "    </tr>\n",
       "  </thead>\n",
       "  <tbody>\n",
       "    <tr>\n",
       "      <th>368078</th>\n",
       "      <td>2018-12-31</td>\n",
       "      <td>15</td>\n",
       "      <td>H</td>\n",
       "      <td>525.488</td>\n",
       "      <td>2018</td>\n",
       "      <td>12</td>\n",
       "      <td>31</td>\n",
       "    </tr>\n",
       "    <tr>\n",
       "      <th>368079</th>\n",
       "      <td>2018-12-31</td>\n",
       "      <td>16</td>\n",
       "      <td>H</td>\n",
       "      <td>518.009</td>\n",
       "      <td>2018</td>\n",
       "      <td>12</td>\n",
       "      <td>31</td>\n",
       "    </tr>\n",
       "    <tr>\n",
       "      <th>368080</th>\n",
       "      <td>2018-12-31</td>\n",
       "      <td>17</td>\n",
       "      <td>H</td>\n",
       "      <td>542.360</td>\n",
       "      <td>2018</td>\n",
       "      <td>12</td>\n",
       "      <td>31</td>\n",
       "    </tr>\n",
       "    <tr>\n",
       "      <th>368081</th>\n",
       "      <td>2018-12-31</td>\n",
       "      <td>18</td>\n",
       "      <td>H</td>\n",
       "      <td>603.138</td>\n",
       "      <td>2018</td>\n",
       "      <td>12</td>\n",
       "      <td>31</td>\n",
       "    </tr>\n",
       "    <tr>\n",
       "      <th>368082</th>\n",
       "      <td>2018-12-31</td>\n",
       "      <td>19</td>\n",
       "      <td>H</td>\n",
       "      <td>678.975</td>\n",
       "      <td>2018</td>\n",
       "      <td>12</td>\n",
       "      <td>31</td>\n",
       "    </tr>\n",
       "    <tr>\n",
       "      <th>368083</th>\n",
       "      <td>2018-12-31</td>\n",
       "      <td>20</td>\n",
       "      <td>H</td>\n",
       "      <td>681.033</td>\n",
       "      <td>2018</td>\n",
       "      <td>12</td>\n",
       "      <td>31</td>\n",
       "    </tr>\n",
       "    <tr>\n",
       "      <th>368084</th>\n",
       "      <td>2018-12-31</td>\n",
       "      <td>21</td>\n",
       "      <td>H</td>\n",
       "      <td>669.961</td>\n",
       "      <td>2018</td>\n",
       "      <td>12</td>\n",
       "      <td>31</td>\n",
       "    </tr>\n",
       "    <tr>\n",
       "      <th>368085</th>\n",
       "      <td>2018-12-31</td>\n",
       "      <td>22</td>\n",
       "      <td>H</td>\n",
       "      <td>657.941</td>\n",
       "      <td>2018</td>\n",
       "      <td>12</td>\n",
       "      <td>31</td>\n",
       "    </tr>\n",
       "    <tr>\n",
       "      <th>368086</th>\n",
       "      <td>2018-12-31</td>\n",
       "      <td>23</td>\n",
       "      <td>H</td>\n",
       "      <td>610.953</td>\n",
       "      <td>2018</td>\n",
       "      <td>12</td>\n",
       "      <td>31</td>\n",
       "    </tr>\n",
       "    <tr>\n",
       "      <th>368087</th>\n",
       "      <td>2018-12-31</td>\n",
       "      <td>24</td>\n",
       "      <td>H</td>\n",
       "      <td>560.896</td>\n",
       "      <td>2018</td>\n",
       "      <td>12</td>\n",
       "      <td>31</td>\n",
       "    </tr>\n",
       "  </tbody>\n",
       "</table>\n",
       "</div>"
      ],
      "text/plain": [
       "              연월일  시간 구분      공급량  year  month  day\n",
       "368078 2018-12-31  15  H  525.488  2018     12   31\n",
       "368079 2018-12-31  16  H  518.009  2018     12   31\n",
       "368080 2018-12-31  17  H  542.360  2018     12   31\n",
       "368081 2018-12-31  18  H  603.138  2018     12   31\n",
       "368082 2018-12-31  19  H  678.975  2018     12   31\n",
       "368083 2018-12-31  20  H  681.033  2018     12   31\n",
       "368084 2018-12-31  21  H  669.961  2018     12   31\n",
       "368085 2018-12-31  22  H  657.941  2018     12   31\n",
       "368086 2018-12-31  23  H  610.953  2018     12   31\n",
       "368087 2018-12-31  24  H  560.896  2018     12   31"
      ]
     },
     "execution_count": 7,
     "metadata": {},
     "output_type": "execute_result"
    }
   ],
   "source": [
    "data.iloc[-10:]"
   ]
  },
  {
   "cell_type": "code",
   "execution_count": null,
   "id": "c00c3da9",
   "metadata": {},
   "outputs": [],
   "source": []
  },
  {
   "cell_type": "code",
   "execution_count": 8,
   "id": "15642f5a",
   "metadata": {},
   "outputs": [
    {
     "data": {
      "text/plain": [
       "A    52584\n",
       "B    52584\n",
       "C    52584\n",
       "D    52584\n",
       "E    52584\n",
       "G    52584\n",
       "H    52584\n",
       "Name: 구분, dtype: int64"
      ]
     },
     "execution_count": 8,
     "metadata": {},
     "output_type": "execute_result"
    }
   ],
   "source": [
    "data['구분'].value_counts()"
   ]
  },
  {
   "cell_type": "code",
   "execution_count": 9,
   "id": "dac5a7ab",
   "metadata": {},
   "outputs": [],
   "source": [
    "suppliers = ['A', 'B', 'C', 'D', 'E', 'G', 'H']\n",
    "datas = dict()\n",
    "\n",
    "for supplier in suppliers:\n",
    "    datas['data_{}'.format(supplier)] = (data[data['구분'] == supplier].reset_index(drop=True))"
   ]
  },
  {
   "cell_type": "code",
   "execution_count": 10,
   "id": "a9bccd5e",
   "metadata": {},
   "outputs": [
    {
     "name": "stdout",
     "output_type": "stream",
     "text": [
      "(52584, 7)\n",
      "(52584, 7)\n",
      "(52584, 7)\n",
      "(52584, 7)\n",
      "(52584, 7)\n",
      "(52584, 7)\n",
      "(52584, 7)\n"
     ]
    }
   ],
   "source": [
    "for data in datas.values():\n",
    "    print(data.shape)"
   ]
  },
  {
   "cell_type": "code",
   "execution_count": null,
   "id": "40578738",
   "metadata": {},
   "outputs": [],
   "source": []
  },
  {
   "cell_type": "code",
   "execution_count": 11,
   "id": "265658f6",
   "metadata": {},
   "outputs": [
    {
     "data": {
      "text/plain": [
       "365"
      ]
     },
     "execution_count": 11,
     "metadata": {},
     "output_type": "execute_result"
    }
   ],
   "source": [
    "months = [31, 28, 31, 30, 31, 30, 31, 31, 30, 31, 30, 31]\n",
    "\n",
    "# checking if the number of days add up to 365\n",
    "total = 0\n",
    "for i in months:\n",
    "    total += i\n",
    "    \n",
    "total"
   ]
  },
  {
   "cell_type": "code",
   "execution_count": 12,
   "id": "8304b073",
   "metadata": {},
   "outputs": [
    {
     "data": {
      "text/plain": [
       "[31, 59, 90, 120, 151, 181, 212, 243, 273, 304, 334, 365]"
      ]
     },
     "execution_count": 12,
     "metadata": {},
     "output_type": "execute_result"
    }
   ],
   "source": [
    "# vertical lines for indicating the end of each month\n",
    "index = 0\n",
    "vertical_coords = []\n",
    "\n",
    "for i in months:\n",
    "    index += i\n",
    "    vertical_coords.append(index)\n",
    "    \n",
    "vertical_coords"
   ]
  },
  {
   "cell_type": "code",
   "execution_count": null,
   "id": "22081c52",
   "metadata": {},
   "outputs": [],
   "source": [
    "#plt.figure(figsize = (10,6))\n",
    "\n",
    "for data in datas.values():\n",
    "    rcParams['figure.figsize'] = 20, 10\n",
    "    fig = plt.figure()\n",
    "\n",
    "    ax1 = fig.add_subplot(231)\n",
    "    ax2 = fig.add_subplot(232)\n",
    "    ax3 = fig.add_subplot(233)\n",
    "    ax4 = fig.add_subplot(234)\n",
    "    ax5 = fig.add_subplot(235)\n",
    "    ax6 = fig.add_subplot(236)\n",
    "\n",
    "    axes = [ax1, ax2, ax3, ax4, ax5, ax6]\n",
    "\n",
    "    for ax in axes:\n",
    "        for vc in vertical_coords:\n",
    "            ax.axvline(vc*24, linewidth=2, color=\"r\")\n",
    "    \n",
    "    plotted_datas = []\n",
    "    years = [2013, 2014, 2015, 2016, 2017, 2018]\n",
    "    \n",
    "    for year in years:\n",
    "        plotted_datas.append(data[data['year'] == year].reset_index(drop=True))\n",
    "    \n",
    "    \n",
    "    i = 0\n",
    "    while i < len(axes):\n",
    "        axes[i].plot(plotted_datas[i]['공급량'])\n",
    "        axes[i].set_ylim(( 0, data['공급량'].max() + 500 ))\n",
    "        axes[i].set_title(\"Supplier \"+ str(plotted_datas[i]['구분'][0])+ \" \" + str(plotted_datas[i]['year'][0]))\n",
    "        i += 1\n",
    "\n",
    "    #plt.savefig('./Graphs/supplier{}.png'.format(str(plotted_datas[0]['구분'][0])), dpi=100)\n"
   ]
  },
  {
   "cell_type": "code",
   "execution_count": null,
   "id": "4575193f",
   "metadata": {},
   "outputs": [],
   "source": [
    "'''\n",
    "# saving data for each supplier\n",
    "for k,v in datas.items():\n",
    "    filepath = './Data/supplier_{}.csv'.format(k[-1])\n",
    "    v.to_csv(filepath)\n",
    "'''"
   ]
  },
  {
   "cell_type": "code",
   "execution_count": 30,
   "id": "3ebf89ec",
   "metadata": {},
   "outputs": [
    {
     "ename": "NameError",
     "evalue": "name 'years' is not defined",
     "output_type": "error",
     "traceback": [
      "\u001b[0;31m---------------------------------------------------------------------------\u001b[0m",
      "\u001b[0;31mNameError\u001b[0m                                 Traceback (most recent call last)",
      "\u001b[0;32m/var/folders/cy/y3tvnwx10nqc9qqg0b1wb7wr0000gn/T/ipykernel_74712/3766021800.py\u001b[0m in \u001b[0;36m<module>\u001b[0;34m\u001b[0m\n\u001b[0;32m----> 1\u001b[0;31m \u001b[0myears\u001b[0m\u001b[0;34m\u001b[0m\u001b[0;34m\u001b[0m\u001b[0m\n\u001b[0m",
      "\u001b[0;31mNameError\u001b[0m: name 'years' is not defined"
     ]
    }
   ],
   "source": []
  },
  {
   "cell_type": "code",
   "execution_count": null,
   "id": "a0703d2f",
   "metadata": {},
   "outputs": [],
   "source": [
    "test_data = pd.read_csv('./Submission/test.csv')"
   ]
  },
  {
   "cell_type": "code",
   "execution_count": null,
   "id": "0d8fa2e9",
   "metadata": {},
   "outputs": [],
   "source": [
    "test_data['구분'] = test_data['일자|시간|구분'].str[-1]\n",
    "test_data['연월일'] = pd.to_datetime(test_data['일자|시간|구분'].str[:-5])\n",
    "test_data['시간'] = test_data['일자|시간|구분'].str[-4:-2].astype(np.float32)\n",
    "\n",
    "test_data['year']  = test_data['연월일'].dt.year\n",
    "test_data['month'] = test_data['연월일'].dt.month\n",
    "test_data['day']   = test_data['연월일'].dt.day"
   ]
  },
  {
   "cell_type": "code",
   "execution_count": null,
   "id": "aa920c9f",
   "metadata": {},
   "outputs": [],
   "source": [
    "test_data.head()"
   ]
  },
  {
   "cell_type": "code",
   "execution_count": null,
   "id": "f65ab943",
   "metadata": {},
   "outputs": [],
   "source": [
    "test_data.shape\n",
    "\n",
    "test_data['구분'].value_counts()\n",
    "\n",
    "print(test_data.iloc[2160-5:2160])\n",
    "print(test_data.iloc[2160:2160+5]['구분'])\n",
    "print(test_data.iloc[2160*2:2160*2+5]['구분'])\n",
    "print(test_data.iloc[2160*3:2160*3+5]['구분'])\n",
    "print(test_data.iloc[2160*4:2160*4+5]['구분'])\n",
    "print(test_data.iloc[2160*5:2160*5+5]['구분'])\n",
    "print(test_data.iloc[2160*6:2160*6+5]['구분'])"
   ]
  },
  {
   "cell_type": "code",
   "execution_count": 13,
   "id": "908dc0bc",
   "metadata": {},
   "outputs": [],
   "source": [
    "training_A_12  = datas['data_A'][ (datas['data_A']['month'] == 12) & \\\n",
    "                                  (datas['data_A']['year'].isin([2013, 2014, 2015,2016, 2017])) ].reset_index(drop = True)\n",
    "training_A_1_3 = datas['data_A'][ (datas['data_A']['month'].isin([1,2,3])) & \\\n",
    "                                  (datas['data_A']['year'].isin([2014, 2015, 2016, 2017, 2018])) ].reset_index(drop = True)\n",
    "training_A = pd.concat([training_A_12, training_A_1_3], axis = 0).reset_index(drop=True)\n",
    "training_A = training_A.sort_values(['year', 'month']).reset_index(drop=True)"
   ]
  },
  {
   "cell_type": "code",
   "execution_count": 37,
   "id": "292a874b",
   "metadata": {},
   "outputs": [
    {
     "name": "stdout",
     "output_type": "stream",
     "text": [
      "연월일      2013-12-31 00:00:00\n",
      "시간                         1\n",
      "구분                         A\n",
      "공급량                 1901.489\n",
      "year                    2013\n",
      "month                     12\n",
      "day                       31\n",
      "Name: 720, dtype: object\n",
      "연월일      2014-12-30 00:00:00\n",
      "시간                         1\n",
      "구분                         A\n",
      "공급량                 1850.777\n",
      "year                    2014\n",
      "month                     12\n",
      "day                       30\n",
      "Name: 1440, dtype: object\n",
      "연월일      2015-12-29 00:00:00\n",
      "시간                         1\n",
      "구분                         A\n",
      "공급량                 2070.033\n",
      "year                    2015\n",
      "month                     12\n",
      "day                       29\n",
      "Name: 2160, dtype: object\n",
      "연월일      2016-12-28 00:00:00\n",
      "시간                         1\n",
      "구분                         A\n",
      "공급량                 2031.881\n",
      "year                    2016\n",
      "month                     12\n",
      "day                       28\n",
      "Name: 2880, dtype: object\n",
      "연월일      2017-12-27 00:00:00\n",
      "시간                         1\n",
      "구분                         A\n",
      "공급량                 2380.913\n",
      "year                    2017\n",
      "month                     12\n",
      "day                       27\n",
      "Name: 3600, dtype: object\n"
     ]
    }
   ],
   "source": [
    "### for cutting out all december days except the 31st\n",
    "\n",
    "#for i in range(1,6):\n",
    "#    print(training_A_12.iloc[720*i])\n",
    "\n"
   ]
  },
  {
   "cell_type": "code",
   "execution_count": 14,
   "id": "c19cfe1c",
   "metadata": {},
   "outputs": [
    {
     "name": "stdout",
     "output_type": "stream",
     "text": [
      "            연월일  시간 구분      공급량  year  month  day\n",
      "2903 2014-03-31  24  A  894.665  2014      3   31\n",
      "            연월일  시간 구분       공급량  year  month  day\n",
      "5807 2015-03-31  24  A  1027.969  2015      3   31\n",
      "            연월일  시간 구분       공급량  year  month  day\n",
      "8735 2016-03-31  24  A  1024.705  2016      3   31\n",
      "             연월일  시간 구분       공급량  year  month  day\n",
      "11639 2017-03-31  24  A  1283.609  2017      3   31\n",
      "             연월일  시간 구분      공급량  year  month  day\n",
      "14543 2018-03-31  24  A  784.105  2018      3   31\n",
      "연월일      2015-12-01 00:00:00\n",
      "시간                         1\n",
      "구분                         A\n",
      "공급량                 1511.977\n",
      "year                    2015\n",
      "month                     12\n",
      "day                        1\n",
      "Name: 5808, dtype: object\n"
     ]
    }
   ],
   "source": [
    "training_A.shape\n",
    "\n",
    "print(training_A[(training_A['year'] == 2014) & (training_A['month'] == 3) &\\\n",
    "            (training_A['day'] == 31) & (training_A['시간'] == 24)]) # 2903\n",
    "print(training_A[(training_A['year'] == 2015) & (training_A['month'] == 3) &\\\n",
    "            (training_A['day'] == 31) & (training_A['시간'] == 24)]) # 5807\n",
    "print(training_A[(training_A['year'] == 2016) & (training_A['month'] == 3) &\\\n",
    "            (training_A['day'] == 31) & (training_A['시간'] == 24)]) # 8735\n",
    "print(training_A[(training_A['year'] == 2017) & (training_A['month'] == 3) &\\\n",
    "            (training_A['day'] == 31) & (training_A['시간'] == 24)]) # 11639\n",
    "print(training_A[(training_A['year'] == 2018) & (training_A['month'] == 3) &\\\n",
    "            (training_A['day'] == 31) & (training_A['시간'] == 24)]) # 14543\n",
    "\n",
    "\n",
    "\n",
    "print(training_A.iloc[5808])\n",
    "\n",
    "indices = [2903, 5807, 8735, 11639, 14543]\n",
    "\n",
    "training_A_sep = []\n",
    "\n",
    "last_idx = 0\n",
    "for idx in indices:\n",
    "    idx = idx + 1 if idx != training_A.shape[0] -1 else idx\n",
    "    training_A_sep.append(training_A[last_idx:idx][['공급량', 'year', 'month', 'day', '시간']])\n",
    "    last_idx = idx+1\n",
    "\n",
    "# need to make it into 12 ~ 3, 12 ~ 3 "
   ]
  },
  {
   "cell_type": "code",
   "execution_count": 15,
   "id": "475e9995",
   "metadata": {},
   "outputs": [
    {
     "data": {
      "text/plain": [
       "<AxesSubplot:>"
      ]
     },
     "execution_count": 15,
     "metadata": {},
     "output_type": "execute_result"
    },
    {
     "data": {
      "image/png": "[encoded data removed]",
      "text/plain": [
       "<Figure size 432x288 with 1 Axes>"
      ]
     },
     "metadata": {
      "needs_background": "light"
     },
     "output_type": "display_data"
    }
   ],
   "source": [
    "# use 12, 1, 2, 3\n",
    "# and use past 30 days as input\n",
    "    \n",
    "training_A_sep[1]['공급량'].plot()"
   ]
  },
  {
   "cell_type": "code",
   "execution_count": 16,
   "id": "ea76c951",
   "metadata": {},
   "outputs": [],
   "source": [
    "# change pandas dataframe to numpy ndarray\n",
    "for i in range(len(training_A_sep)):\n",
    "    training_A_sep[i] = training_A_sep[i].values"
   ]
  },
  {
   "cell_type": "code",
   "execution_count": 17,
   "id": "c446de44",
   "metadata": {},
   "outputs": [
    {
     "name": "stdout",
     "output_type": "stream",
     "text": [
      "(2904, 1)\n"
     ]
    }
   ],
   "source": [
    "training_A_sep[0].shape # 2013 to 2014\n",
    "training_A_sep[0][-2:]\n",
    "\n",
    "print(training_A_sep[0][:,[0]].shape)"
   ]
  },
  {
   "cell_type": "code",
   "execution_count": 18,
   "id": "5b18411a",
   "metadata": {},
   "outputs": [],
   "source": [
    "from sklearn.preprocessing import MinMaxScaler\n",
    "\n",
    "x_scaler = MinMaxScaler()\n",
    "y_scaler = MinMaxScaler()\n",
    "\n",
    "x_scaler.fit(training_A_sep[0])\n",
    "y_scaler.fit(training_A_sep[0][:, [0]])\n",
    "\n",
    "x_norm = x_scaler.transform(training_A_sep[0])\n",
    "y_norm = y_scaler.transform(training_A_sep[0][:, [0]])"
   ]
  },
  {
   "cell_type": "code",
   "execution_count": 19,
   "id": "0833441b",
   "metadata": {},
   "outputs": [],
   "source": [
    "def create_LSTM_Input(data, seq_length, step_size):\n",
    "    final_data = np.zeros((data.shape[0]-seq_length, int(seq_length/step_size), data.shape[1]))\n",
    "\n",
    "    length = data.shape[0]\n",
    "\n",
    "    for i in range(final_data.shape[0]):\n",
    "        final_data[i] = data[i:i+seq_length:step_size]\n",
    "\n",
    "    return final_data\n",
    "\n",
    "def create_LSTM_Output(data, seq_length):\n",
    "    final_output = []\n",
    "    length = data.shape[0]\n",
    "    \n",
    "    for i in range(seq_length, length):\n",
    "        final_output.append(data[i])\n",
    "    \n",
    "    final_output = np.array(final_output)\n",
    "    #final_output = np.expand_dims(final_output, axis = 1)\n",
    "    \n",
    "    return final_output\n",
    "        "
   ]
  },
  {
   "cell_type": "code",
   "execution_count": 20,
   "id": "d573de4d",
   "metadata": {},
   "outputs": [
    {
     "data": {
      "text/plain": [
       "array([[0.17395912, 1.        , 0.18181818, 1.        , 0.95652174],\n",
       "       [0.15870425, 1.        , 0.18181818, 1.        , 1.        ]])"
      ]
     },
     "execution_count": 20,
     "metadata": {},
     "output_type": "execute_result"
    }
   ],
   "source": [
    "lstm_input = create_LSTM_Input(x_norm, 24, 1)\n",
    "lstm_output = create_LSTM_Output(y_norm, 24)\n",
    "\n",
    "x_norm[-2:]"
   ]
  },
  {
   "cell_type": "code",
   "execution_count": 21,
   "id": "7dc48e9a",
   "metadata": {},
   "outputs": [
    {
     "name": "stdout",
     "output_type": "stream",
     "text": [
      "(2880, 24, 5)\n",
      "(2880, 1)\n",
      "[[[0.13112771 1.         0.18181818 0.96666667 0.95652174]\n",
      "  [0.11834573 1.         0.18181818 0.96666667 1.        ]\n",
      "  [0.07566687 1.         0.18181818 1.         0.        ]\n",
      "  [0.01647527 1.         0.18181818 1.         0.04347826]\n",
      "  [0.         1.         0.18181818 1.         0.08695652]\n",
      "  [0.01537263 1.         0.18181818 1.         0.13043478]\n",
      "  [0.06646041 1.         0.18181818 1.         0.17391304]\n",
      "  [0.10546205 1.         0.18181818 1.         0.2173913 ]\n",
      "  [0.20672232 1.         0.18181818 1.         0.26086957]\n",
      "  [0.31091045 1.         0.18181818 1.         0.30434783]\n",
      "  [0.24317077 1.         0.18181818 1.         0.34782609]\n",
      "  [0.20500413 1.         0.18181818 1.         0.39130435]\n",
      "  [0.2049747  1.         0.18181818 1.         0.43478261]\n",
      "  [0.17911366 1.         0.18181818 1.         0.47826087]\n",
      "  [0.1814581  1.         0.18181818 1.         0.52173913]\n",
      "  [0.14592494 1.         0.18181818 1.         0.56521739]\n",
      "  [0.1132233  1.         0.18181818 1.         0.60869565]\n",
      "  [0.09601473 1.         0.18181818 1.         0.65217391]\n",
      "  [0.09543933 1.         0.18181818 1.         0.69565217]\n",
      "  [0.12774487 1.         0.18181818 1.         0.73913043]\n",
      "  [0.18078635 1.         0.18181818 1.         0.7826087 ]\n",
      "  [0.20225558 1.         0.18181818 1.         0.82608696]\n",
      "  [0.21117032 1.         0.18181818 1.         0.86956522]\n",
      "  [0.20637172 1.         0.18181818 1.         0.91304348]]\n",
      "\n",
      " [[0.11834573 1.         0.18181818 0.96666667 1.        ]\n",
      "  [0.07566687 1.         0.18181818 1.         0.        ]\n",
      "  [0.01647527 1.         0.18181818 1.         0.04347826]\n",
      "  [0.         1.         0.18181818 1.         0.08695652]\n",
      "  [0.01537263 1.         0.18181818 1.         0.13043478]\n",
      "  [0.06646041 1.         0.18181818 1.         0.17391304]\n",
      "  [0.10546205 1.         0.18181818 1.         0.2173913 ]\n",
      "  [0.20672232 1.         0.18181818 1.         0.26086957]\n",
      "  [0.31091045 1.         0.18181818 1.         0.30434783]\n",
      "  [0.24317077 1.         0.18181818 1.         0.34782609]\n",
      "  [0.20500413 1.         0.18181818 1.         0.39130435]\n",
      "  [0.2049747  1.         0.18181818 1.         0.43478261]\n",
      "  [0.17911366 1.         0.18181818 1.         0.47826087]\n",
      "  [0.1814581  1.         0.18181818 1.         0.52173913]\n",
      "  [0.14592494 1.         0.18181818 1.         0.56521739]\n",
      "  [0.1132233  1.         0.18181818 1.         0.60869565]\n",
      "  [0.09601473 1.         0.18181818 1.         0.65217391]\n",
      "  [0.09543933 1.         0.18181818 1.         0.69565217]\n",
      "  [0.12774487 1.         0.18181818 1.         0.73913043]\n",
      "  [0.18078635 1.         0.18181818 1.         0.7826087 ]\n",
      "  [0.20225558 1.         0.18181818 1.         0.82608696]\n",
      "  [0.21117032 1.         0.18181818 1.         0.86956522]\n",
      "  [0.20637172 1.         0.18181818 1.         0.91304348]\n",
      "  [0.17395912 1.         0.18181818 1.         0.95652174]]]\n",
      "[0.15870425]\n"
     ]
    }
   ],
   "source": [
    "print(lstm_input.shape)\n",
    "print(lstm_output.shape)\n",
    "print(lstm_input[-2:])\n",
    "print(lstm_output[-1])"
   ]
  },
  {
   "cell_type": "code",
   "execution_count": 22,
   "id": "60ff4ac4",
   "metadata": {},
   "outputs": [],
   "source": [
    "from sklearn.model_selection import train_test_split\n",
    "\n",
    "train_x, valid_x, train_y, valid_y = train_test_split(lstm_input, lstm_output, test_size = 0.2, random_state = 1311, shuffle=True)\n"
   ]
  },
  {
   "cell_type": "code",
   "execution_count": 23,
   "id": "d9a62b36",
   "metadata": {},
   "outputs": [
    {
     "name": "stdout",
     "output_type": "stream",
     "text": [
      "Init Plugin\n",
      "Init Graph Optimizer\n",
      "Init Kernel\n"
     ]
    }
   ],
   "source": [
    "import tensorflow as tf\n",
    "\n",
    "from tensorflow.keras.layers import Reshape, Dense, Input, LSTM, Flatten, Concatenate, Bidirectional, BatchNormalization, Dropout, ReLU, Activation, ConvLSTM2D, RepeatVector\n",
    "from tensorflow.keras.models import Model\n",
    "from tensorflow.keras.optimizers import Adam"
   ]
  },
  {
   "cell_type": "code",
   "execution_count": 27,
   "id": "a781a3f8",
   "metadata": {},
   "outputs": [
    {
     "name": "stdout",
     "output_type": "stream",
     "text": [
      "Model: \"model_1\"\n",
      "_________________________________________________________________\n",
      "Layer (type)                 Output Shape              Param #   \n",
      "=================================================================\n",
      "input_2 (InputLayer)         [(None, 24, 5)]           0         \n",
      "_________________________________________________________________\n",
      "bidirectional_2 (Bidirection (None, 24, 40)            4160      \n",
      "_________________________________________________________________\n",
      "batch_normalization_3 (Batch (None, 24, 40)            160       \n",
      "_________________________________________________________________\n",
      "activation_3 (Activation)    (None, 24, 40)            0         \n",
      "_________________________________________________________________\n",
      "bidirectional_3 (Bidirection (None, 24, 20)            4080      \n",
      "_________________________________________________________________\n",
      "batch_normalization_4 (Batch (None, 24, 20)            80        \n",
      "_________________________________________________________________\n",
      "activation_4 (Activation)    (None, 24, 20)            0         \n",
      "_________________________________________________________________\n",
      "flatten_1 (Flatten)          (None, 480)               0         \n",
      "_________________________________________________________________\n",
      "dense_2 (Dense)              (None, 32)                15392     \n",
      "_________________________________________________________________\n",
      "batch_normalization_5 (Batch (None, 32)                128       \n",
      "_________________________________________________________________\n",
      "activation_5 (Activation)    (None, 32)                0         \n",
      "_________________________________________________________________\n",
      "dense_3 (Dense)              (None, 1)                 33        \n",
      "=================================================================\n",
      "Total params: 24,033\n",
      "Trainable params: 23,849\n",
      "Non-trainable params: 184\n",
      "_________________________________________________________________\n"
     ]
    }
   ],
   "source": [
    "input_x = Input(shape=(24,5)) #(sequence length, num of features) for LSTM; i.e. 50 minutes (sequence of 50 minutes)\n",
    "\n",
    "x = Bidirectional(LSTM(20, return_sequences=True))(input_x)\n",
    "x = BatchNormalization()(x)\n",
    "x = Activation('tanh')(x)\n",
    "\n",
    "x = Bidirectional(LSTM(10, return_sequences=True))(x)\n",
    "x = BatchNormalization()(x)\n",
    "x = Activation('tanh')(x)\n",
    "\n",
    "x = Flatten()(x)\n",
    "\n",
    "x = Dense(32)(x)\n",
    "x = BatchNormalization()(x)\n",
    "x = Activation('relu')(x)\n",
    "\n",
    "output = Dense(1)(x)\n",
    "\n",
    "\n",
    "model = Model(inputs = input_x, outputs = output)\n",
    "model.compile(loss=\"mean_absolute_error\", optimizer = Adam(lr=0.001)) \n",
    "model.summary()\n"
   ]
  },
  {
   "cell_type": "code",
   "execution_count": 28,
   "id": "9d275fa7",
   "metadata": {},
   "outputs": [
    {
     "name": "stdout",
     "output_type": "stream",
     "text": [
      "Epoch 1/30\n"
     ]
    },
    {
     "name": "stderr",
     "output_type": "stream",
     "text": [
      "2021-10-18 22:00:29.065816: I tensorflow/core/grappler/optimizers/custom_graph_optimizer_registry.cc:112] Plugin optimizer for device_type GPU is enabled.\n",
      "2021-10-18 22:00:29.352712: I tensorflow/core/grappler/optimizers/custom_graph_optimizer_registry.cc:112] Plugin optimizer for device_type GPU is enabled.\n",
      "2021-10-18 22:00:29.352730: I tensorflow/core/grappler/optimizers/custom_graph_optimizer_registry.cc:112] Plugin optimizer for device_type GPU is enabled.\n",
      "2021-10-18 22:00:29.539779: I tensorflow/core/grappler/optimizers/custom_graph_optimizer_registry.cc:112] Plugin optimizer for device_type GPU is enabled.\n",
      "2021-10-18 22:00:29.551486: I tensorflow/core/grappler/optimizers/custom_graph_optimizer_registry.cc:112] Plugin optimizer for device_type GPU is enabled.\n",
      "2021-10-18 22:00:29.746716: I tensorflow/core/grappler/optimizers/custom_graph_optimizer_registry.cc:112] Plugin optimizer for device_type GPU is enabled.\n",
      "2021-10-18 22:00:29.749387: I tensorflow/core/grappler/optimizers/custom_graph_optimizer_registry.cc:112] Plugin optimizer for device_type GPU is enabled.\n",
      "2021-10-18 22:00:29.984213: I tensorflow/core/grappler/optimizers/custom_graph_optimizer_registry.cc:112] Plugin optimizer for device_type GPU is enabled.\n",
      "2021-10-18 22:00:30.003964: I tensorflow/core/grappler/optimizers/custom_graph_optimizer_registry.cc:112] Plugin optimizer for device_type GPU is enabled.\n"
     ]
    },
    {
     "name": "stdout",
     "output_type": "stream",
     "text": [
      "18/18 [==============================] - ETA: 0s - loss: 0.6161"
     ]
    },
    {
     "name": "stderr",
     "output_type": "stream",
     "text": [
      "2021-10-18 22:00:32.643701: I tensorflow/core/grappler/optimizers/custom_graph_optimizer_registry.cc:112] Plugin optimizer for device_type GPU is enabled.\n",
      "2021-10-18 22:00:32.745216: I tensorflow/core/grappler/optimizers/custom_graph_optimizer_registry.cc:112] Plugin optimizer for device_type GPU is enabled.\n",
      "2021-10-18 22:00:32.754473: I tensorflow/core/grappler/optimizers/custom_graph_optimizer_registry.cc:112] Plugin optimizer for device_type GPU is enabled.\n",
      "2021-10-18 22:00:32.927495: I tensorflow/core/grappler/optimizers/custom_graph_optimizer_registry.cc:112] Plugin optimizer for device_type GPU is enabled.\n",
      "2021-10-18 22:00:32.936822: I tensorflow/core/grappler/optimizers/custom_graph_optimizer_registry.cc:112] Plugin optimizer for device_type GPU is enabled.\n"
     ]
    },
    {
     "name": "stdout",
     "output_type": "stream",
     "text": [
      "18/18 [==============================] - 6s 196ms/step - loss: 0.6161 - val_loss: 0.4082\n",
      "Epoch 2/30\n",
      "18/18 [==============================] - 2s 130ms/step - loss: 0.2286 - val_loss: 0.2612\n",
      "Epoch 3/30\n",
      "18/18 [==============================] - 2s 129ms/step - loss: 0.1268 - val_loss: 0.2452\n",
      "Epoch 4/30\n",
      "18/18 [==============================] - 2s 131ms/step - loss: 0.0918 - val_loss: 0.2865\n",
      "Epoch 5/30\n",
      "18/18 [==============================] - 2s 130ms/step - loss: 0.0901 - val_loss: 0.3546\n",
      "Epoch 6/30\n",
      "18/18 [==============================] - 2s 135ms/step - loss: 0.0817 - val_loss: 0.3963\n",
      "Epoch 7/30\n",
      "18/18 [==============================] - 2s 129ms/step - loss: 0.0717 - val_loss: 0.4026\n",
      "Epoch 8/30\n",
      "18/18 [==============================] - 2s 131ms/step - loss: 0.0670 - val_loss: 0.4391\n",
      "Epoch 9/30\n",
      "18/18 [==============================] - 2s 131ms/step - loss: 0.0604 - val_loss: 0.4486\n",
      "Epoch 10/30\n",
      "18/18 [==============================] - 2s 136ms/step - loss: 0.0599 - val_loss: 0.4457\n",
      "Epoch 11/30\n",
      "18/18 [==============================] - 2s 132ms/step - loss: 0.0567 - val_loss: 0.4419\n",
      "Epoch 12/30\n",
      "18/18 [==============================] - 2s 130ms/step - loss: 0.0539 - val_loss: 0.4111\n",
      "Epoch 13/30\n",
      "18/18 [==============================] - 2s 130ms/step - loss: 0.0542 - val_loss: 0.3357\n",
      "Epoch 14/30\n",
      "18/18 [==============================] - 2s 132ms/step - loss: 0.0600 - val_loss: 0.3282\n",
      "Epoch 15/30\n",
      "18/18 [==============================] - 2s 129ms/step - loss: 0.0647 - val_loss: 0.2308\n",
      "Epoch 16/30\n",
      "18/18 [==============================] - 2s 129ms/step - loss: 0.0600 - val_loss: 0.1649\n",
      "Epoch 17/30\n",
      "18/18 [==============================] - 2s 129ms/step - loss: 0.0537 - val_loss: 0.1492\n",
      "Epoch 18/30\n",
      "18/18 [==============================] - 2s 130ms/step - loss: 0.0537 - val_loss: 0.1386\n",
      "Epoch 19/30\n",
      "18/18 [==============================] - 2s 131ms/step - loss: 0.0536 - val_loss: 0.1698\n",
      "Epoch 20/30\n",
      "18/18 [==============================] - 2s 129ms/step - loss: 0.0543 - val_loss: 0.1714\n",
      "Epoch 21/30\n",
      "18/18 [==============================] - 2s 132ms/step - loss: 0.0514 - val_loss: 0.1698\n",
      "Epoch 22/30\n",
      "18/18 [==============================] - 2s 130ms/step - loss: 0.0573 - val_loss: 0.1347\n",
      "Epoch 23/30\n",
      "18/18 [==============================] - 2s 131ms/step - loss: 0.0505 - val_loss: 0.1493\n",
      "Epoch 24/30\n",
      "18/18 [==============================] - 2s 130ms/step - loss: 0.0477 - val_loss: 0.1312\n",
      "Epoch 25/30\n",
      "18/18 [==============================] - 2s 131ms/step - loss: 0.0481 - val_loss: 0.1355\n",
      "Epoch 26/30\n",
      "18/18 [==============================] - 2s 130ms/step - loss: 0.0494 - val_loss: 0.1516\n",
      "Epoch 27/30\n",
      "18/18 [==============================] - 2s 130ms/step - loss: 0.0533 - val_loss: 0.1394\n",
      "Epoch 28/30\n",
      "18/18 [==============================] - 2s 130ms/step - loss: 0.0501 - val_loss: 0.2178\n",
      "Epoch 29/30\n",
      "18/18 [==============================] - 2s 130ms/step - loss: 0.0516 - val_loss: 0.1969\n",
      "Epoch 30/30\n",
      "18/18 [==============================] - 2s 129ms/step - loss: 0.0471 - val_loss: 0.2199\n"
     ]
    }
   ],
   "source": [
    "hist = model.fit(train_x, train_y, batch_size = 128, epochs =30, validation_data = (valid_x, valid_y))"
   ]
  },
  {
   "cell_type": "code",
   "execution_count": 29,
   "id": "30a8d43b",
   "metadata": {},
   "outputs": [
    {
     "data": {
      "text/plain": [
       "[<matplotlib.lines.Line2D at 0x2b5a47640>]"
      ]
     },
     "execution_count": 29,
     "metadata": {},
     "output_type": "execute_result"
    },
    {
     "data": {
      "image/png": "[encoded data removed]",
      "text/plain": [
       "<Figure size 432x288 with 1 Axes>"
      ]
     },
     "metadata": {
      "needs_background": "light"
     },
     "output_type": "display_data"
    }
   ],
   "source": [
    "plt.plot(hist.history['val_loss'])"
   ]
  },
  {
   "cell_type": "code",
   "execution_count": null,
   "id": "1249eca7",
   "metadata": {},
   "outputs": [],
   "source": []
  }
 ],
 "metadata": {
  "kernelspec": {
   "display_name": "Python 3 (ipykernel)",
   "language": "python",
   "name": "python3"
  },
  "language_info": {
   "codemirror_mode": {
    "name": "ipython",
    "version": 3
   },
   "file_extension": ".py",
   "mimetype": "text/x-python",
   "name": "python",
   "nbconvert_exporter": "python",
   "pygments_lexer": "ipython3",
   "version": "3.8.10"
  }
 },
 "nbformat": 4,
 "nbformat_minor": 5
}
