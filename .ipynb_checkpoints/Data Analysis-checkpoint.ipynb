{
 "cells": [
  {
   "cell_type": "code",
   "execution_count": 218,
   "id": "0fffbd1f",
   "metadata": {},
   "outputs": [],
   "source": [
    "import pandas as pd\n",
    "import numpy as np\n",
    "from matplotlib import pyplot as plt\n",
    "from pylab import rcParams\n",
    "import os"
   ]
  },
  {
   "cell_type": "code",
   "execution_count": 2,
   "id": "a735bbee",
   "metadata": {},
   "outputs": [],
   "source": [
    "data = pd.read_csv('./Data/한국가스공사_시간별 공급량_20181231.csv', encoding = 'euc-kr').dropna()"
   ]
  },
  {
   "cell_type": "code",
   "execution_count": 3,
   "id": "9f808735",
   "metadata": {},
   "outputs": [
    {
     "data": {
      "text/html": [
       "<div>\n",
       "<style scoped>\n",
       "    .dataframe tbody tr th:only-of-type {\n",
       "        vertical-align: middle;\n",
       "    }\n",
       "\n",
       "    .dataframe tbody tr th {\n",
       "        vertical-align: top;\n",
       "    }\n",
       "\n",
       "    .dataframe thead th {\n",
       "        text-align: right;\n",
       "    }\n",
       "</style>\n",
       "<table border=\"1\" class=\"dataframe\">\n",
       "  <thead>\n",
       "    <tr style=\"text-align: right;\">\n",
       "      <th></th>\n",
       "      <th>연월일</th>\n",
       "      <th>시간</th>\n",
       "      <th>구분</th>\n",
       "      <th>공급량</th>\n",
       "    </tr>\n",
       "  </thead>\n",
       "  <tbody>\n",
       "    <tr>\n",
       "      <th>0</th>\n",
       "      <td>2013-01-01</td>\n",
       "      <td>1</td>\n",
       "      <td>A</td>\n",
       "      <td>2497.129</td>\n",
       "    </tr>\n",
       "    <tr>\n",
       "      <th>1</th>\n",
       "      <td>2013-01-01</td>\n",
       "      <td>2</td>\n",
       "      <td>A</td>\n",
       "      <td>2363.265</td>\n",
       "    </tr>\n",
       "    <tr>\n",
       "      <th>2</th>\n",
       "      <td>2013-01-01</td>\n",
       "      <td>3</td>\n",
       "      <td>A</td>\n",
       "      <td>2258.505</td>\n",
       "    </tr>\n",
       "    <tr>\n",
       "      <th>3</th>\n",
       "      <td>2013-01-01</td>\n",
       "      <td>4</td>\n",
       "      <td>A</td>\n",
       "      <td>2243.969</td>\n",
       "    </tr>\n",
       "    <tr>\n",
       "      <th>4</th>\n",
       "      <td>2013-01-01</td>\n",
       "      <td>5</td>\n",
       "      <td>A</td>\n",
       "      <td>2344.105</td>\n",
       "    </tr>\n",
       "  </tbody>\n",
       "</table>\n",
       "</div>"
      ],
      "text/plain": [
       "          연월일  시간 구분       공급량\n",
       "0  2013-01-01   1  A  2497.129\n",
       "1  2013-01-01   2  A  2363.265\n",
       "2  2013-01-01   3  A  2258.505\n",
       "3  2013-01-01   4  A  2243.969\n",
       "4  2013-01-01   5  A  2344.105"
      ]
     },
     "execution_count": 3,
     "metadata": {},
     "output_type": "execute_result"
    }
   ],
   "source": [
    "data.head()"
   ]
  },
  {
   "cell_type": "code",
   "execution_count": 4,
   "id": "e46b84c1",
   "metadata": {},
   "outputs": [],
   "source": [
    "data['연월일'] = pd.to_datetime(data['연월일'])"
   ]
  },
  {
   "cell_type": "code",
   "execution_count": 5,
   "id": "da84f850",
   "metadata": {},
   "outputs": [
    {
     "data": {
      "text/plain": [
       "(368088, 4)"
      ]
     },
     "execution_count": 5,
     "metadata": {},
     "output_type": "execute_result"
    }
   ],
   "source": [
    "data.shape"
   ]
  },
  {
   "cell_type": "code",
   "execution_count": 6,
   "id": "aa386710",
   "metadata": {},
   "outputs": [],
   "source": [
    "data['year']  = data['연월일'].dt.year\n",
    "data['month'] = data['연월일'].dt.month\n",
    "data['day']   = data['연월일'].dt.day"
   ]
  },
  {
   "cell_type": "code",
   "execution_count": 7,
   "id": "34ffe25f",
   "metadata": {},
   "outputs": [
    {
     "data": {
      "text/html": [
       "<div>\n",
       "<style scoped>\n",
       "    .dataframe tbody tr th:only-of-type {\n",
       "        vertical-align: middle;\n",
       "    }\n",
       "\n",
       "    .dataframe tbody tr th {\n",
       "        vertical-align: top;\n",
       "    }\n",
       "\n",
       "    .dataframe thead th {\n",
       "        text-align: right;\n",
       "    }\n",
       "</style>\n",
       "<table border=\"1\" class=\"dataframe\">\n",
       "  <thead>\n",
       "    <tr style=\"text-align: right;\">\n",
       "      <th></th>\n",
       "      <th>연월일</th>\n",
       "      <th>시간</th>\n",
       "      <th>구분</th>\n",
       "      <th>공급량</th>\n",
       "      <th>year</th>\n",
       "      <th>month</th>\n",
       "      <th>day</th>\n",
       "    </tr>\n",
       "  </thead>\n",
       "  <tbody>\n",
       "    <tr>\n",
       "      <th>368078</th>\n",
       "      <td>2018-12-31</td>\n",
       "      <td>15</td>\n",
       "      <td>H</td>\n",
       "      <td>525.488</td>\n",
       "      <td>2018</td>\n",
       "      <td>12</td>\n",
       "      <td>31</td>\n",
       "    </tr>\n",
       "    <tr>\n",
       "      <th>368079</th>\n",
       "      <td>2018-12-31</td>\n",
       "      <td>16</td>\n",
       "      <td>H</td>\n",
       "      <td>518.009</td>\n",
       "      <td>2018</td>\n",
       "      <td>12</td>\n",
       "      <td>31</td>\n",
       "    </tr>\n",
       "    <tr>\n",
       "      <th>368080</th>\n",
       "      <td>2018-12-31</td>\n",
       "      <td>17</td>\n",
       "      <td>H</td>\n",
       "      <td>542.360</td>\n",
       "      <td>2018</td>\n",
       "      <td>12</td>\n",
       "      <td>31</td>\n",
       "    </tr>\n",
       "    <tr>\n",
       "      <th>368081</th>\n",
       "      <td>2018-12-31</td>\n",
       "      <td>18</td>\n",
       "      <td>H</td>\n",
       "      <td>603.138</td>\n",
       "      <td>2018</td>\n",
       "      <td>12</td>\n",
       "      <td>31</td>\n",
       "    </tr>\n",
       "    <tr>\n",
       "      <th>368082</th>\n",
       "      <td>2018-12-31</td>\n",
       "      <td>19</td>\n",
       "      <td>H</td>\n",
       "      <td>678.975</td>\n",
       "      <td>2018</td>\n",
       "      <td>12</td>\n",
       "      <td>31</td>\n",
       "    </tr>\n",
       "    <tr>\n",
       "      <th>368083</th>\n",
       "      <td>2018-12-31</td>\n",
       "      <td>20</td>\n",
       "      <td>H</td>\n",
       "      <td>681.033</td>\n",
       "      <td>2018</td>\n",
       "      <td>12</td>\n",
       "      <td>31</td>\n",
       "    </tr>\n",
       "    <tr>\n",
       "      <th>368084</th>\n",
       "      <td>2018-12-31</td>\n",
       "      <td>21</td>\n",
       "      <td>H</td>\n",
       "      <td>669.961</td>\n",
       "      <td>2018</td>\n",
       "      <td>12</td>\n",
       "      <td>31</td>\n",
       "    </tr>\n",
       "    <tr>\n",
       "      <th>368085</th>\n",
       "      <td>2018-12-31</td>\n",
       "      <td>22</td>\n",
       "      <td>H</td>\n",
       "      <td>657.941</td>\n",
       "      <td>2018</td>\n",
       "      <td>12</td>\n",
       "      <td>31</td>\n",
       "    </tr>\n",
       "    <tr>\n",
       "      <th>368086</th>\n",
       "      <td>2018-12-31</td>\n",
       "      <td>23</td>\n",
       "      <td>H</td>\n",
       "      <td>610.953</td>\n",
       "      <td>2018</td>\n",
       "      <td>12</td>\n",
       "      <td>31</td>\n",
       "    </tr>\n",
       "    <tr>\n",
       "      <th>368087</th>\n",
       "      <td>2018-12-31</td>\n",
       "      <td>24</td>\n",
       "      <td>H</td>\n",
       "      <td>560.896</td>\n",
       "      <td>2018</td>\n",
       "      <td>12</td>\n",
       "      <td>31</td>\n",
       "    </tr>\n",
       "  </tbody>\n",
       "</table>\n",
       "</div>"
      ],
      "text/plain": [
       "              연월일  시간 구분      공급량  year  month  day\n",
       "368078 2018-12-31  15  H  525.488  2018     12   31\n",
       "368079 2018-12-31  16  H  518.009  2018     12   31\n",
       "368080 2018-12-31  17  H  542.360  2018     12   31\n",
       "368081 2018-12-31  18  H  603.138  2018     12   31\n",
       "368082 2018-12-31  19  H  678.975  2018     12   31\n",
       "368083 2018-12-31  20  H  681.033  2018     12   31\n",
       "368084 2018-12-31  21  H  669.961  2018     12   31\n",
       "368085 2018-12-31  22  H  657.941  2018     12   31\n",
       "368086 2018-12-31  23  H  610.953  2018     12   31\n",
       "368087 2018-12-31  24  H  560.896  2018     12   31"
      ]
     },
     "execution_count": 7,
     "metadata": {},
     "output_type": "execute_result"
    }
   ],
   "source": [
    "data.iloc[-10:]"
   ]
  },
  {
   "cell_type": "code",
   "execution_count": null,
   "id": "c00c3da9",
   "metadata": {},
   "outputs": [],
   "source": []
  },
  {
   "cell_type": "code",
   "execution_count": 8,
   "id": "15642f5a",
   "metadata": {},
   "outputs": [
    {
     "data": {
      "text/plain": [
       "A    52584\n",
       "B    52584\n",
       "C    52584\n",
       "D    52584\n",
       "E    52584\n",
       "G    52584\n",
       "H    52584\n",
       "Name: 구분, dtype: int64"
      ]
     },
     "execution_count": 8,
     "metadata": {},
     "output_type": "execute_result"
    }
   ],
   "source": [
    "data['구분'].value_counts()"
   ]
  },
  {
   "cell_type": "code",
   "execution_count": 9,
   "id": "dac5a7ab",
   "metadata": {},
   "outputs": [],
   "source": [
    "suppliers = ['A', 'B', 'C', 'D', 'E', 'G', 'H']\n",
    "datas = dict()\n",
    "\n",
    "for supplier in suppliers:\n",
    "    datas['data_{}'.format(supplier)] = (data[data['구분'] == supplier].reset_index(drop=True))"
   ]
  },
  {
   "cell_type": "code",
   "execution_count": 10,
   "id": "a9bccd5e",
   "metadata": {},
   "outputs": [
    {
     "name": "stdout",
     "output_type": "stream",
     "text": [
      "(52584, 7)\n",
      "(52584, 7)\n",
      "(52584, 7)\n",
      "(52584, 7)\n",
      "(52584, 7)\n",
      "(52584, 7)\n",
      "(52584, 7)\n"
     ]
    }
   ],
   "source": [
    "for data in datas.values():\n",
    "    print(data.shape)"
   ]
  },
  {
   "cell_type": "code",
   "execution_count": null,
   "id": "40578738",
   "metadata": {},
   "outputs": [],
   "source": []
  },
  {
   "cell_type": "code",
   "execution_count": 11,
   "id": "265658f6",
   "metadata": {},
   "outputs": [
    {
     "data": {
      "text/plain": [
       "365"
      ]
     },
     "execution_count": 11,
     "metadata": {},
     "output_type": "execute_result"
    }
   ],
   "source": [
    "months = [31, 28, 31, 30, 31, 30, 31, 31, 30, 31, 30, 31]\n",
    "\n",
    "# checking if the number of days add up to 365\n",
    "total = 0\n",
    "for i in months:\n",
    "    total += i\n",
    "    \n",
    "total"
   ]
  },
  {
   "cell_type": "code",
   "execution_count": 12,
   "id": "8304b073",
   "metadata": {},
   "outputs": [
    {
     "data": {
      "text/plain": [
       "[31, 59, 90, 120, 151, 181, 212, 243, 273, 304, 334, 365]"
      ]
     },
     "execution_count": 12,
     "metadata": {},
     "output_type": "execute_result"
    }
   ],
   "source": [
    "# vertical lines for indicating the end of each month\n",
    "index = 0\n",
    "vertical_coords = []\n",
    "\n",
    "for i in months:\n",
    "    index += i\n",
    "    vertical_coords.append(index)\n",
    "    \n",
    "vertical_coords"
   ]
  },
  {
   "cell_type": "code",
   "execution_count": null,
   "id": "22081c52",
   "metadata": {},
   "outputs": [],
   "source": [
    "#plt.figure(figsize = (10,6))\n",
    "\n",
    "for data in datas.values():\n",
    "    rcParams['figure.figsize'] = 20, 10\n",
    "    fig = plt.figure()\n",
    "\n",
    "    ax1 = fig.add_subplot(231)\n",
    "    ax2 = fig.add_subplot(232)\n",
    "    ax3 = fig.add_subplot(233)\n",
    "    ax4 = fig.add_subplot(234)\n",
    "    ax5 = fig.add_subplot(235)\n",
    "    ax6 = fig.add_subplot(236)\n",
    "\n",
    "    axes = [ax1, ax2, ax3, ax4, ax5, ax6]\n",
    "\n",
    "    for ax in axes:\n",
    "        for vc in vertical_coords:\n",
    "            ax.axvline(vc*24, linewidth=2, color=\"r\")\n",
    "    \n",
    "    plotted_datas = []\n",
    "    years = [2013, 2014, 2015, 2016, 2017, 2018]\n",
    "    \n",
    "    for year in years:\n",
    "        plotted_datas.append(data[data['year'] == year].reset_index(drop=True))\n",
    "    \n",
    "    \n",
    "    i = 0\n",
    "    while i < len(axes):\n",
    "        axes[i].plot(plotted_datas[i]['공급량'])\n",
    "        axes[i].set_ylim(( 0, data['공급량'].max() + 500 ))\n",
    "        axes[i].set_title(\"Supplier \"+ str(plotted_datas[i]['구분'][0])+ \" \" + str(plotted_datas[i]['year'][0]))\n",
    "        i += 1\n",
    "\n",
    "    #plt.savefig('./Graphs/supplier{}.png'.format(str(plotted_datas[0]['구분'][0])), dpi=100)\n"
   ]
  },
  {
   "cell_type": "code",
   "execution_count": null,
   "id": "4575193f",
   "metadata": {},
   "outputs": [],
   "source": [
    "'''\n",
    "# saving data for each supplier\n",
    "for k,v in datas.items():\n",
    "    filepath = './Data/supplier_{}.csv'.format(k[-1])\n",
    "    v.to_csv(filepath)\n",
    "'''"
   ]
  },
  {
   "cell_type": "code",
   "execution_count": null,
   "id": "3ebf89ec",
   "metadata": {},
   "outputs": [],
   "source": []
  },
  {
   "cell_type": "code",
   "execution_count": null,
   "id": "a0703d2f",
   "metadata": {},
   "outputs": [],
   "source": [
    "test_data = pd.read_csv('./Submission/test.csv')"
   ]
  },
  {
   "cell_type": "code",
   "execution_count": null,
   "id": "0d8fa2e9",
   "metadata": {},
   "outputs": [],
   "source": [
    "test_data['구분'] = test_data['일자|시간|구분'].str[-1]\n",
    "test_data['연월일'] = pd.to_datetime(test_data['일자|시간|구분'].str[:-5])\n",
    "test_data['시간'] = test_data['일자|시간|구분'].str[-4:-2].astype(np.float32)\n",
    "\n",
    "test_data['year']  = test_data['연월일'].dt.year\n",
    "test_data['month'] = test_data['연월일'].dt.month\n",
    "test_data['day']   = test_data['연월일'].dt.day"
   ]
  },
  {
   "cell_type": "code",
   "execution_count": null,
   "id": "aa920c9f",
   "metadata": {},
   "outputs": [],
   "source": [
    "test_data.head()"
   ]
  },
  {
   "cell_type": "code",
   "execution_count": null,
   "id": "f65ab943",
   "metadata": {},
   "outputs": [],
   "source": [
    "test_data.shape\n",
    "\n",
    "test_data['구분'].value_counts()\n",
    "\n",
    "print(test_data.iloc[2160-5:2160])\n",
    "print(test_data.iloc[2160:2160+5]['구분'])\n",
    "print(test_data.iloc[2160*2:2160*2+5]['구분'])\n",
    "print(test_data.iloc[2160*3:2160*3+5]['구분'])\n",
    "print(test_data.iloc[2160*4:2160*4+5]['구분'])\n",
    "print(test_data.iloc[2160*5:2160*5+5]['구분'])\n",
    "print(test_data.iloc[2160*6:2160*6+5]['구분'])"
   ]
  },
  {
   "cell_type": "code",
   "execution_count": 89,
   "id": "908dc0bc",
   "metadata": {},
   "outputs": [
    {
     "name": "stdout",
     "output_type": "stream",
     "text": [
      "연월일      2013-12-31 00:00:00\n",
      "시간                         1\n",
      "구분                         A\n",
      "공급량                 1901.489\n",
      "year                    2013\n",
      "month                     12\n",
      "day                       31\n",
      "Name: 720, dtype: object\n",
      "연월일      2014-12-31 00:00:00\n",
      "시간                         1\n",
      "구분                         A\n",
      "공급량                 1909.305\n",
      "year                    2014\n",
      "month                     12\n",
      "day                       31\n",
      "Name: 1464, dtype: object\n",
      "연월일      2015-12-31 00:00:00\n",
      "시간                         1\n",
      "구분                         A\n",
      "공급량                 1783.377\n",
      "year                    2015\n",
      "month                     12\n",
      "day                       31\n",
      "Name: 2208, dtype: object\n",
      "연월일      2016-12-31 00:00:00\n",
      "시간                         1\n",
      "구분                         A\n",
      "공급량                 1921.297\n",
      "year                    2016\n",
      "month                     12\n",
      "day                       31\n",
      "Name: 2952, dtype: object\n",
      "연월일      2017-12-31 00:00:00\n",
      "시간                         1\n",
      "구분                         A\n",
      "공급량                 1762.934\n",
      "year                    2017\n",
      "month                     12\n",
      "day                       31\n",
      "Name: 3696, dtype: object\n"
     ]
    }
   ],
   "source": [
    "training_A_12  = datas['data_A'][ (datas['data_A']['month'] == 12) & \\\n",
    "                                  (datas['data_A']['year'].isin([2013, 2014, 2015,2016, 2017])) ].reset_index(drop = True)\n",
    "\n",
    "\n",
    "### for cutting out all december days except the 31st\n",
    "training_A_12 = training_A_12.sort_values(['year', 'month','day']).reset_index(drop=True)\n",
    "\n",
    "training_A_12['year'].value_counts()\n",
    "training_A_12_cut = []\n",
    "for i in range(1,6):\n",
    "    training_A_12_cut.append(training_A_12.iloc[(744*i)-24:744*i])\n",
    "\n",
    "training_A_12_final = pd.concat(training_A_12_cut, axis = 0)\n",
    "training_A_12_final['year'].value_counts()\n",
    "\n",
    "for i in range(0,5):\n",
    "    print(training_A_12_final.iloc[24*i])\n",
    "    "
   ]
  },
  {
   "cell_type": "code",
   "execution_count": 90,
   "id": "d1986330",
   "metadata": {},
   "outputs": [],
   "source": [
    "training_A_1_3 = datas['data_A'][ (datas['data_A']['month'].isin([1,2,3])) & \\\n",
    "                                  (datas['data_A']['year'].isin([2014, 2015, 2016, 2017, 2018])) ].reset_index(drop = True)\n",
    "\n",
    "\n",
    "training_A = pd.concat([training_A_12_final, training_A_1_3], axis = 0).reset_index(drop=True)\n",
    "training_A = training_A.sort_values(['year', 'month']).reset_index(drop=True)"
   ]
  },
  {
   "cell_type": "code",
   "execution_count": 91,
   "id": "09d9b44a",
   "metadata": {},
   "outputs": [
    {
     "data": {
      "text/plain": [
       "2016    2208\n",
       "2014    2184\n",
       "2015    2184\n",
       "2017    2184\n",
       "2018    2160\n",
       "2013      24\n",
       "Name: year, dtype: int64"
      ]
     },
     "execution_count": 91,
     "metadata": {},
     "output_type": "execute_result"
    }
   ],
   "source": [
    "training_A['year'].value_counts()"
   ]
  },
  {
   "cell_type": "code",
   "execution_count": 128,
   "id": "c19cfe1c",
   "metadata": {},
   "outputs": [
    {
     "name": "stdout",
     "output_type": "stream",
     "text": [
      "(10944, 7)\n",
      "[2183, 4367, 6575, 8759, 10943]\n"
     ]
    }
   ],
   "source": [
    "print(training_A.shape)\n",
    "\n",
    "years = [2014, 2015, 2016, 2017, 2018]\n",
    "indices = []\n",
    "for year in years:\n",
    "    indices.append(training_A[(training_A['year'] == year) & (training_A['month'] == 3) &\\\n",
    "            (training_A['day'] == 31) & (training_A['시간'] == 24)].index[0])\n",
    "    \n",
    "print(indices)\n",
    "\n",
    "training_A_sep = []\n",
    "\n",
    "#print(training_A[0:2184])\n",
    "\n",
    "last_idx = 0\n",
    "for idx in indices:\n",
    "    idx = idx + 1 \n",
    "    #if idx != training_A.shape[0] -1 else idx\n",
    "    training_A_sep.append(training_A[last_idx:idx][['공급량', 'year', 'month', 'day', '시간']])\n",
    "    last_idx = idx\n"
   ]
  },
  {
   "cell_type": "code",
   "execution_count": 129,
   "id": "475e9995",
   "metadata": {},
   "outputs": [
    {
     "name": "stdout",
     "output_type": "stream",
     "text": [
      "        공급량  year  month  day  시간\n",
      "0  1901.489  2013     12   31   1\n",
      "1  1706.081  2013     12   31   2\n",
      "2  1533.921  2013     12   31   3\n",
      "3  1611.033  2013     12   31   4\n",
      "4  1792.161  2013     12   31   5\n",
      "           공급량  year  month  day  시간\n",
      "2179  1024.849  2014      3   31  20\n",
      "2180  1051.497  2014      3   31  21\n",
      "2181  1037.153  2014      3   31  22\n",
      "2182   940.265  2014      3   31  23\n",
      "2183   894.665  2014      3   31  24\n"
     ]
    }
   ],
   "source": [
    "# use 12, 1, 2, 3\n",
    "# and use past 30 days as input\n",
    "    \n",
    "print(training_A_sep[0].iloc[:5])\n",
    "print(training_A_sep[0].iloc[-5:])\n"
   ]
  },
  {
   "cell_type": "code",
   "execution_count": 130,
   "id": "ea76c951",
   "metadata": {},
   "outputs": [],
   "source": [
    "# change pandas dataframe to numpy ndarray\n",
    "for i in range(len(training_A_sep)):\n",
    "    training_A_sep[i] = training_A_sep[i].values"
   ]
  },
  {
   "cell_type": "code",
   "execution_count": 131,
   "id": "c446de44",
   "metadata": {},
   "outputs": [
    {
     "name": "stdout",
     "output_type": "stream",
     "text": [
      "(2184, 1)\n"
     ]
    }
   ],
   "source": [
    "training_A_sep[0].shape # 2013 to 2014\n",
    "training_A_sep[0][-2:]\n",
    "\n",
    "print(training_A_sep[0][:,[0]].shape)"
   ]
  },
  {
   "cell_type": "code",
   "execution_count": 133,
   "id": "424807c9",
   "metadata": {},
   "outputs": [
    {
     "data": {
      "text/plain": [
       "array([[1.901489e+03, 2.013000e+03, 1.200000e+01, 3.100000e+01,\n",
       "        1.000000e+00],\n",
       "       [1.706081e+03, 2.013000e+03, 1.200000e+01, 3.100000e+01,\n",
       "        2.000000e+00],\n",
       "       [1.533921e+03, 2.013000e+03, 1.200000e+01, 3.100000e+01,\n",
       "        3.000000e+00],\n",
       "       [1.611033e+03, 2.013000e+03, 1.200000e+01, 3.100000e+01,\n",
       "        4.000000e+00],\n",
       "       [1.792161e+03, 2.013000e+03, 1.200000e+01, 3.100000e+01,\n",
       "        5.000000e+00]])"
      ]
     },
     "execution_count": 133,
     "metadata": {},
     "output_type": "execute_result"
    }
   ],
   "source": [
    "training_A_np = np.concatenate(training_A_sep, axis = 0)\n",
    "training_A_np.shape\n",
    "\n",
    "training_A_np[:5]"
   ]
  },
  {
   "cell_type": "code",
   "execution_count": 134,
   "id": "5b18411a",
   "metadata": {},
   "outputs": [],
   "source": [
    "from sklearn.preprocessing import MinMaxScaler\n",
    "\n",
    "x_scaler = MinMaxScaler()\n",
    "y_scaler = MinMaxScaler()\n",
    "\n",
    "x_scaler.fit(training_A_np)\n",
    "y_scaler.fit(training_A_np[:, [0]])"
   ]
  },
  {
   "cell_type": "code",
   "execution_count": 106,
   "id": "0833441b",
   "metadata": {},
   "outputs": [],
   "source": [
    "def create_LSTM_Input(data, seq_length, step_size):\n",
    "    final_data = np.zeros((data.shape[0]-seq_length, int(seq_length/step_size), data.shape[1]))\n",
    "\n",
    "    length = data.shape[0]\n",
    "\n",
    "    for i in range(final_data.shape[0]):\n",
    "        final_data[i] = data[i:i+seq_length:step_size]\n",
    "\n",
    "    return final_data\n",
    "\n",
    "def create_LSTM_Output(data, seq_length):\n",
    "    final_output = []\n",
    "    length = data.shape[0]\n",
    "    \n",
    "    for i in range(seq_length, length):\n",
    "        final_output.append(data[i])\n",
    "    \n",
    "    final_output = np.array(final_output)\n",
    "    #final_output = np.expand_dims(final_output, axis = 1)\n",
    "    \n",
    "    return final_output\n",
    "        "
   ]
  },
  {
   "cell_type": "code",
   "execution_count": 208,
   "id": "d573de4d",
   "metadata": {},
   "outputs": [],
   "source": [
    "lstm_input_lst = []\n",
    "lstm_output_lst = []\n",
    "for i in range(len(training_A_sep)):\n",
    "    x_norm = x_scaler.transform(training_A_sep[i])\n",
    "    #[:,[0, 4]]\n",
    "    y_norm = y_scaler.transform(training_A_sep[i][:, [0]])\n",
    "    lstm_input_lst.append(create_LSTM_Input(x_norm, 3, 1))\n",
    "    lstm_output_lst.append(create_LSTM_Output(y_norm, 3))\n",
    "\n",
    "    \n",
    "lstm_input = np.concatenate(lstm_input_lst, axis = 0)\n",
    "lstm_output = np.concatenate(lstm_output_lst, axis = 0)"
   ]
  },
  {
   "cell_type": "code",
   "execution_count": 209,
   "id": "2c8a4b8e",
   "metadata": {},
   "outputs": [
    {
     "data": {
      "text/plain": [
       "(2208, 5)"
      ]
     },
     "execution_count": 209,
     "metadata": {},
     "output_type": "execute_result"
    }
   ],
   "source": [
    "training_A_sep[2].shape"
   ]
  },
  {
   "cell_type": "code",
   "execution_count": 210,
   "id": "7dc48e9a",
   "metadata": {},
   "outputs": [
    {
     "name": "stdout",
     "output_type": "stream",
     "text": [
      "(10929, 3, 5)\n",
      "(10929, 1)\n",
      "[[[0.39824091 0.         1.         1.         0.        ]\n",
      "  [0.34570364 0.         1.         1.         0.04347826]\n",
      "  [0.29941682 0.         1.         1.         0.08695652]]\n",
      "\n",
      " [[0.34570364 0.         1.         1.         0.04347826]\n",
      "  [0.29941682 0.         1.         1.         0.08695652]\n",
      "  [0.3201491  0.         1.         1.         0.13043478]]]\n",
      "[[0.3201491 ]\n",
      " [0.36884705]]\n"
     ]
    }
   ],
   "source": [
    "print(lstm_input.shape)\n",
    "print(lstm_output.shape)\n",
    "print(lstm_input[:2])\n",
    "print(lstm_output[:2])"
   ]
  },
  {
   "cell_type": "code",
   "execution_count": 211,
   "id": "60ff4ac4",
   "metadata": {},
   "outputs": [],
   "source": [
    "from sklearn.model_selection import train_test_split\n",
    "\n",
    "train_x, valid_x, train_y, valid_y = train_test_split(lstm_input, lstm_output, test_size = 0.2, random_state = 1311, shuffle=True)\n"
   ]
  },
  {
   "cell_type": "code",
   "execution_count": 212,
   "id": "d9a62b36",
   "metadata": {},
   "outputs": [],
   "source": [
    "import tensorflow as tf\n",
    "\n",
    "from tensorflow.keras.layers import Reshape, Dense, Input, LSTM, Flatten, Concatenate, Bidirectional, BatchNormalization, Dropout, ReLU, Activation, ConvLSTM2D, RepeatVector\n",
    "from tensorflow.keras.models import Model\n",
    "from tensorflow.keras.optimizers import Adam"
   ]
  },
  {
   "cell_type": "code",
   "execution_count": 215,
   "id": "a781a3f8",
   "metadata": {},
   "outputs": [
    {
     "name": "stdout",
     "output_type": "stream",
     "text": [
      "Model: \"model_15\"\n",
      "_________________________________________________________________\n",
      "Layer (type)                 Output Shape              Param #   \n",
      "=================================================================\n",
      "input_16 (InputLayer)        [(None, 3, 5)]            0         \n",
      "_________________________________________________________________\n",
      "lstm_30 (LSTM)               (None, 3, 20)             2080      \n",
      "_________________________________________________________________\n",
      "batch_normalization_45 (Batc (None, 3, 20)             80        \n",
      "_________________________________________________________________\n",
      "activation_45 (Activation)   (None, 3, 20)             0         \n",
      "_________________________________________________________________\n",
      "lstm_31 (LSTM)               (None, 3, 10)             1240      \n",
      "_________________________________________________________________\n",
      "batch_normalization_46 (Batc (None, 3, 10)             40        \n",
      "_________________________________________________________________\n",
      "activation_46 (Activation)   (None, 3, 10)             0         \n",
      "_________________________________________________________________\n",
      "flatten_15 (Flatten)         (None, 30)                0         \n",
      "_________________________________________________________________\n",
      "dense_30 (Dense)             (None, 32)                992       \n",
      "_________________________________________________________________\n",
      "batch_normalization_47 (Batc (None, 32)                128       \n",
      "_________________________________________________________________\n",
      "activation_47 (Activation)   (None, 32)                0         \n",
      "_________________________________________________________________\n",
      "dense_31 (Dense)             (None, 1)                 33        \n",
      "=================================================================\n",
      "Total params: 4,593\n",
      "Trainable params: 4,469\n",
      "Non-trainable params: 124\n",
      "_________________________________________________________________\n"
     ]
    }
   ],
   "source": [
    "input_x = Input(shape=(3,5)) #(sequence length, num of features) for LSTM; i.e. 50 minutes (sequence of 50 minutes)\n",
    "\n",
    "x = LSTM(20, return_sequences=True)(input_x)\n",
    "x = BatchNormalization()(x)\n",
    "x = Activation('tanh')(x)\n",
    "\n",
    "x = LSTM(10, return_sequences=True)(x)\n",
    "x = BatchNormalization()(x)\n",
    "x = Activation('tanh')(x)\n",
    "\n",
    "x = Flatten()(x)\n",
    "\n",
    "x = Dense(32)(x)\n",
    "x = BatchNormalization()(x)\n",
    "x = Activation('relu')(x)\n",
    "\n",
    "output = Dense(1)(x)\n",
    "\n",
    "\n",
    "model = Model(inputs = input_x, outputs = output)\n",
    "model.compile(loss=\"mean_absolute_error\", optimizer = Adam(lr=0.001)) \n",
    "model.summary()\n"
   ]
  },
  {
   "cell_type": "code",
   "execution_count": 216,
   "id": "9d275fa7",
   "metadata": {},
   "outputs": [
    {
     "name": "stdout",
     "output_type": "stream",
     "text": [
      "Epoch 1/30\n"
     ]
    },
    {
     "name": "stderr",
     "output_type": "stream",
     "text": [
      "2021-10-19 22:36:37.709190: I tensorflow/core/grappler/optimizers/custom_graph_optimizer_registry.cc:112] Plugin optimizer for device_type GPU is enabled.\n",
      "2021-10-19 22:36:37.952442: I tensorflow/core/grappler/optimizers/custom_graph_optimizer_registry.cc:112] Plugin optimizer for device_type GPU is enabled.\n",
      "2021-10-19 22:36:38.029111: I tensorflow/core/grappler/optimizers/custom_graph_optimizer_registry.cc:112] Plugin optimizer for device_type GPU is enabled.\n",
      "2021-10-19 22:36:38.095458: I tensorflow/core/grappler/optimizers/custom_graph_optimizer_registry.cc:112] Plugin optimizer for device_type GPU is enabled.\n",
      "2021-10-19 22:36:38.151949: I tensorflow/core/grappler/optimizers/custom_graph_optimizer_registry.cc:112] Plugin optimizer for device_type GPU is enabled.\n"
     ]
    },
    {
     "name": "stdout",
     "output_type": "stream",
     "text": [
      "69/69 [==============================] - ETA: 0s - loss: 0.1744"
     ]
    },
    {
     "name": "stderr",
     "output_type": "stream",
     "text": [
      "2021-10-19 22:36:40.127346: I tensorflow/core/grappler/optimizers/custom_graph_optimizer_registry.cc:112] Plugin optimizer for device_type GPU is enabled.\n",
      "2021-10-19 22:36:40.187877: I tensorflow/core/grappler/optimizers/custom_graph_optimizer_registry.cc:112] Plugin optimizer for device_type GPU is enabled.\n",
      "2021-10-19 22:36:40.208987: I tensorflow/core/grappler/optimizers/custom_graph_optimizer_registry.cc:112] Plugin optimizer for device_type GPU is enabled.\n"
     ]
    },
    {
     "name": "stdout",
     "output_type": "stream",
     "text": [
      "69/69 [==============================] - 4s 32ms/step - loss: 0.1744 - val_loss: 0.3596\n",
      "Epoch 2/30\n",
      "69/69 [==============================] - 2s 26ms/step - loss: 0.0993 - val_loss: 0.4430\n",
      "Epoch 3/30\n",
      "69/69 [==============================] - 2s 25ms/step - loss: 0.0872 - val_loss: 0.4983\n",
      "Epoch 4/30\n",
      "69/69 [==============================] - 2s 26ms/step - loss: 0.0812 - val_loss: 0.4256\n",
      "Epoch 5/30\n",
      "69/69 [==============================] - 2s 25ms/step - loss: 0.0755 - val_loss: 0.3664\n",
      "Epoch 6/30\n",
      "69/69 [==============================] - 2s 26ms/step - loss: 0.0727 - val_loss: 0.2697\n",
      "Epoch 7/30\n",
      "69/69 [==============================] - 2s 26ms/step - loss: 0.0729 - val_loss: 0.1910\n",
      "Epoch 8/30\n",
      "69/69 [==============================] - 2s 25ms/step - loss: 0.0701 - val_loss: 0.1370\n",
      "Epoch 9/30\n",
      "69/69 [==============================] - 2s 26ms/step - loss: 0.0697 - val_loss: 0.1222\n",
      "Epoch 10/30\n",
      "69/69 [==============================] - 2s 25ms/step - loss: 0.0663 - val_loss: 0.0763\n",
      "Epoch 11/30\n",
      "69/69 [==============================] - 2s 25ms/step - loss: 0.0690 - val_loss: 0.0733\n",
      "Epoch 12/30\n",
      "69/69 [==============================] - 2s 25ms/step - loss: 0.0654 - val_loss: 0.0678\n",
      "Epoch 13/30\n",
      "69/69 [==============================] - 2s 25ms/step - loss: 0.0644 - val_loss: 0.0772\n",
      "Epoch 14/30\n",
      "69/69 [==============================] - 2s 25ms/step - loss: 0.0633 - val_loss: 0.0867\n",
      "Epoch 15/30\n",
      "69/69 [==============================] - 2s 25ms/step - loss: 0.0600 - val_loss: 0.0598\n",
      "Epoch 16/30\n",
      "69/69 [==============================] - 2s 25ms/step - loss: 0.0567 - val_loss: 0.0740\n",
      "Epoch 17/30\n",
      "69/69 [==============================] - 2s 25ms/step - loss: 0.0565 - val_loss: 0.0785\n",
      "Epoch 18/30\n",
      "69/69 [==============================] - 2s 25ms/step - loss: 0.0565 - val_loss: 0.0624\n",
      "Epoch 19/30\n",
      "69/69 [==============================] - 2s 25ms/step - loss: 0.0552 - val_loss: 0.0673\n",
      "Epoch 20/30\n",
      "69/69 [==============================] - 2s 25ms/step - loss: 0.0535 - val_loss: 0.0568\n",
      "Epoch 21/30\n",
      "69/69 [==============================] - 2s 25ms/step - loss: 0.0546 - val_loss: 0.0557\n",
      "Epoch 22/30\n",
      "69/69 [==============================] - 2s 25ms/step - loss: 0.0531 - val_loss: 0.0662\n",
      "Epoch 23/30\n",
      "69/69 [==============================] - 2s 25ms/step - loss: 0.0550 - val_loss: 0.0555\n",
      "Epoch 24/30\n",
      "69/69 [==============================] - 2s 25ms/step - loss: 0.0538 - val_loss: 0.0557\n",
      "Epoch 25/30\n",
      "69/69 [==============================] - 2s 25ms/step - loss: 0.0524 - val_loss: 0.0549\n",
      "Epoch 26/30\n",
      "69/69 [==============================] - 2s 25ms/step - loss: 0.0523 - val_loss: 0.0612\n",
      "Epoch 27/30\n",
      "69/69 [==============================] - 2s 25ms/step - loss: 0.0534 - val_loss: 0.0620\n",
      "Epoch 28/30\n",
      "69/69 [==============================] - 2s 25ms/step - loss: 0.0516 - val_loss: 0.0801\n",
      "Epoch 29/30\n",
      "69/69 [==============================] - 2s 25ms/step - loss: 0.0515 - val_loss: 0.0551\n",
      "Epoch 30/30\n",
      "69/69 [==============================] - 2s 25ms/step - loss: 0.0510 - val_loss: 0.0517\n"
     ]
    }
   ],
   "source": [
    "es = EarlyStopping(monitor='val_loss', mode = 'min' , patience = 15, verbose = 1)\n",
    "\n",
    "if os.path.isdir('./training/'):\n",
    "    shutil.rmtree('./training/')\n",
    "\n",
    "os.makedirs('./training/', exist_ok = True)\n",
    "\n",
    "file_path = './training/Epoch_{epoch:03d}_Val_{val_loss:.3f}.hdf5'\n",
    "mc = ModelCheckpoint(file_path, monitor='val_loss', mode='min',verbose=1, \\\n",
    "                     save_best_only=True, save_weights_only=True)\n",
    "\n",
    "\n",
    "hist = model.fit(train_x, train_y, batch_size = 128, epochs =30, validation_data = (valid_x, valid_y))"
   ]
  },
  {
   "cell_type": "code",
   "execution_count": 217,
   "id": "30a8d43b",
   "metadata": {},
   "outputs": [
    {
     "data": {
      "text/plain": [
       "[<matplotlib.lines.Line2D at 0x2ed89d0a0>]"
      ]
     },
     "execution_count": 217,
     "metadata": {},
     "output_type": "execute_result"
    },
    {
     "data": {
      "image/png": "[encoded data removed]",
      "text/plain": [
       "<Figure size 432x288 with 1 Axes>"
      ]
     },
     "metadata": {
      "needs_background": "light"
     },
     "output_type": "display_data"
    }
   ],
   "source": [
    "plt.plot(hist.history['val_loss'])"
   ]
  },
  {
   "cell_type": "code",
   "execution_count": null,
   "id": "68f0d530",
   "metadata": {},
   "outputs": [],
   "source": []
  }
 ],
 "metadata": {
  "kernelspec": {
   "display_name": "Python 3 (ipykernel)",
   "language": "python",
   "name": "python3"
  },
  "language_info": {
   "codemirror_mode": {
    "name": "ipython",
    "version": 3
   },
   "file_extension": ".py",
   "mimetype": "text/x-python",
   "name": "python",
   "nbconvert_exporter": "python",
   "pygments_lexer": "ipython3",
   "version": "3.8.10"
  }
 },
 "nbformat": 4,
 "nbformat_minor": 5
}
