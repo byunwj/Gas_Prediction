{
 "cells": [
  {
   "cell_type": "code",
   "execution_count": 196,
   "id": "6e14af32",
   "metadata": {},
   "outputs": [],
   "source": [
    "import pandas as pd\n",
    "import numpy as np\n",
    "from sklearn.preprocessing import MinMaxScaler\n",
    "from pickle import dump, load\n",
    "import shutil\n"
   ]
  },
  {
   "cell_type": "code",
   "execution_count": 170,
   "id": "268e491c",
   "metadata": {},
   "outputs": [],
   "source": [
    "class data_processor():\n",
    "    \n",
    "    def __init__(self):\n",
    "        self.years     = [2013, 2014, 2015, 2016, 2017, 2018]\n",
    "        self.suppliers = ['A', 'B', 'C', 'D', 'E', 'G', 'H']\n",
    "        self.datas     = self.load_data()\n",
    "        self.month_nums  = [31, 28, 31, 30, 31, 30, 31, 31, 30, 31, 30, 31]\n",
    "        \n",
    "    \n",
    "    def load_data(self):\n",
    "        datas = dict()\n",
    "        for supplier in suppliers:\n",
    "            datas['data_{}'.format(supplier)] = pd.read_csv('./Data/supplier_{}.csv'.format(supplier)) \n",
    "        \n",
    "        return datas\n",
    "    \n",
    "    def get_december_data(self, datas):\n",
    "        # getting the last day of december (31st) of each year except 2018\n",
    "        \n",
    "        training_12_all = []\n",
    "        for key in datas.keys():\n",
    "            training_12  = datas[key][ (datas[key]['month'] == 12) & \\\n",
    "                                      (datas[key]['year'].isin([2013, 2014, 2015,2016, 2017])) ].reset_index(drop = True)\n",
    "\n",
    "\n",
    "            ### for cutting out all december days except the 31st\n",
    "            training_12 = training_12.sort_values(['year', 'month','day']).reset_index(drop=True)\n",
    "\n",
    "            #print(training_12['year'].value_counts())\n",
    "            training_12_cut = []\n",
    "            for i in range(1,6):\n",
    "                training_12_cut.append(training_12.iloc[(744*i)-24:744*i])\n",
    "\n",
    "            training_12_final = pd.concat(training_12_cut, axis = 0).reset_index(drop=True)\n",
    "            #print(training_12_final['year'].value_counts())\n",
    "            \n",
    "            training_12_all.append(training_12_final)\n",
    "            \n",
    "        \n",
    "        return training_12_all\n",
    "    \n",
    "    def get_jan_march_data(self, datas):\n",
    "        \n",
    "        training_1_3_all = []\n",
    "        \n",
    "        for key in datas.keys():  \n",
    "            training_1_3 = datas[key][ (datas[key]['month'].isin([1,2,3])) & \\\n",
    "                             (datas[key]['year'].isin([2014, 2015, 2016, 2017, 2018])) ].reset_index(drop = True)\n",
    "            \n",
    "            training_1_3_all.append(training_1_3)\n",
    "        \n",
    "        return training_1_3_all\n",
    "    \n",
    "    def combine_data(self, training_12_all, training_1_3_all):\n",
    "        \n",
    "        combined_all = []\n",
    "        \n",
    "        assert len(training_12_all) == len(training_1_3_all), \"december and jan-march data lengths should match\"\n",
    "        \n",
    "        for i in range(len(training_12_all)):\n",
    "            training = pd.concat([training_12_all[i], training_1_3_all[i]], axis = 0).reset_index(drop=True)\n",
    "            training = training.sort_values(['year', 'month']).reset_index(drop=True)\n",
    "            \n",
    "            combined_all.append(training)\n",
    "        \n",
    "        return combined_all\n",
    "    \n",
    "    def separate_data(self, combined_data):\n",
    "        # separate 12/31 - 3/31 for each pair of year (e.g. 2013-2014, 2014-2015, etc.)\n",
    "        indices = []\n",
    "        for year in self.years[1:]: # march of 2014-2018\n",
    "            indices.append( combined_data[ (combined_data['year'] == year) & (combined_data['month'] == 3) &\\\n",
    "                           (combined_data['day'] == 31) & (combined_data['시간'] == 24)].index[0] )\n",
    "        print(indices)\n",
    "        training_sep = []\n",
    "        last_idx = 0\n",
    "        for idx in indices:\n",
    "            idx = idx + 1 \n",
    "            #if idx != training_A.shape[0] -1 else idx\n",
    "            training_sep.append(combined_data[last_idx:idx][['공급량', 'year', 'month', 'day', '시간']])\n",
    "            last_idx = idx\n",
    "        \n",
    "        return training_sep\n",
    "    \n",
    "    \n",
    "    def make_scalers(self, combined_all):\n",
    "        combined = combined_all[:]\n",
    "        # change pandas dataframe to numpy ndarray\n",
    "        for i in range(len(combined_all)): # loop through suppliers \n",
    "            supplier = combined[i]['구분'].iloc[0]\n",
    "            assert supplier == self.suppliers[i], 'suppliers should match'\n",
    "            combined[i] = combined[i][['공급량', 'year', 'month', 'day', '시간']].values\n",
    "            #print(combined[i].shape)\n",
    "            x_scaler = MinMaxScaler()\n",
    "            y_scaler = MinMaxScaler()\n",
    "            x_scaler.fit(combined[i])\n",
    "            y_scaler.fit(combined[i][:, [0]])\n",
    "            \n",
    "            path_x = './Scalers/x_scaler_{}.pkl'.format(supplier)\n",
    "            dump(x_scaler, open(path_x, 'wb'))\n",
    "            path_y = './Scalers/y_scaler_{}.pkl'.format(supplier)\n",
    "            dump(y_scaler, open(path_y, 'wb'))\n",
    "            \n",
    "        \n",
    "    \n",
    "    def create_LSTM_Input(self, data, seq_length, step_size):\n",
    "        final_data = np.zeros((data.shape[0]-seq_length, int(seq_length/step_size), data.shape[1]))\n",
    "\n",
    "        length = data.shape[0]\n",
    "\n",
    "        for i in range(final_data.shape[0]):\n",
    "            final_data[i] = data[i:i+seq_length:step_size]\n",
    "\n",
    "        return final_data\n",
    "\n",
    "    def create_LSTM_Output(self, data, seq_length):\n",
    "        final_output = []\n",
    "        length = data.shape[0]\n",
    "\n",
    "        for i in range(seq_length, length):\n",
    "            final_output.append(data[i])\n",
    "\n",
    "        final_output = np.array(final_output)\n",
    "        #final_output = np.expand_dims(final_output, axis = 1)\n",
    "\n",
    "        return final_output\n",
    "\n",
    "    \n",
    "    def separate_data_to_lstm_input(self, sep_data, x_scaler, y_scaler, seq_length): \n",
    "        # need to make each chunck 12-3 into lstm inputs SEPARATELY\n",
    "        lstm_input_lst = []\n",
    "        lstm_output_lst = []\n",
    "        for i in range(len(sep_data)):\n",
    "            sep_values = sep_data[i].values\n",
    "            x_norm = x_scaler.transform(sep_values)\n",
    "            #[:,[0, 4]]\n",
    "            y_norm = y_scaler.transform(sep_values[:, [0]])\n",
    "            lstm_input_lst.append(self.create_LSTM_Input(x_norm, seq_length, 1))\n",
    "            lstm_output_lst.append(self.create_LSTM_Output(y_norm, seq_length))\n",
    "\n",
    "\n",
    "        lstm_input = np.concatenate(lstm_input_lst, axis = 0)\n",
    "        lstm_output = np.concatenate(lstm_output_lst, axis = 0)\n",
    "        \n",
    "        return lstm_input, lstm_output\n",
    "        \n",
    "\n"
   ]
  },
  {
   "cell_type": "code",
   "execution_count": 171,
   "id": "fe46ee9f",
   "metadata": {},
   "outputs": [
    {
     "data": {
      "text/plain": [
       "'/Users/woojaebyun/Documents/Dacon_Gas_Prediction'"
      ]
     },
     "execution_count": 171,
     "metadata": {},
     "output_type": "execute_result"
    }
   ],
   "source": [
    "import os\n",
    "os.getcwd()"
   ]
  },
  {
   "cell_type": "code",
   "execution_count": null,
   "id": "6b5c966e",
   "metadata": {},
   "outputs": [],
   "source": []
  },
  {
   "cell_type": "code",
   "execution_count": 172,
   "id": "950b2284",
   "metadata": {},
   "outputs": [],
   "source": [
    "dp = data_processor()"
   ]
  },
  {
   "cell_type": "code",
   "execution_count": 173,
   "id": "b180a74e",
   "metadata": {},
   "outputs": [
    {
     "data": {
      "text/plain": [
       "array([[1.901489e+03, 2.013000e+03, 1.200000e+01, 3.100000e+01,\n",
       "        1.000000e+00],\n",
       "       [1.706081e+03, 2.013000e+03, 1.200000e+01, 3.100000e+01,\n",
       "        2.000000e+00],\n",
       "       [1.533921e+03, 2.013000e+03, 1.200000e+01, 3.100000e+01,\n",
       "        3.000000e+00],\n",
       "       [1.611033e+03, 2.013000e+03, 1.200000e+01, 3.100000e+01,\n",
       "        4.000000e+00],\n",
       "       [1.792161e+03, 2.013000e+03, 1.200000e+01, 3.100000e+01,\n",
       "        5.000000e+00]])"
      ]
     },
     "execution_count": 173,
     "metadata": {},
     "output_type": "execute_result"
    }
   ],
   "source": [
    "dec_data = dp.get_december_data(dp.datas)\n",
    "jan_march_data = dp.get_jan_march_data(dp.datas)\n",
    "\n",
    "combined_all = dp.combine_data(dec_data, jan_march_data)\n",
    "\n",
    "combined_all[0][['공급량', 'year', 'month', 'day', '시간']].values[:5,]"
   ]
  },
  {
   "cell_type": "code",
   "execution_count": 226,
   "id": "70faf21c",
   "metadata": {},
   "outputs": [
    {
     "name": "stdout",
     "output_type": "stream",
     "text": [
      "[2183, 4367, 6575, 8759, 10943]\n",
      "   Unnamed: 0         연월일  시간 구분      공급량  year  month  day\n",
      "0        8736  2013-12-31   1  H  448.692  2013     12   31\n",
      "1        8737  2013-12-31   2  H  383.316  2013     12   31\n",
      "2        8738  2013-12-31   3  H  321.844  2013     12   31\n",
      "3        8739  2013-12-31   4  H  334.348  2013     12   31\n",
      "4        8740  2013-12-31   5  H  398.196  2013     12   31\n",
      "(10929, 3, 5)\n",
      "(10929, 1)\n"
     ]
    }
   ],
   "source": [
    "sep_data = dp.separate_data(combined_all[6])\n",
    "print(combined_all[6].iloc[:5])\n",
    "\n",
    "x_scaler = load(open('./Scalers/x_scaler_H.pkl', 'rb'))\n",
    "y_scaler = load(open('./Scalers/y_scaler_H.pkl', 'rb'))\n",
    "lstm_input, lstm_output = dp.separate_data_to_lstm_input(sep_data, x_scaler, y_scaler, 3)\n",
    "\n",
    "print(lstm_input.shape)\n",
    "print(lstm_output.shape)"
   ]
  },
  {
   "cell_type": "code",
   "execution_count": 227,
   "id": "ca519229",
   "metadata": {},
   "outputs": [],
   "source": [
    "from sklearn.model_selection import train_test_split\n",
    "\n",
    "train_x, valid_x, train_y, valid_y = train_test_split(lstm_input, lstm_output, test_size = 0.2, random_state = 1311, shuffle=True)\n"
   ]
  },
  {
   "cell_type": "code",
   "execution_count": 189,
   "id": "e2851d04",
   "metadata": {},
   "outputs": [],
   "source": [
    "import tensorflow as tf\n",
    "\n",
    "from tensorflow.keras.layers import Reshape, Dense, Input, LSTM, Flatten, Concatenate, Bidirectional, BatchNormalization, Dropout, ReLU, Activation, ConvLSTM2D, RepeatVector\n",
    "from tensorflow.keras.models import Model\n",
    "from tensorflow.keras.optimizers import Adam\n",
    "from tensorflow.keras.callbacks import ModelCheckpoint, EarlyStopping\n"
   ]
  },
  {
   "cell_type": "code",
   "execution_count": 228,
   "id": "72260c8e",
   "metadata": {},
   "outputs": [
    {
     "name": "stdout",
     "output_type": "stream",
     "text": [
      "Model: \"model_11\"\n",
      "_________________________________________________________________\n",
      "Layer (type)                 Output Shape              Param #   \n",
      "=================================================================\n",
      "input_12 (InputLayer)        [(None, 3, 5)]            0         \n",
      "_________________________________________________________________\n",
      "lstm_22 (LSTM)               (None, 3, 20)             2080      \n",
      "_________________________________________________________________\n",
      "batch_normalization_33 (Batc (None, 3, 20)             80        \n",
      "_________________________________________________________________\n",
      "activation_33 (Activation)   (None, 3, 20)             0         \n",
      "_________________________________________________________________\n",
      "lstm_23 (LSTM)               (None, 3, 10)             1240      \n",
      "_________________________________________________________________\n",
      "batch_normalization_34 (Batc (None, 3, 10)             40        \n",
      "_________________________________________________________________\n",
      "activation_34 (Activation)   (None, 3, 10)             0         \n",
      "_________________________________________________________________\n",
      "flatten_11 (Flatten)         (None, 30)                0         \n",
      "_________________________________________________________________\n",
      "dense_22 (Dense)             (None, 32)                992       \n",
      "_________________________________________________________________\n",
      "batch_normalization_35 (Batc (None, 32)                128       \n",
      "_________________________________________________________________\n",
      "activation_35 (Activation)   (None, 32)                0         \n",
      "_________________________________________________________________\n",
      "dense_23 (Dense)             (None, 1)                 33        \n",
      "=================================================================\n",
      "Total params: 4,593\n",
      "Trainable params: 4,469\n",
      "Non-trainable params: 124\n",
      "_________________________________________________________________\n"
     ]
    },
    {
     "name": "stderr",
     "output_type": "stream",
     "text": [
      "/Users/woojaebyun/miniforge3/envs/mlp/lib/python3.8/site-packages/tensorflow/python/keras/optimizer_v2/optimizer_v2.py:374: UserWarning: The `lr` argument is deprecated, use `learning_rate` instead.\n",
      "  warnings.warn(\n"
     ]
    }
   ],
   "source": [
    "input_x = Input(shape=(3,5)) #(sequence length, num of features) for LSTM; i.e. 50 minutes (sequence of 50 minutes)\n",
    "\n",
    "x = LSTM(20, return_sequences=True)(input_x)\n",
    "x = BatchNormalization()(x)\n",
    "x = Activation('tanh')(x)\n",
    "\n",
    "x = LSTM(10, return_sequences=True)(x)\n",
    "x = BatchNormalization()(x)\n",
    "x = Activation('tanh')(x)\n",
    "\n",
    "x = Flatten()(x)\n",
    "\n",
    "x = Dense(32)(x)\n",
    "x = BatchNormalization()(x)\n",
    "x = Activation('relu')(x)\n",
    "\n",
    "output = Dense(1)(x)\n",
    "\n",
    "\n",
    "model = Model(inputs = input_x, outputs = output)\n",
    "model.compile(loss=\"mean_absolute_error\", optimizer = Adam(lr=0.001)) \n",
    "model.summary()\n"
   ]
  },
  {
   "cell_type": "code",
   "execution_count": 229,
   "id": "5901a682",
   "metadata": {},
   "outputs": [
    {
     "name": "stdout",
     "output_type": "stream",
     "text": [
      "Epoch 1/30\n"
     ]
    },
    {
     "name": "stderr",
     "output_type": "stream",
     "text": [
      "2021-10-21 22:41:28.735639: I tensorflow/core/grappler/optimizers/custom_graph_optimizer_registry.cc:112] Plugin optimizer for device_type GPU is enabled.\n"
     ]
    },
    {
     "name": "stdout",
     "output_type": "stream",
     "text": [
      "\r",
      " 1/69 [..............................] - ETA: 1:33 - loss: 0.3836"
     ]
    },
    {
     "name": "stderr",
     "output_type": "stream",
     "text": [
      "2021-10-21 22:41:28.987776: I tensorflow/core/grappler/optimizers/custom_graph_optimizer_registry.cc:112] Plugin optimizer for device_type GPU is enabled.\n",
      "2021-10-21 22:41:29.021230: I tensorflow/core/grappler/optimizers/custom_graph_optimizer_registry.cc:112] Plugin optimizer for device_type GPU is enabled.\n",
      "2021-10-21 22:41:29.076823: I tensorflow/core/grappler/optimizers/custom_graph_optimizer_registry.cc:112] Plugin optimizer for device_type GPU is enabled.\n",
      "2021-10-21 22:41:29.122809: I tensorflow/core/grappler/optimizers/custom_graph_optimizer_registry.cc:112] Plugin optimizer for device_type GPU is enabled.\n"
     ]
    },
    {
     "name": "stdout",
     "output_type": "stream",
     "text": [
      "69/69 [==============================] - ETA: 0s - loss: 0.1626"
     ]
    },
    {
     "name": "stderr",
     "output_type": "stream",
     "text": [
      "2021-10-21 22:41:31.168805: I tensorflow/core/grappler/optimizers/custom_graph_optimizer_registry.cc:112] Plugin optimizer for device_type GPU is enabled.\n",
      "2021-10-21 22:41:31.233445: I tensorflow/core/grappler/optimizers/custom_graph_optimizer_registry.cc:112] Plugin optimizer for device_type GPU is enabled.\n",
      "2021-10-21 22:41:31.255792: I tensorflow/core/grappler/optimizers/custom_graph_optimizer_registry.cc:112] Plugin optimizer for device_type GPU is enabled.\n"
     ]
    },
    {
     "name": "stdout",
     "output_type": "stream",
     "text": [
      "69/69 [==============================] - 4s 33ms/step - loss: 0.1626 - val_loss: 0.0439\n",
      "\n",
      "Epoch 00001: val_loss improved from inf to 0.04386, saving model to ./Models/training_H/Epoch_001_Val_0.044.hdf5\n",
      "Epoch 2/30\n",
      "69/69 [==============================] - 2s 27ms/step - loss: 0.0794 - val_loss: 0.0921\n",
      "\n",
      "Epoch 00002: val_loss did not improve from 0.04386\n",
      "Epoch 3/30\n",
      "69/69 [==============================] - 2s 27ms/step - loss: 0.0609 - val_loss: 0.1067\n",
      "\n",
      "Epoch 00003: val_loss did not improve from 0.04386\n",
      "Epoch 4/30\n",
      "69/69 [==============================] - 2s 26ms/step - loss: 0.0492 - val_loss: 0.1041\n",
      "\n",
      "Epoch 00004: val_loss did not improve from 0.04386\n",
      "Epoch 5/30\n",
      "69/69 [==============================] - 2s 26ms/step - loss: 0.0434 - val_loss: 0.1097\n",
      "\n",
      "Epoch 00005: val_loss did not improve from 0.04386\n",
      "Epoch 6/30\n",
      "69/69 [==============================] - 2s 26ms/step - loss: 0.0390 - val_loss: 0.1048\n",
      "\n",
      "Epoch 00006: val_loss did not improve from 0.04386\n",
      "Epoch 7/30\n",
      "69/69 [==============================] - 2s 26ms/step - loss: 0.0360 - val_loss: 0.0749\n",
      "\n",
      "Epoch 00007: val_loss did not improve from 0.04386\n",
      "Epoch 8/30\n",
      "69/69 [==============================] - 2s 25ms/step - loss: 0.0319 - val_loss: 0.0483\n",
      "\n",
      "Epoch 00008: val_loss did not improve from 0.04386\n",
      "Epoch 9/30\n",
      "69/69 [==============================] - 2s 25ms/step - loss: 0.0293 - val_loss: 0.0366\n",
      "\n",
      "Epoch 00009: val_loss improved from 0.04386 to 0.03660, saving model to ./Models/training_H/Epoch_009_Val_0.037.hdf5\n",
      "Epoch 10/30\n",
      "69/69 [==============================] - 2s 26ms/step - loss: 0.0258 - val_loss: 0.0425\n",
      "\n",
      "Epoch 00010: val_loss did not improve from 0.03660\n",
      "Epoch 11/30\n",
      "69/69 [==============================] - 2s 25ms/step - loss: 0.0243 - val_loss: 0.0269\n",
      "\n",
      "Epoch 00011: val_loss improved from 0.03660 to 0.02695, saving model to ./Models/training_H/Epoch_011_Val_0.027.hdf5\n",
      "Epoch 12/30\n",
      "69/69 [==============================] - 2s 26ms/step - loss: 0.0235 - val_loss: 0.0271\n",
      "\n",
      "Epoch 00012: val_loss did not improve from 0.02695\n",
      "Epoch 13/30\n",
      "69/69 [==============================] - 2s 26ms/step - loss: 0.0228 - val_loss: 0.0320\n",
      "\n",
      "Epoch 00013: val_loss did not improve from 0.02695\n",
      "Epoch 14/30\n",
      "69/69 [==============================] - 2s 26ms/step - loss: 0.0208 - val_loss: 0.0252\n",
      "\n",
      "Epoch 00014: val_loss improved from 0.02695 to 0.02520, saving model to ./Models/training_H/Epoch_014_Val_0.025.hdf5\n",
      "Epoch 15/30\n",
      "69/69 [==============================] - 2s 26ms/step - loss: 0.0211 - val_loss: 0.0226\n",
      "\n",
      "Epoch 00015: val_loss improved from 0.02520 to 0.02258, saving model to ./Models/training_H/Epoch_015_Val_0.023.hdf5\n",
      "Epoch 16/30\n",
      "69/69 [==============================] - 2s 26ms/step - loss: 0.0221 - val_loss: 0.0619\n",
      "\n",
      "Epoch 00016: val_loss did not improve from 0.02258\n",
      "Epoch 17/30\n",
      "69/69 [==============================] - 2s 26ms/step - loss: 0.0281 - val_loss: 0.0537\n",
      "\n",
      "Epoch 00017: val_loss did not improve from 0.02258\n",
      "Epoch 18/30\n",
      "69/69 [==============================] - 2s 25ms/step - loss: 0.0234 - val_loss: 0.0391\n",
      "\n",
      "Epoch 00018: val_loss did not improve from 0.02258\n",
      "Epoch 19/30\n",
      "69/69 [==============================] - 2s 26ms/step - loss: 0.0234 - val_loss: 0.0413\n",
      "\n",
      "Epoch 00019: val_loss did not improve from 0.02258\n",
      "Epoch 20/30\n",
      "69/69 [==============================] - 2s 26ms/step - loss: 0.0221 - val_loss: 0.0283\n",
      "\n",
      "Epoch 00020: val_loss did not improve from 0.02258\n",
      "Epoch 21/30\n",
      "69/69 [==============================] - 2s 25ms/step - loss: 0.0195 - val_loss: 0.0290\n",
      "\n",
      "Epoch 00021: val_loss did not improve from 0.02258\n",
      "Epoch 22/30\n",
      "69/69 [==============================] - 2s 26ms/step - loss: 0.0183 - val_loss: 0.0230\n",
      "\n",
      "Epoch 00022: val_loss did not improve from 0.02258\n",
      "Epoch 23/30\n",
      "69/69 [==============================] - 2s 26ms/step - loss: 0.0174 - val_loss: 0.0219\n",
      "\n",
      "Epoch 00023: val_loss improved from 0.02258 to 0.02186, saving model to ./Models/training_H/Epoch_023_Val_0.022.hdf5\n",
      "Epoch 24/30\n",
      "69/69 [==============================] - 2s 26ms/step - loss: 0.0167 - val_loss: 0.0322\n",
      "\n",
      "Epoch 00024: val_loss did not improve from 0.02186\n",
      "Epoch 25/30\n",
      "69/69 [==============================] - 2s 26ms/step - loss: 0.0161 - val_loss: 0.0241\n",
      "\n",
      "Epoch 00025: val_loss did not improve from 0.02186\n",
      "Epoch 26/30\n",
      "69/69 [==============================] - 2s 25ms/step - loss: 0.0153 - val_loss: 0.0194\n",
      "\n",
      "Epoch 00026: val_loss improved from 0.02186 to 0.01937, saving model to ./Models/training_H/Epoch_026_Val_0.019.hdf5\n",
      "Epoch 27/30\n",
      "69/69 [==============================] - 2s 26ms/step - loss: 0.0154 - val_loss: 0.0141\n",
      "\n",
      "Epoch 00027: val_loss improved from 0.01937 to 0.01406, saving model to ./Models/training_H/Epoch_027_Val_0.014.hdf5\n",
      "Epoch 28/30\n",
      "69/69 [==============================] - 2s 25ms/step - loss: 0.0149 - val_loss: 0.0153\n",
      "\n",
      "Epoch 00028: val_loss did not improve from 0.01406\n",
      "Epoch 29/30\n",
      "69/69 [==============================] - 2s 25ms/step - loss: 0.0146 - val_loss: 0.0139\n",
      "\n",
      "Epoch 00029: val_loss improved from 0.01406 to 0.01389, saving model to ./Models/training_H/Epoch_029_Val_0.014.hdf5\n",
      "Epoch 30/30\n",
      "69/69 [==============================] - 2s 26ms/step - loss: 0.0142 - val_loss: 0.0140\n",
      "\n",
      "Epoch 00030: val_loss did not improve from 0.01389\n"
     ]
    }
   ],
   "source": [
    "es = EarlyStopping(monitor='val_loss', mode = 'min' , patience = 10, verbose = 1)\n",
    "\n",
    "path = './Models/training_{}'.format('H')\n",
    "if os.path.isdir(path):\n",
    "    shutil.rmtree(path)\n",
    "\n",
    "os.makedirs(path, exist_ok = True)\n",
    "\n",
    "file_path = path + '/Epoch_{epoch:03d}_Val_{val_loss:.3f}.hdf5'\n",
    "mc = ModelCheckpoint(file_path, monitor='val_loss', mode='min',verbose=1, \\\n",
    "                     save_best_only=True, save_weights_only=True)\n",
    "\n",
    "hist = model.fit(train_x, train_y, batch_size = 128, epochs =30, validation_data = (valid_x, valid_y), callbacks = [es, mc])"
   ]
  },
  {
   "cell_type": "code",
   "execution_count": 217,
   "id": "c9e0d40d",
   "metadata": {},
   "outputs": [
    {
     "data": {
      "text/plain": [
       "[<matplotlib.lines.Line2D at 0x2c04d97c0>]"
      ]
     },
     "execution_count": 217,
     "metadata": {},
     "output_type": "execute_result"
    },
    {
     "data": {
      "image/png": "[encoded data removed]",
      "text/plain": [
       "<Figure size 432x288 with 1 Axes>"
      ]
     },
     "metadata": {
      "needs_background": "light"
     },
     "output_type": "display_data"
    }
   ],
   "source": [
    "from matplotlib import pyplot as plt\n",
    "plt.plot(hist.history['val_loss'])"
   ]
  },
  {
   "cell_type": "code",
   "execution_count": null,
   "id": "d8151bd0",
   "metadata": {},
   "outputs": [],
   "source": []
  }
 ],
 "metadata": {
  "kernelspec": {
   "display_name": "Python 3 (ipykernel)",
   "language": "python",
   "name": "python3"
  },
  "language_info": {
   "codemirror_mode": {
    "name": "ipython",
    "version": 3
   },
   "file_extension": ".py",
   "mimetype": "text/x-python",
   "name": "python",
   "nbconvert_exporter": "python",
   "pygments_lexer": "ipython3",
   "version": "3.8.10"
  }
 },
 "nbformat": 4,
 "nbformat_minor": 5
}
