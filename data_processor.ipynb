{
 "cells": [
  {
   "cell_type": "code",
   "execution_count": 2,
   "id": "0963d50c",
   "metadata": {},
   "outputs": [],
   "source": [
    "import pandas as pd\n",
    "import numpy as np"
   ]
  },
  {
   "cell_type": "code",
   "execution_count": 82,
   "id": "4930b2b2",
   "metadata": {},
   "outputs": [
    {
     "ename": "SyntaxError",
     "evalue": "invalid syntax (4291147852.py, line 74)",
     "output_type": "error",
     "traceback": [
      "\u001b[0;36m  File \u001b[0;32m\"/var/folders/cy/y3tvnwx10nqc9qqg0b1wb7wr0000gn/T/ipykernel_76441/4291147852.py\"\u001b[0;36m, line \u001b[0;32m74\u001b[0m\n\u001b[0;31m    training_sep = []\u001b[0m\n\u001b[0m    ^\u001b[0m\n\u001b[0;31mSyntaxError\u001b[0m\u001b[0;31m:\u001b[0m invalid syntax\n"
     ]
    }
   ],
   "source": [
    "class data_processor():\n",
    "    \n",
    "    def __init__(self):\n",
    "        self.years     = [2013, 2014, 2015, 2016, 2017, 2018]\n",
    "        self.suppliers = ['A', 'B', 'C', 'D', 'E', 'G', 'H']\n",
    "        self.datas     = self.load_data()\n",
    "        self.month_nums  = [31, 28, 31, 30, 31, 30, 31, 31, 30, 31, 30, 31]\n",
    "        \n",
    "    \n",
    "    def load_data(self):\n",
    "        datas = dict()\n",
    "        for supplier in suppliers:\n",
    "            datas['data_{}'.format(supplier)] = pd.read_csv('./Data/supplier_{}.csv'.format(supplier)) \n",
    "        \n",
    "        return datas\n",
    "    \n",
    "    def get_december_data(self, datas):\n",
    "        # getting the last day of december (31st) of each year except 2018\n",
    "        \n",
    "        training_12_all = []\n",
    "        for key in datas.keys():\n",
    "            training_12  = datas[key][ (datas[key]['month'] == 12) & \\\n",
    "                                      (datas[key]['year'].isin([2013, 2014, 2015,2016, 2017])) ].reset_index(drop = True)\n",
    "\n",
    "\n",
    "            ### for cutting out all december days except the 31st\n",
    "            training_12 = training_12.sort_values(['year', 'month','day']).reset_index(drop=True)\n",
    "\n",
    "            #print(training_12['year'].value_counts())\n",
    "            training_12_cut = []\n",
    "            for i in range(1,6):\n",
    "                training_12_cut.append(training_12.iloc[(744*i)-24:744*i])\n",
    "\n",
    "            training_12_final = pd.concat(training_12_cut, axis = 0).reset_index(drop=True)\n",
    "            #print(training_12_final['year'].value_counts())\n",
    "            \n",
    "            training_12_all.append(training_12_final)\n",
    "            \n",
    "        \n",
    "        return training_12_all\n",
    "    \n",
    "    def get_jan_march_data(self, datas):\n",
    "        \n",
    "        training_1_3_all = []\n",
    "        \n",
    "        for key in datas.keys():  \n",
    "            training_1_3 = datas[key][ (datas[key]['month'].isin([1,2,3])) & \\\n",
    "                             (datas[key]['year'].isin([2014, 2015, 2016, 2017, 2018])) ].reset_index(drop = True)\n",
    "            \n",
    "            training_1_3_all.append(training_1_3)\n",
    "        \n",
    "        return training_1_3_all\n",
    "    \n",
    "    def combine_data(self, training_12_all, training_1_3_all):\n",
    "        \n",
    "        combined_all = []\n",
    "        \n",
    "        assert len(training_12_all) == len(training_1_3_all), \"december and jan-march data lengths should match\"\n",
    "        \n",
    "        for i in range(len(training_12_all)):\n",
    "            training = pd.concat([training_12_all[i], training_1_3_all[i]], axis = 0).reset_index(drop=True)\n",
    "            training = training.sort_values(['year', 'month']).reset_index(drop=True)\n",
    "            \n",
    "            combined_all.append(training)\n",
    "        \n",
    "        return combined_all\n",
    "    \n",
    "    def separate_data(self, combined_data):\n",
    "        # separate 12/31 - 3/31 for each pair of year (e.g. 2013-2014, 2014-2015, etc.)\n",
    "        indices = []\n",
    "        for year in self.years:\n",
    "            indices.append( combined_data[ (combined_data['year'] == year) & (combined_data['month'] == 3) &\\\n",
    "                           (combined_data['day'] == 31) & (combined_data['시간'] == 24)].index[0] )\n",
    "        training_sep = []\n",
    "        last_idx = 0\n",
    "        for idx in indices:\n",
    "            idx = idx + 1 \n",
    "            #if idx != training_A.shape[0] -1 else idx\n",
    "            training_sep.append(combined_data[last_idx:idx][['공급량', 'year', 'month', 'day', '시간']])\n",
    "            last_idx = idx\n",
    "        \n",
    "        return training_sep\n",
    "\n",
    "\n"
   ]
  },
  {
   "cell_type": "code",
   "execution_count": 83,
   "id": "6820eca2",
   "metadata": {},
   "outputs": [
    {
     "data": {
      "text/plain": [
       "'/Users/woojaebyun/Documents/Dacon_Gas_Prediction'"
      ]
     },
     "execution_count": 83,
     "metadata": {},
     "output_type": "execute_result"
    }
   ],
   "source": [
    "import os\n",
    "os.getcwd()"
   ]
  },
  {
   "cell_type": "code",
   "execution_count": null,
   "id": "dcf50d79",
   "metadata": {},
   "outputs": [],
   "source": []
  },
  {
   "cell_type": "code",
   "execution_count": 79,
   "id": "0aa7a5a5",
   "metadata": {},
   "outputs": [],
   "source": [
    "dp = data_processor()"
   ]
  },
  {
   "cell_type": "code",
   "execution_count": 80,
   "id": "626bdea6",
   "metadata": {},
   "outputs": [],
   "source": [
    "dec_data = dp.get_december_data(dp.datas)\n",
    "jan_march_data = dp.get_jan_march_data(dp.datas)\n",
    "\n",
    "combined_all = dp.combine_data(dec_data, jan_march_data)"
   ]
  },
  {
   "cell_type": "code",
   "execution_count": 81,
   "id": "334ca3cf",
   "metadata": {},
   "outputs": [
    {
     "ename": "IndexError",
     "evalue": "index 0 is out of bounds for axis 0 with size 0",
     "output_type": "error",
     "traceback": [
      "\u001b[0;31m---------------------------------------------------------------------------\u001b[0m",
      "\u001b[0;31mIndexError\u001b[0m                                Traceback (most recent call last)",
      "\u001b[0;32m/var/folders/cy/y3tvnwx10nqc9qqg0b1wb7wr0000gn/T/ipykernel_76441/4198632225.py\u001b[0m in \u001b[0;36m<module>\u001b[0;34m\u001b[0m\n\u001b[0;32m----> 1\u001b[0;31m \u001b[0msep_data\u001b[0m \u001b[0;34m=\u001b[0m \u001b[0mdp\u001b[0m\u001b[0;34m.\u001b[0m\u001b[0mseparate_data\u001b[0m\u001b[0;34m(\u001b[0m\u001b[0mcombined_all\u001b[0m\u001b[0;34m[\u001b[0m\u001b[0;36m0\u001b[0m\u001b[0;34m]\u001b[0m\u001b[0;34m)\u001b[0m\u001b[0;34m\u001b[0m\u001b[0;34m\u001b[0m\u001b[0m\n\u001b[0m",
      "\u001b[0;32m/var/folders/cy/y3tvnwx10nqc9qqg0b1wb7wr0000gn/T/ipykernel_76441/2938681150.py\u001b[0m in \u001b[0;36mseparate_data\u001b[0;34m(self, combined_data)\u001b[0m\n\u001b[1;32m     70\u001b[0m         \u001b[0mindices\u001b[0m \u001b[0;34m=\u001b[0m \u001b[0;34m[\u001b[0m\u001b[0;34m]\u001b[0m\u001b[0;34m\u001b[0m\u001b[0;34m\u001b[0m\u001b[0m\n\u001b[1;32m     71\u001b[0m         \u001b[0;32mfor\u001b[0m \u001b[0myear\u001b[0m \u001b[0;32min\u001b[0m \u001b[0mself\u001b[0m\u001b[0;34m.\u001b[0m\u001b[0myears\u001b[0m\u001b[0;34m:\u001b[0m\u001b[0;34m\u001b[0m\u001b[0;34m\u001b[0m\u001b[0m\n\u001b[0;32m---> 72\u001b[0;31m             indices.append(combined_data[(combined_data['year'] == year) & (combined_data['month'] == 3) &\\\n\u001b[0m\u001b[1;32m     73\u001b[0m                            (combined_data['day'] == 31) & (combined_data['시간'] == 24)].index[0])\n\u001b[1;32m     74\u001b[0m         \u001b[0mtraining_sep\u001b[0m \u001b[0;34m=\u001b[0m \u001b[0;34m[\u001b[0m\u001b[0;34m]\u001b[0m\u001b[0;34m\u001b[0m\u001b[0;34m\u001b[0m\u001b[0m\n",
      "\u001b[0;32m~/miniforge3/envs/mlp/lib/python3.8/site-packages/pandas/core/indexes/base.py\u001b[0m in \u001b[0;36m__getitem__\u001b[0;34m(self, key)\u001b[0m\n\u001b[1;32m   4602\u001b[0m         \u001b[0;32mif\u001b[0m \u001b[0mis_scalar\u001b[0m\u001b[0;34m(\u001b[0m\u001b[0mkey\u001b[0m\u001b[0;34m)\u001b[0m\u001b[0;34m:\u001b[0m\u001b[0;34m\u001b[0m\u001b[0;34m\u001b[0m\u001b[0m\n\u001b[1;32m   4603\u001b[0m             \u001b[0mkey\u001b[0m \u001b[0;34m=\u001b[0m \u001b[0mcom\u001b[0m\u001b[0;34m.\u001b[0m\u001b[0mcast_scalar_indexer\u001b[0m\u001b[0;34m(\u001b[0m\u001b[0mkey\u001b[0m\u001b[0;34m,\u001b[0m \u001b[0mwarn_float\u001b[0m\u001b[0;34m=\u001b[0m\u001b[0;32mTrue\u001b[0m\u001b[0;34m)\u001b[0m\u001b[0;34m\u001b[0m\u001b[0;34m\u001b[0m\u001b[0m\n\u001b[0;32m-> 4604\u001b[0;31m             \u001b[0;32mreturn\u001b[0m \u001b[0mgetitem\u001b[0m\u001b[0;34m(\u001b[0m\u001b[0mkey\u001b[0m\u001b[0;34m)\u001b[0m\u001b[0;34m\u001b[0m\u001b[0;34m\u001b[0m\u001b[0m\n\u001b[0m\u001b[1;32m   4605\u001b[0m \u001b[0;34m\u001b[0m\u001b[0m\n\u001b[1;32m   4606\u001b[0m         \u001b[0;32mif\u001b[0m \u001b[0misinstance\u001b[0m\u001b[0;34m(\u001b[0m\u001b[0mkey\u001b[0m\u001b[0;34m,\u001b[0m \u001b[0mslice\u001b[0m\u001b[0;34m)\u001b[0m\u001b[0;34m:\u001b[0m\u001b[0;34m\u001b[0m\u001b[0;34m\u001b[0m\u001b[0m\n",
      "\u001b[0;31mIndexError\u001b[0m: index 0 is out of bounds for axis 0 with size 0"
     ]
    }
   ],
   "source": [
    "sep_data = dp.separate_data(combined_all[0])"
   ]
  },
  {
   "cell_type": "code",
   "execution_count": null,
   "id": "0bca4c0a",
   "metadata": {},
   "outputs": [],
   "source": [
    "comb"
   ]
  },
  {
   "cell_type": "code",
   "execution_count": null,
   "id": "00de2ece",
   "metadata": {},
   "outputs": [],
   "source": []
  }
 ],
 "metadata": {
  "kernelspec": {
   "display_name": "Python 3 (ipykernel)",
   "language": "python",
   "name": "python3"
  },
  "language_info": {
   "codemirror_mode": {
    "name": "ipython",
    "version": 3
   },
   "file_extension": ".py",
   "mimetype": "text/x-python",
   "name": "python",
   "nbconvert_exporter": "python",
   "pygments_lexer": "ipython3",
   "version": "3.8.10"
  }
 },
 "nbformat": 4,
 "nbformat_minor": 5
}
